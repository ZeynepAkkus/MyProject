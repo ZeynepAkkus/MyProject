{
 "cells": [
  {
   "cell_type": "markdown",
   "metadata": {},
   "source": [
    "___\n",
    "\n",
    "<p style=\"text-align: center;\"><img src=\"https://docs.google.com/uc?id=1lY0Uj5R04yMY3-ZppPWxqCr5pvBLYPnV\" class=\"img-fluid\" alt=\"CLRSWY\"></p>\n",
    "\n",
    "___"
   ]
  },
  {
   "cell_type": "markdown",
   "metadata": {},
   "source": [
    "# WELCOME!"
   ]
  },
  {
   "cell_type": "markdown",
   "metadata": {},
   "source": [
    "## Introduction\n",
    "Welcome to \"***AutoScout Data Analysis Project***\". This is the capstone project of ***Data Analysis*** Module. **Auto Scout** data which using for this project, scraped from the on-line car trading company in 2019, contains many features of 9 different car models. In this project, you will have the opportunity to apply many commonly used algorithms for Data Cleaning and Exploratory Data Analysis by using many Python libraries such as Numpy, Pandas, Matplotlib, Seaborn, Scipy you will analyze clean dataset.\n",
    "\n",
    "The project consists of 3 parts:\n",
    "* First part is related with 'data cleaning'. It deals with Incorrect Headers, Incorrect Format, Anomalies, Dropping useless columns.\n",
    "* Second part is related with 'filling data'. It deals with Missing Values. Categorical to numeric transformation is done.\n",
    "* Third part is related with 'handling outliers of data' via Visualisation libraries. Some insights are extracted.\n"
   ]
  },
  {
   "cell_type": "markdown",
   "metadata": {},
   "source": [
    "# PART- 1 `( Data Cleaning )`"
   ]
  },
  {
   "cell_type": "code",
   "execution_count": 109,
   "metadata": {},
   "outputs": [],
   "source": [
    "import numpy as np\n",
    "import pandas as pd\n",
    "import seaborn as sns\n",
    "from scipy import stats\n",
    "import matplotlib.pyplot as plt"
   ]
  },
  {
   "cell_type": "code",
   "execution_count": 185,
   "metadata": {},
   "outputs": [],
   "source": [
    "import json\n",
    "import re"
   ]
  },
  {
   "cell_type": "code",
   "execution_count": 111,
   "metadata": {},
   "outputs": [],
   "source": [
    "df=pd.read_json('scout_car.json', lines=True )\n"
   ]
  },
  {
   "cell_type": "code",
   "execution_count": 112,
   "metadata": {},
   "outputs": [
    {
     "data": {
      "text/html": [
       "<div>\n",
       "<style scoped>\n",
       "    .dataframe tbody tr th:only-of-type {\n",
       "        vertical-align: middle;\n",
       "    }\n",
       "\n",
       "    .dataframe tbody tr th {\n",
       "        vertical-align: top;\n",
       "    }\n",
       "\n",
       "    .dataframe thead th {\n",
       "        text-align: right;\n",
       "    }\n",
       "</style>\n",
       "<table border=\"1\" class=\"dataframe\">\n",
       "  <thead>\n",
       "    <tr style=\"text-align: right;\">\n",
       "      <th></th>\n",
       "      <th>0</th>\n",
       "      <th>1</th>\n",
       "      <th>2</th>\n",
       "      <th>3</th>\n",
       "      <th>4</th>\n",
       "    </tr>\n",
       "  </thead>\n",
       "  <tbody>\n",
       "    <tr>\n",
       "      <th>url</th>\n",
       "      <td>https://www.autoscout24.com//offers/audi-a1-sp...</td>\n",
       "      <td>https://www.autoscout24.com//offers/audi-a1-1-...</td>\n",
       "      <td>https://www.autoscout24.com//offers/audi-a1-sp...</td>\n",
       "      <td>https://www.autoscout24.com//offers/audi-a1-1-...</td>\n",
       "      <td>https://www.autoscout24.com//offers/audi-a1-sp...</td>\n",
       "    </tr>\n",
       "    <tr>\n",
       "      <th>make_model</th>\n",
       "      <td>Audi A1</td>\n",
       "      <td>Audi A1</td>\n",
       "      <td>Audi A1</td>\n",
       "      <td>Audi A1</td>\n",
       "      <td>Audi A1</td>\n",
       "    </tr>\n",
       "    <tr>\n",
       "      <th>short_description</th>\n",
       "      <td>Sportback 1.4 TDI S-tronic Xenon Navi Klima</td>\n",
       "      <td>1.8 TFSI sport</td>\n",
       "      <td>Sportback 1.6 TDI S tronic Einparkhilfe plus+m...</td>\n",
       "      <td>1.4 TDi Design S tronic</td>\n",
       "      <td>Sportback 1.4 TDI S-Tronic S-Line Ext. admired...</td>\n",
       "    </tr>\n",
       "    <tr>\n",
       "      <th>body_type</th>\n",
       "      <td>Sedans</td>\n",
       "      <td>Sedans</td>\n",
       "      <td>Sedans</td>\n",
       "      <td>Sedans</td>\n",
       "      <td>Sedans</td>\n",
       "    </tr>\n",
       "    <tr>\n",
       "      <th>price</th>\n",
       "      <td>15770</td>\n",
       "      <td>14500</td>\n",
       "      <td>14640</td>\n",
       "      <td>14500</td>\n",
       "      <td>16790</td>\n",
       "    </tr>\n",
       "    <tr>\n",
       "      <th>vat</th>\n",
       "      <td>VAT deductible</td>\n",
       "      <td>Price negotiable</td>\n",
       "      <td>VAT deductible</td>\n",
       "      <td>None</td>\n",
       "      <td>None</td>\n",
       "    </tr>\n",
       "    <tr>\n",
       "      <th>km</th>\n",
       "      <td>56,013 km</td>\n",
       "      <td>80,000 km</td>\n",
       "      <td>83,450 km</td>\n",
       "      <td>73,000 km</td>\n",
       "      <td>16,200 km</td>\n",
       "    </tr>\n",
       "    <tr>\n",
       "      <th>registration</th>\n",
       "      <td>01/2016</td>\n",
       "      <td>03/2017</td>\n",
       "      <td>02/2016</td>\n",
       "      <td>08/2016</td>\n",
       "      <td>05/2016</td>\n",
       "    </tr>\n",
       "    <tr>\n",
       "      <th>prev_owner</th>\n",
       "      <td>2 previous owners</td>\n",
       "      <td>None</td>\n",
       "      <td>1 previous owner</td>\n",
       "      <td>1 previous owner</td>\n",
       "      <td>1 previous owner</td>\n",
       "    </tr>\n",
       "    <tr>\n",
       "      <th>kW</th>\n",
       "      <td>NaN</td>\n",
       "      <td>NaN</td>\n",
       "      <td>NaN</td>\n",
       "      <td>NaN</td>\n",
       "      <td>NaN</td>\n",
       "    </tr>\n",
       "    <tr>\n",
       "      <th>hp</th>\n",
       "      <td>66 kW</td>\n",
       "      <td>141 kW</td>\n",
       "      <td>85 kW</td>\n",
       "      <td>66 kW</td>\n",
       "      <td>66 kW</td>\n",
       "    </tr>\n",
       "    <tr>\n",
       "      <th>Type</th>\n",
       "      <td>[, Used, , Diesel (Particulate Filter)]</td>\n",
       "      <td>[, Used, , Gasoline]</td>\n",
       "      <td>[, Used, , Diesel (Particulate Filter)]</td>\n",
       "      <td>[, Used, , Diesel (Particulate Filter)]</td>\n",
       "      <td>[, Used, , Diesel (Particulate Filter)]</td>\n",
       "    </tr>\n",
       "    <tr>\n",
       "      <th>Previous Owners</th>\n",
       "      <td>\\n2\\n</td>\n",
       "      <td>NaN</td>\n",
       "      <td>\\n1\\n</td>\n",
       "      <td>\\n1\\n</td>\n",
       "      <td>\\n1\\n</td>\n",
       "    </tr>\n",
       "    <tr>\n",
       "      <th>Next Inspection</th>\n",
       "      <td>[\\n06/2021\\n, \\n99 g CO2/km (comb)\\n]</td>\n",
       "      <td>NaN</td>\n",
       "      <td>NaN</td>\n",
       "      <td>NaN</td>\n",
       "      <td>NaN</td>\n",
       "    </tr>\n",
       "    <tr>\n",
       "      <th>Inspection new</th>\n",
       "      <td>[\\nYes\\n, \\nEuro 6\\n]</td>\n",
       "      <td>NaN</td>\n",
       "      <td>NaN</td>\n",
       "      <td>NaN</td>\n",
       "      <td>[\\nYes\\n, \\n109 g CO2/km (comb)\\n]</td>\n",
       "    </tr>\n",
       "    <tr>\n",
       "      <th>Warranty</th>\n",
       "      <td>[\\n, \\n, \\n4 (Green)\\n]</td>\n",
       "      <td>NaN</td>\n",
       "      <td>[\\n, \\n, \\n99 g CO2/km (comb)\\n]</td>\n",
       "      <td>NaN</td>\n",
       "      <td>[\\n, \\n, \\nEuro 6\\n]</td>\n",
       "    </tr>\n",
       "    <tr>\n",
       "      <th>Full Service</th>\n",
       "      <td>[\\n, \\n]</td>\n",
       "      <td>NaN</td>\n",
       "      <td>NaN</td>\n",
       "      <td>[\\n, \\n, \\n99 g CO2/km (comb)\\n]</td>\n",
       "      <td>[\\n, \\n, \\n4 (Green)\\n]</td>\n",
       "    </tr>\n",
       "    <tr>\n",
       "      <th>Non-smoking Vehicle</th>\n",
       "      <td>[\\n, \\n]</td>\n",
       "      <td>NaN</td>\n",
       "      <td>NaN</td>\n",
       "      <td>[\\n, \\n, \\nEuro 6\\n]</td>\n",
       "      <td>[\\n, \\n]</td>\n",
       "    </tr>\n",
       "    <tr>\n",
       "      <th>null</th>\n",
       "      <td>[]</td>\n",
       "      <td>[]</td>\n",
       "      <td>[]</td>\n",
       "      <td>[]</td>\n",
       "      <td>[]</td>\n",
       "    </tr>\n",
       "    <tr>\n",
       "      <th>Make</th>\n",
       "      <td>\\nAudi\\n</td>\n",
       "      <td>\\nAudi\\n</td>\n",
       "      <td>\\nAudi\\n</td>\n",
       "      <td>\\nAudi\\n</td>\n",
       "      <td>\\nAudi\\n</td>\n",
       "    </tr>\n",
       "    <tr>\n",
       "      <th>Model</th>\n",
       "      <td>[\\n, A1, \\n]</td>\n",
       "      <td>[\\n, A1, \\n]</td>\n",
       "      <td>[\\n, A1, \\n]</td>\n",
       "      <td>[\\n, A1, \\n]</td>\n",
       "      <td>[\\n, A1, \\n]</td>\n",
       "    </tr>\n",
       "    <tr>\n",
       "      <th>Offer Number</th>\n",
       "      <td>[\\nLR-062483\\n]</td>\n",
       "      <td>NaN</td>\n",
       "      <td>[\\nAM-95365\\n]</td>\n",
       "      <td>NaN</td>\n",
       "      <td>[\\nC1626\\n]</td>\n",
       "    </tr>\n",
       "    <tr>\n",
       "      <th>First Registration</th>\n",
       "      <td>[\\n, 2016, \\n]</td>\n",
       "      <td>[\\n, 2017, \\n]</td>\n",
       "      <td>[\\n, 2016, \\n]</td>\n",
       "      <td>[\\n, 2016, \\n]</td>\n",
       "      <td>[\\n, 2016, \\n]</td>\n",
       "    </tr>\n",
       "    <tr>\n",
       "      <th>Body Color</th>\n",
       "      <td>[\\n, Black, \\n]</td>\n",
       "      <td>[\\n, Red, \\n]</td>\n",
       "      <td>[\\n, Black, \\n]</td>\n",
       "      <td>[\\n, Brown, \\n]</td>\n",
       "      <td>[\\n, Black, \\n]</td>\n",
       "    </tr>\n",
       "    <tr>\n",
       "      <th>Paint Type</th>\n",
       "      <td>[\\nMetallic\\n]</td>\n",
       "      <td>NaN</td>\n",
       "      <td>[\\nMetallic\\n]</td>\n",
       "      <td>[\\nMetallic\\n]</td>\n",
       "      <td>[\\nMetallic\\n]</td>\n",
       "    </tr>\n",
       "    <tr>\n",
       "      <th>Body Color Original</th>\n",
       "      <td>[\\nMythosschwarz\\n]</td>\n",
       "      <td>NaN</td>\n",
       "      <td>[\\nmythosschwarz metallic\\n]</td>\n",
       "      <td>NaN</td>\n",
       "      <td>[\\nMythosschwarz Metallic\\n]</td>\n",
       "    </tr>\n",
       "    <tr>\n",
       "      <th>Upholstery</th>\n",
       "      <td>[\\nCloth, Black\\n]</td>\n",
       "      <td>[\\nCloth, Grey\\n]</td>\n",
       "      <td>[\\nCloth, Black\\n]</td>\n",
       "      <td>NaN</td>\n",
       "      <td>[\\nCloth, Black\\n]</td>\n",
       "    </tr>\n",
       "    <tr>\n",
       "      <th>Body</th>\n",
       "      <td>[\\n, Sedans, \\n]</td>\n",
       "      <td>[\\n, Sedans, \\n]</td>\n",
       "      <td>[\\n, Sedans, \\n]</td>\n",
       "      <td>[\\n, Sedans, \\n]</td>\n",
       "      <td>[\\n, Sedans, \\n]</td>\n",
       "    </tr>\n",
       "    <tr>\n",
       "      <th>Nr. of Doors</th>\n",
       "      <td>[\\n5\\n]</td>\n",
       "      <td>[\\n3\\n]</td>\n",
       "      <td>[\\n4\\n]</td>\n",
       "      <td>[\\n3\\n]</td>\n",
       "      <td>[\\n5\\n]</td>\n",
       "    </tr>\n",
       "    <tr>\n",
       "      <th>Nr. of Seats</th>\n",
       "      <td>[\\n5\\n]</td>\n",
       "      <td>[\\n4\\n]</td>\n",
       "      <td>[\\n4\\n]</td>\n",
       "      <td>[\\n4\\n]</td>\n",
       "      <td>[\\n5\\n]</td>\n",
       "    </tr>\n",
       "    <tr>\n",
       "      <th>Model Code</th>\n",
       "      <td>[\\n0588/BDF\\n]</td>\n",
       "      <td>[\\n0588/BCY\\n]</td>\n",
       "      <td>NaN</td>\n",
       "      <td>NaN</td>\n",
       "      <td>[\\n0588/BDF\\n]</td>\n",
       "    </tr>\n",
       "    <tr>\n",
       "      <th>Gearing Type</th>\n",
       "      <td>[\\n, Automatic, \\n]</td>\n",
       "      <td>[\\n, Automatic, \\n]</td>\n",
       "      <td>[\\n, Automatic, \\n]</td>\n",
       "      <td>[\\n, Automatic, \\n]</td>\n",
       "      <td>[\\n, Automatic, \\n]</td>\n",
       "    </tr>\n",
       "    <tr>\n",
       "      <th>Displacement</th>\n",
       "      <td>[\\n1,422 cc\\n]</td>\n",
       "      <td>[\\n1,798 cc\\n]</td>\n",
       "      <td>[\\n1,598 cc\\n]</td>\n",
       "      <td>[\\n1,422 cc\\n]</td>\n",
       "      <td>[\\n1,422 cc\\n]</td>\n",
       "    </tr>\n",
       "    <tr>\n",
       "      <th>Cylinders</th>\n",
       "      <td>[\\n3\\n]</td>\n",
       "      <td>[\\n4\\n]</td>\n",
       "      <td>NaN</td>\n",
       "      <td>[\\n3\\n]</td>\n",
       "      <td>[\\n3\\n]</td>\n",
       "    </tr>\n",
       "    <tr>\n",
       "      <th>Weight</th>\n",
       "      <td>[\\n1,220 kg\\n]</td>\n",
       "      <td>[\\n1,255 kg\\n]</td>\n",
       "      <td>NaN</td>\n",
       "      <td>[\\n1,195 kg\\n]</td>\n",
       "      <td>NaN</td>\n",
       "    </tr>\n",
       "    <tr>\n",
       "      <th>Drive chain</th>\n",
       "      <td>[\\nfront\\n]</td>\n",
       "      <td>[\\nfront\\n]</td>\n",
       "      <td>[\\nfront\\n]</td>\n",
       "      <td>NaN</td>\n",
       "      <td>[\\nfront\\n]</td>\n",
       "    </tr>\n",
       "    <tr>\n",
       "      <th>Fuel</th>\n",
       "      <td>[\\n, Diesel (Particulate Filter), \\n]</td>\n",
       "      <td>[\\n, Gasoline, \\n]</td>\n",
       "      <td>[\\n, Diesel (Particulate Filter), \\n]</td>\n",
       "      <td>[\\n, Diesel (Particulate Filter), \\n]</td>\n",
       "      <td>[\\n, Diesel (Particulate Filter), \\n]</td>\n",
       "    </tr>\n",
       "    <tr>\n",
       "      <th>Consumption</th>\n",
       "      <td>[[3.8 l/100 km (comb)], [4.3 l/100 km (city)],...</td>\n",
       "      <td>[[5.6 l/100 km (comb)], [7.1 l/100 km (city)],...</td>\n",
       "      <td>[[3.8 l/100 km (comb)], [4.4 l/100 km (city)],...</td>\n",
       "      <td>[[3.8 l/100 km (comb)], [4.3 l/100 km (city)],...</td>\n",
       "      <td>[[4.1 l/100 km (comb)], [4.6 l/100 km (city)],...</td>\n",
       "    </tr>\n",
       "    <tr>\n",
       "      <th>CO2 Emission</th>\n",
       "      <td>[\\n99 g CO2/km (comb)\\n]</td>\n",
       "      <td>[\\n129 g CO2/km (comb)\\n]</td>\n",
       "      <td>[\\n99 g CO2/km (comb)\\n]</td>\n",
       "      <td>[\\n99 g CO2/km (comb)\\n]</td>\n",
       "      <td>[\\n109 g CO2/km (comb)\\n]</td>\n",
       "    </tr>\n",
       "    <tr>\n",
       "      <th>Emission Class</th>\n",
       "      <td>[\\nEuro 6\\n]</td>\n",
       "      <td>[\\nEuro 6\\n]</td>\n",
       "      <td>[\\nEuro 6\\n]</td>\n",
       "      <td>[\\nEuro 6\\n]</td>\n",
       "      <td>[\\nEuro 6\\n]</td>\n",
       "    </tr>\n",
       "    <tr>\n",
       "      <th>\\nComfort &amp; Convenience\\n</th>\n",
       "      <td>[Air conditioning, Armrest, Automatic climate ...</td>\n",
       "      <td>[Air conditioning, Automatic climate control, ...</td>\n",
       "      <td>[Air conditioning, Cruise control, Electrical ...</td>\n",
       "      <td>[Air suspension, Armrest, Auxiliary heating, E...</td>\n",
       "      <td>[Air conditioning, Armrest, Automatic climate ...</td>\n",
       "    </tr>\n",
       "    <tr>\n",
       "      <th>\\nEntertainment &amp; Media\\n</th>\n",
       "      <td>[Bluetooth, Hands-free equipment, On-board com...</td>\n",
       "      <td>[Bluetooth, Hands-free equipment, On-board com...</td>\n",
       "      <td>[MP3, On-board computer]</td>\n",
       "      <td>[Bluetooth, CD player, Hands-free equipment, M...</td>\n",
       "      <td>[Bluetooth, CD player, Hands-free equipment, M...</td>\n",
       "    </tr>\n",
       "    <tr>\n",
       "      <th>\\nExtras\\n</th>\n",
       "      <td>[Alloy wheels, Catalytic Converter, Voice Cont...</td>\n",
       "      <td>[Alloy wheels, Sport seats, Sport suspension, ...</td>\n",
       "      <td>[Alloy wheels, Voice Control]</td>\n",
       "      <td>[Alloy wheels, Sport seats, Voice Control]</td>\n",
       "      <td>[Alloy wheels, Sport package, Sport suspension...</td>\n",
       "    </tr>\n",
       "    <tr>\n",
       "      <th>\\nSafety &amp; Security\\n</th>\n",
       "      <td>[ABS, Central door lock, Daytime running light...</td>\n",
       "      <td>[ABS, Central door lock, Central door lock wit...</td>\n",
       "      <td>[ABS, Central door lock, Daytime running light...</td>\n",
       "      <td>[ABS, Alarm system, Central door lock with rem...</td>\n",
       "      <td>[ABS, Central door lock, Driver-side airbag, E...</td>\n",
       "    </tr>\n",
       "    <tr>\n",
       "      <th>description</th>\n",
       "      <td>[\\n, Sicherheit:,  , Deaktivierung für Beifahr...</td>\n",
       "      <td>[\\nLangstreckenfahrzeug daher die hohe Kilomet...</td>\n",
       "      <td>[\\n, Fahrzeug-Nummer: AM-95365,  , Ehem. UPE 2...</td>\n",
       "      <td>[\\nAudi A1: , - 1e eigenaar , - Perfecte staat...</td>\n",
       "      <td>[\\n, Technik &amp; Sicherheit:, Xenon plus, Klimaa...</td>\n",
       "    </tr>\n",
       "    <tr>\n",
       "      <th>Emission Label</th>\n",
       "      <td>NaN</td>\n",
       "      <td>[\\n4 (Green)\\n]</td>\n",
       "      <td>[\\n4 (Green)\\n]</td>\n",
       "      <td>NaN</td>\n",
       "      <td>NaN</td>\n",
       "    </tr>\n",
       "    <tr>\n",
       "      <th>Gears</th>\n",
       "      <td>NaN</td>\n",
       "      <td>[\\n7\\n]</td>\n",
       "      <td>NaN</td>\n",
       "      <td>[\\n6\\n]</td>\n",
       "      <td>NaN</td>\n",
       "    </tr>\n",
       "    <tr>\n",
       "      <th>Country version</th>\n",
       "      <td>NaN</td>\n",
       "      <td>NaN</td>\n",
       "      <td>NaN</td>\n",
       "      <td>NaN</td>\n",
       "      <td>[\\nGermany\\n]</td>\n",
       "    </tr>\n",
       "    <tr>\n",
       "      <th>Electricity consumption</th>\n",
       "      <td>NaN</td>\n",
       "      <td>NaN</td>\n",
       "      <td>NaN</td>\n",
       "      <td>NaN</td>\n",
       "      <td>NaN</td>\n",
       "    </tr>\n",
       "    <tr>\n",
       "      <th>Last Service Date</th>\n",
       "      <td>NaN</td>\n",
       "      <td>NaN</td>\n",
       "      <td>NaN</td>\n",
       "      <td>NaN</td>\n",
       "      <td>NaN</td>\n",
       "    </tr>\n",
       "    <tr>\n",
       "      <th>Other Fuel Types</th>\n",
       "      <td>NaN</td>\n",
       "      <td>NaN</td>\n",
       "      <td>NaN</td>\n",
       "      <td>NaN</td>\n",
       "      <td>NaN</td>\n",
       "    </tr>\n",
       "    <tr>\n",
       "      <th>Availability</th>\n",
       "      <td>NaN</td>\n",
       "      <td>NaN</td>\n",
       "      <td>NaN</td>\n",
       "      <td>NaN</td>\n",
       "      <td>NaN</td>\n",
       "    </tr>\n",
       "    <tr>\n",
       "      <th>Last Timing Belt Service Date</th>\n",
       "      <td>NaN</td>\n",
       "      <td>NaN</td>\n",
       "      <td>NaN</td>\n",
       "      <td>NaN</td>\n",
       "      <td>NaN</td>\n",
       "    </tr>\n",
       "    <tr>\n",
       "      <th>Available from</th>\n",
       "      <td>NaN</td>\n",
       "      <td>NaN</td>\n",
       "      <td>NaN</td>\n",
       "      <td>NaN</td>\n",
       "      <td>NaN</td>\n",
       "    </tr>\n",
       "  </tbody>\n",
       "</table>\n",
       "</div>"
      ],
      "text/plain": [
       "                                                                               0  \\\n",
       "url                            https://www.autoscout24.com//offers/audi-a1-sp...   \n",
       "make_model                                                               Audi A1   \n",
       "short_description                    Sportback 1.4 TDI S-tronic Xenon Navi Klima   \n",
       "body_type                                                                 Sedans   \n",
       "price                                                                      15770   \n",
       "vat                                                               VAT deductible   \n",
       "km                                                                     56,013 km   \n",
       "registration                                                             01/2016   \n",
       "prev_owner                                                     2 previous owners   \n",
       "kW                                                                           NaN   \n",
       "hp                                                                         66 kW   \n",
       "Type                                     [, Used, , Diesel (Particulate Filter)]   \n",
       "Previous Owners                                                            \\n2\\n   \n",
       "Next Inspection                            [\\n06/2021\\n, \\n99 g CO2/km (comb)\\n]   \n",
       "Inspection new                                             [\\nYes\\n, \\nEuro 6\\n]   \n",
       "Warranty                                                 [\\n, \\n, \\n4 (Green)\\n]   \n",
       "Full Service                                                            [\\n, \\n]   \n",
       "Non-smoking Vehicle                                                     [\\n, \\n]   \n",
       "null                                                                          []   \n",
       "Make                                                                    \\nAudi\\n   \n",
       "Model                                                               [\\n, A1, \\n]   \n",
       "Offer Number                                                     [\\nLR-062483\\n]   \n",
       "First Registration                                                [\\n, 2016, \\n]   \n",
       "Body Color                                                       [\\n, Black, \\n]   \n",
       "Paint Type                                                        [\\nMetallic\\n]   \n",
       "Body Color Original                                          [\\nMythosschwarz\\n]   \n",
       "Upholstery                                                    [\\nCloth, Black\\n]   \n",
       "Body                                                            [\\n, Sedans, \\n]   \n",
       "Nr. of Doors                                                             [\\n5\\n]   \n",
       "Nr. of Seats                                                             [\\n5\\n]   \n",
       "Model Code                                                        [\\n0588/BDF\\n]   \n",
       "Gearing Type                                                 [\\n, Automatic, \\n]   \n",
       "Displacement                                                      [\\n1,422 cc\\n]   \n",
       "Cylinders                                                                [\\n3\\n]   \n",
       "Weight                                                            [\\n1,220 kg\\n]   \n",
       "Drive chain                                                          [\\nfront\\n]   \n",
       "Fuel                                       [\\n, Diesel (Particulate Filter), \\n]   \n",
       "Consumption                    [[3.8 l/100 km (comb)], [4.3 l/100 km (city)],...   \n",
       "CO2 Emission                                            [\\n99 g CO2/km (comb)\\n]   \n",
       "Emission Class                                                      [\\nEuro 6\\n]   \n",
       "\\nComfort & Convenience\\n      [Air conditioning, Armrest, Automatic climate ...   \n",
       "\\nEntertainment & Media\\n      [Bluetooth, Hands-free equipment, On-board com...   \n",
       "\\nExtras\\n                     [Alloy wheels, Catalytic Converter, Voice Cont...   \n",
       "\\nSafety & Security\\n          [ABS, Central door lock, Daytime running light...   \n",
       "description                    [\\n, Sicherheit:,  , Deaktivierung für Beifahr...   \n",
       "Emission Label                                                               NaN   \n",
       "Gears                                                                        NaN   \n",
       "Country version                                                              NaN   \n",
       "Electricity consumption                                                      NaN   \n",
       "Last Service Date                                                            NaN   \n",
       "Other Fuel Types                                                             NaN   \n",
       "Availability                                                                 NaN   \n",
       "Last Timing Belt Service Date                                                NaN   \n",
       "Available from                                                               NaN   \n",
       "\n",
       "                                                                               1  \\\n",
       "url                            https://www.autoscout24.com//offers/audi-a1-1-...   \n",
       "make_model                                                               Audi A1   \n",
       "short_description                                                 1.8 TFSI sport   \n",
       "body_type                                                                 Sedans   \n",
       "price                                                                      14500   \n",
       "vat                                                             Price negotiable   \n",
       "km                                                                     80,000 km   \n",
       "registration                                                             03/2017   \n",
       "prev_owner                                                                  None   \n",
       "kW                                                                           NaN   \n",
       "hp                                                                        141 kW   \n",
       "Type                                                        [, Used, , Gasoline]   \n",
       "Previous Owners                                                              NaN   \n",
       "Next Inspection                                                              NaN   \n",
       "Inspection new                                                               NaN   \n",
       "Warranty                                                                     NaN   \n",
       "Full Service                                                                 NaN   \n",
       "Non-smoking Vehicle                                                          NaN   \n",
       "null                                                                          []   \n",
       "Make                                                                    \\nAudi\\n   \n",
       "Model                                                               [\\n, A1, \\n]   \n",
       "Offer Number                                                                 NaN   \n",
       "First Registration                                                [\\n, 2017, \\n]   \n",
       "Body Color                                                         [\\n, Red, \\n]   \n",
       "Paint Type                                                                   NaN   \n",
       "Body Color Original                                                          NaN   \n",
       "Upholstery                                                     [\\nCloth, Grey\\n]   \n",
       "Body                                                            [\\n, Sedans, \\n]   \n",
       "Nr. of Doors                                                             [\\n3\\n]   \n",
       "Nr. of Seats                                                             [\\n4\\n]   \n",
       "Model Code                                                        [\\n0588/BCY\\n]   \n",
       "Gearing Type                                                 [\\n, Automatic, \\n]   \n",
       "Displacement                                                      [\\n1,798 cc\\n]   \n",
       "Cylinders                                                                [\\n4\\n]   \n",
       "Weight                                                            [\\n1,255 kg\\n]   \n",
       "Drive chain                                                          [\\nfront\\n]   \n",
       "Fuel                                                          [\\n, Gasoline, \\n]   \n",
       "Consumption                    [[5.6 l/100 km (comb)], [7.1 l/100 km (city)],...   \n",
       "CO2 Emission                                           [\\n129 g CO2/km (comb)\\n]   \n",
       "Emission Class                                                      [\\nEuro 6\\n]   \n",
       "\\nComfort & Convenience\\n      [Air conditioning, Automatic climate control, ...   \n",
       "\\nEntertainment & Media\\n      [Bluetooth, Hands-free equipment, On-board com...   \n",
       "\\nExtras\\n                     [Alloy wheels, Sport seats, Sport suspension, ...   \n",
       "\\nSafety & Security\\n          [ABS, Central door lock, Central door lock wit...   \n",
       "description                    [\\nLangstreckenfahrzeug daher die hohe Kilomet...   \n",
       "Emission Label                                                   [\\n4 (Green)\\n]   \n",
       "Gears                                                                    [\\n7\\n]   \n",
       "Country version                                                              NaN   \n",
       "Electricity consumption                                                      NaN   \n",
       "Last Service Date                                                            NaN   \n",
       "Other Fuel Types                                                             NaN   \n",
       "Availability                                                                 NaN   \n",
       "Last Timing Belt Service Date                                                NaN   \n",
       "Available from                                                               NaN   \n",
       "\n",
       "                                                                               2  \\\n",
       "url                            https://www.autoscout24.com//offers/audi-a1-sp...   \n",
       "make_model                                                               Audi A1   \n",
       "short_description              Sportback 1.6 TDI S tronic Einparkhilfe plus+m...   \n",
       "body_type                                                                 Sedans   \n",
       "price                                                                      14640   \n",
       "vat                                                               VAT deductible   \n",
       "km                                                                     83,450 km   \n",
       "registration                                                             02/2016   \n",
       "prev_owner                                                      1 previous owner   \n",
       "kW                                                                           NaN   \n",
       "hp                                                                         85 kW   \n",
       "Type                                     [, Used, , Diesel (Particulate Filter)]   \n",
       "Previous Owners                                                            \\n1\\n   \n",
       "Next Inspection                                                              NaN   \n",
       "Inspection new                                                               NaN   \n",
       "Warranty                                        [\\n, \\n, \\n99 g CO2/km (comb)\\n]   \n",
       "Full Service                                                                 NaN   \n",
       "Non-smoking Vehicle                                                          NaN   \n",
       "null                                                                          []   \n",
       "Make                                                                    \\nAudi\\n   \n",
       "Model                                                               [\\n, A1, \\n]   \n",
       "Offer Number                                                      [\\nAM-95365\\n]   \n",
       "First Registration                                                [\\n, 2016, \\n]   \n",
       "Body Color                                                       [\\n, Black, \\n]   \n",
       "Paint Type                                                        [\\nMetallic\\n]   \n",
       "Body Color Original                                 [\\nmythosschwarz metallic\\n]   \n",
       "Upholstery                                                    [\\nCloth, Black\\n]   \n",
       "Body                                                            [\\n, Sedans, \\n]   \n",
       "Nr. of Doors                                                             [\\n4\\n]   \n",
       "Nr. of Seats                                                             [\\n4\\n]   \n",
       "Model Code                                                                   NaN   \n",
       "Gearing Type                                                 [\\n, Automatic, \\n]   \n",
       "Displacement                                                      [\\n1,598 cc\\n]   \n",
       "Cylinders                                                                    NaN   \n",
       "Weight                                                                       NaN   \n",
       "Drive chain                                                          [\\nfront\\n]   \n",
       "Fuel                                       [\\n, Diesel (Particulate Filter), \\n]   \n",
       "Consumption                    [[3.8 l/100 km (comb)], [4.4 l/100 km (city)],...   \n",
       "CO2 Emission                                            [\\n99 g CO2/km (comb)\\n]   \n",
       "Emission Class                                                      [\\nEuro 6\\n]   \n",
       "\\nComfort & Convenience\\n      [Air conditioning, Cruise control, Electrical ...   \n",
       "\\nEntertainment & Media\\n                               [MP3, On-board computer]   \n",
       "\\nExtras\\n                                         [Alloy wheels, Voice Control]   \n",
       "\\nSafety & Security\\n          [ABS, Central door lock, Daytime running light...   \n",
       "description                    [\\n, Fahrzeug-Nummer: AM-95365,  , Ehem. UPE 2...   \n",
       "Emission Label                                                   [\\n4 (Green)\\n]   \n",
       "Gears                                                                        NaN   \n",
       "Country version                                                              NaN   \n",
       "Electricity consumption                                                      NaN   \n",
       "Last Service Date                                                            NaN   \n",
       "Other Fuel Types                                                             NaN   \n",
       "Availability                                                                 NaN   \n",
       "Last Timing Belt Service Date                                                NaN   \n",
       "Available from                                                               NaN   \n",
       "\n",
       "                                                                               3  \\\n",
       "url                            https://www.autoscout24.com//offers/audi-a1-1-...   \n",
       "make_model                                                               Audi A1   \n",
       "short_description                                        1.4 TDi Design S tronic   \n",
       "body_type                                                                 Sedans   \n",
       "price                                                                      14500   \n",
       "vat                                                                         None   \n",
       "km                                                                     73,000 km   \n",
       "registration                                                             08/2016   \n",
       "prev_owner                                                      1 previous owner   \n",
       "kW                                                                           NaN   \n",
       "hp                                                                         66 kW   \n",
       "Type                                     [, Used, , Diesel (Particulate Filter)]   \n",
       "Previous Owners                                                            \\n1\\n   \n",
       "Next Inspection                                                              NaN   \n",
       "Inspection new                                                               NaN   \n",
       "Warranty                                                                     NaN   \n",
       "Full Service                                    [\\n, \\n, \\n99 g CO2/km (comb)\\n]   \n",
       "Non-smoking Vehicle                                         [\\n, \\n, \\nEuro 6\\n]   \n",
       "null                                                                          []   \n",
       "Make                                                                    \\nAudi\\n   \n",
       "Model                                                               [\\n, A1, \\n]   \n",
       "Offer Number                                                                 NaN   \n",
       "First Registration                                                [\\n, 2016, \\n]   \n",
       "Body Color                                                       [\\n, Brown, \\n]   \n",
       "Paint Type                                                        [\\nMetallic\\n]   \n",
       "Body Color Original                                                          NaN   \n",
       "Upholstery                                                                   NaN   \n",
       "Body                                                            [\\n, Sedans, \\n]   \n",
       "Nr. of Doors                                                             [\\n3\\n]   \n",
       "Nr. of Seats                                                             [\\n4\\n]   \n",
       "Model Code                                                                   NaN   \n",
       "Gearing Type                                                 [\\n, Automatic, \\n]   \n",
       "Displacement                                                      [\\n1,422 cc\\n]   \n",
       "Cylinders                                                                [\\n3\\n]   \n",
       "Weight                                                            [\\n1,195 kg\\n]   \n",
       "Drive chain                                                                  NaN   \n",
       "Fuel                                       [\\n, Diesel (Particulate Filter), \\n]   \n",
       "Consumption                    [[3.8 l/100 km (comb)], [4.3 l/100 km (city)],...   \n",
       "CO2 Emission                                            [\\n99 g CO2/km (comb)\\n]   \n",
       "Emission Class                                                      [\\nEuro 6\\n]   \n",
       "\\nComfort & Convenience\\n      [Air suspension, Armrest, Auxiliary heating, E...   \n",
       "\\nEntertainment & Media\\n      [Bluetooth, CD player, Hands-free equipment, M...   \n",
       "\\nExtras\\n                            [Alloy wheels, Sport seats, Voice Control]   \n",
       "\\nSafety & Security\\n          [ABS, Alarm system, Central door lock with rem...   \n",
       "description                    [\\nAudi A1: , - 1e eigenaar , - Perfecte staat...   \n",
       "Emission Label                                                               NaN   \n",
       "Gears                                                                    [\\n6\\n]   \n",
       "Country version                                                              NaN   \n",
       "Electricity consumption                                                      NaN   \n",
       "Last Service Date                                                            NaN   \n",
       "Other Fuel Types                                                             NaN   \n",
       "Availability                                                                 NaN   \n",
       "Last Timing Belt Service Date                                                NaN   \n",
       "Available from                                                               NaN   \n",
       "\n",
       "                                                                               4  \n",
       "url                            https://www.autoscout24.com//offers/audi-a1-sp...  \n",
       "make_model                                                               Audi A1  \n",
       "short_description              Sportback 1.4 TDI S-Tronic S-Line Ext. admired...  \n",
       "body_type                                                                 Sedans  \n",
       "price                                                                      16790  \n",
       "vat                                                                         None  \n",
       "km                                                                     16,200 km  \n",
       "registration                                                             05/2016  \n",
       "prev_owner                                                      1 previous owner  \n",
       "kW                                                                           NaN  \n",
       "hp                                                                         66 kW  \n",
       "Type                                     [, Used, , Diesel (Particulate Filter)]  \n",
       "Previous Owners                                                            \\n1\\n  \n",
       "Next Inspection                                                              NaN  \n",
       "Inspection new                                [\\nYes\\n, \\n109 g CO2/km (comb)\\n]  \n",
       "Warranty                                                    [\\n, \\n, \\nEuro 6\\n]  \n",
       "Full Service                                             [\\n, \\n, \\n4 (Green)\\n]  \n",
       "Non-smoking Vehicle                                                     [\\n, \\n]  \n",
       "null                                                                          []  \n",
       "Make                                                                    \\nAudi\\n  \n",
       "Model                                                               [\\n, A1, \\n]  \n",
       "Offer Number                                                         [\\nC1626\\n]  \n",
       "First Registration                                                [\\n, 2016, \\n]  \n",
       "Body Color                                                       [\\n, Black, \\n]  \n",
       "Paint Type                                                        [\\nMetallic\\n]  \n",
       "Body Color Original                                 [\\nMythosschwarz Metallic\\n]  \n",
       "Upholstery                                                    [\\nCloth, Black\\n]  \n",
       "Body                                                            [\\n, Sedans, \\n]  \n",
       "Nr. of Doors                                                             [\\n5\\n]  \n",
       "Nr. of Seats                                                             [\\n5\\n]  \n",
       "Model Code                                                        [\\n0588/BDF\\n]  \n",
       "Gearing Type                                                 [\\n, Automatic, \\n]  \n",
       "Displacement                                                      [\\n1,422 cc\\n]  \n",
       "Cylinders                                                                [\\n3\\n]  \n",
       "Weight                                                                       NaN  \n",
       "Drive chain                                                          [\\nfront\\n]  \n",
       "Fuel                                       [\\n, Diesel (Particulate Filter), \\n]  \n",
       "Consumption                    [[4.1 l/100 km (comb)], [4.6 l/100 km (city)],...  \n",
       "CO2 Emission                                           [\\n109 g CO2/km (comb)\\n]  \n",
       "Emission Class                                                      [\\nEuro 6\\n]  \n",
       "\\nComfort & Convenience\\n      [Air conditioning, Armrest, Automatic climate ...  \n",
       "\\nEntertainment & Media\\n      [Bluetooth, CD player, Hands-free equipment, M...  \n",
       "\\nExtras\\n                     [Alloy wheels, Sport package, Sport suspension...  \n",
       "\\nSafety & Security\\n          [ABS, Central door lock, Driver-side airbag, E...  \n",
       "description                    [\\n, Technik & Sicherheit:, Xenon plus, Klimaa...  \n",
       "Emission Label                                                               NaN  \n",
       "Gears                                                                        NaN  \n",
       "Country version                                                    [\\nGermany\\n]  \n",
       "Electricity consumption                                                      NaN  \n",
       "Last Service Date                                                            NaN  \n",
       "Other Fuel Types                                                             NaN  \n",
       "Availability                                                                 NaN  \n",
       "Last Timing Belt Service Date                                                NaN  \n",
       "Available from                                                               NaN  "
      ]
     },
     "execution_count": 112,
     "metadata": {},
     "output_type": "execute_result"
    }
   ],
   "source": [
    "df.head().T"
   ]
  },
  {
   "cell_type": "code",
   "execution_count": 113,
   "metadata": {},
   "outputs": [
    {
     "name": "stdout",
     "output_type": "stream",
     "text": [
      "<class 'pandas.core.frame.DataFrame'>\n",
      "RangeIndex: 15919 entries, 0 to 15918\n",
      "Data columns (total 54 columns):\n",
      " #   Column                         Non-Null Count  Dtype  \n",
      "---  ------                         --------------  -----  \n",
      " 0   url                            15919 non-null  object \n",
      " 1   make_model                     15919 non-null  object \n",
      " 2   short_description              15873 non-null  object \n",
      " 3   body_type                      15859 non-null  object \n",
      " 4   price                          15919 non-null  int64  \n",
      " 5   vat                            11406 non-null  object \n",
      " 6   km                             15919 non-null  object \n",
      " 7   registration                   15919 non-null  object \n",
      " 8   prev_owner                     9091 non-null   object \n",
      " 9   kW                             0 non-null      float64\n",
      " 10  hp                             15919 non-null  object \n",
      " 11  Type                           15917 non-null  object \n",
      " 12  Previous Owners                9279 non-null   object \n",
      " 13  Next Inspection                3535 non-null   object \n",
      " 14  Inspection new                 3932 non-null   object \n",
      " 15  Warranty                       10499 non-null  object \n",
      " 16  Full Service                   8215 non-null   object \n",
      " 17  Non-smoking Vehicle            7177 non-null   object \n",
      " 18  null                           15919 non-null  object \n",
      " 19  Make                           15919 non-null  object \n",
      " 20  Model                          15919 non-null  object \n",
      " 21  Offer Number                   12744 non-null  object \n",
      " 22  First Registration             14322 non-null  object \n",
      " 23  Body Color                     15322 non-null  object \n",
      " 24  Paint Type                     10147 non-null  object \n",
      " 25  Body Color Original            12160 non-null  object \n",
      " 26  Upholstery                     12199 non-null  object \n",
      " 27  Body                           15859 non-null  object \n",
      " 28  Nr. of Doors                   15707 non-null  object \n",
      " 29  Nr. of Seats                   14942 non-null  object \n",
      " 30  Model Code                     4978 non-null   object \n",
      " 31  Gearing Type                   15919 non-null  object \n",
      " 32  Displacement                   15423 non-null  object \n",
      " 33  Cylinders                      10239 non-null  object \n",
      " 34  Weight                         8945 non-null   object \n",
      " 35  Drive chain                    9061 non-null   object \n",
      " 36  Fuel                           15919 non-null  object \n",
      " 37  Consumption                    14013 non-null  object \n",
      " 38  CO2 Emission                   14111 non-null  object \n",
      " 39  Emission Class                 12898 non-null  object \n",
      " 40  \n",
      "Comfort & Convenience\n",
      "        14999 non-null  object \n",
      " 41  \n",
      "Entertainment & Media\n",
      "        14545 non-null  object \n",
      " 42  \n",
      "Extras\n",
      "                       12957 non-null  object \n",
      " 43  \n",
      "Safety & Security\n",
      "            14937 non-null  object \n",
      " 44  description                    15919 non-null  object \n",
      " 45  Emission Label                 3985 non-null   object \n",
      " 46  Gears                          11207 non-null  object \n",
      " 47  Country version                7586 non-null   object \n",
      " 48  Electricity consumption        137 non-null    object \n",
      " 49  Last Service Date              566 non-null    object \n",
      " 50  Other Fuel Types               880 non-null    object \n",
      " 51  Availability                   635 non-null    object \n",
      " 52  Last Timing Belt Service Date  16 non-null     object \n",
      " 53  Available from                 272 non-null    object \n",
      "dtypes: float64(1), int64(1), object(52)\n",
      "memory usage: 6.6+ MB\n"
     ]
    }
   ],
   "source": [
    "df.info()"
   ]
  },
  {
   "cell_type": "code",
   "execution_count": 114,
   "metadata": {},
   "outputs": [],
   "source": [
    "df.columns = df.columns.str.strip().str.lower() # column isimlerini hepsi tek düze olacak şekilde düzenleriz.\n",
    "df.rename(columns={\"previous owners\":\"previous_owners\",\n",
    "                  \"next inspection\": \"next_inspection\",\n",
    "                  \"inspection new\": \"inspection_new\",\n",
    "                  \"full service\": \"full_service\",\n",
    "                  \"non-smoking vehicle\": \"non_smoking_vehicle\",\n",
    "                  \"offer number\": \"offer_number\",\n",
    "                  \"first registration\": \"first_registration\",\n",
    "                  \"body color\": \"body_color\",\n",
    "                  \"paint type\": \"paint_type\",\n",
    "                  \"body color original\": \"body_color_original\",\n",
    "                  \"nr. of doors\": \"nr_of_doors\",\n",
    "                  \"nr. of seats\": \"nr_of_seats\",\n",
    "                  \"model code\": \"model_code\",\n",
    "                  \"gearing type\": \"gearing_type\",\n",
    "                  \"drive chain\": \"drive_chain\",\n",
    "                  \"co2 emission\": \"co2_emission\",\n",
    "                  \"emission class\": \"emission_class\",\n",
    "                  \"comfort & convenience\": \"comfort_convenience\",\n",
    "                   \"entertainment & media\": \"entertainment_media\",\n",
    "                   \"safety & security\": \"safety_security\",\n",
    "                   \"emission label\": \"emission_label\",\n",
    "                   \"country_version\": \"country_version\",\n",
    "                   \"electricity consumption\": \"electricity_consumption\",\n",
    "                   \"last service date\": \"last_service_date\",\n",
    "                   \"other fuel types\": \"other_fuel_types\",\n",
    "                   \"last timing belt service date\": \"last_timing_belt_service_date\",\n",
    "                   \"available from\": \"available_from\"}, inplace=True)"
   ]
  },
  {
   "cell_type": "code",
   "execution_count": 115,
   "metadata": {},
   "outputs": [
    {
     "data": {
      "text/html": [
       "<div>\n",
       "<style scoped>\n",
       "    .dataframe tbody tr th:only-of-type {\n",
       "        vertical-align: middle;\n",
       "    }\n",
       "\n",
       "    .dataframe tbody tr th {\n",
       "        vertical-align: top;\n",
       "    }\n",
       "\n",
       "    .dataframe thead th {\n",
       "        text-align: right;\n",
       "    }\n",
       "</style>\n",
       "<table border=\"1\" class=\"dataframe\">\n",
       "  <thead>\n",
       "    <tr style=\"text-align: right;\">\n",
       "      <th></th>\n",
       "      <th>0</th>\n",
       "      <th>1</th>\n",
       "      <th>2</th>\n",
       "      <th>3</th>\n",
       "      <th>4</th>\n",
       "    </tr>\n",
       "  </thead>\n",
       "  <tbody>\n",
       "    <tr>\n",
       "      <th>url</th>\n",
       "      <td>https://www.autoscout24.com//offers/audi-a1-sp...</td>\n",
       "      <td>https://www.autoscout24.com//offers/audi-a1-1-...</td>\n",
       "      <td>https://www.autoscout24.com//offers/audi-a1-sp...</td>\n",
       "      <td>https://www.autoscout24.com//offers/audi-a1-1-...</td>\n",
       "      <td>https://www.autoscout24.com//offers/audi-a1-sp...</td>\n",
       "    </tr>\n",
       "    <tr>\n",
       "      <th>make_model</th>\n",
       "      <td>Audi A1</td>\n",
       "      <td>Audi A1</td>\n",
       "      <td>Audi A1</td>\n",
       "      <td>Audi A1</td>\n",
       "      <td>Audi A1</td>\n",
       "    </tr>\n",
       "    <tr>\n",
       "      <th>short_description</th>\n",
       "      <td>Sportback 1.4 TDI S-tronic Xenon Navi Klima</td>\n",
       "      <td>1.8 TFSI sport</td>\n",
       "      <td>Sportback 1.6 TDI S tronic Einparkhilfe plus+m...</td>\n",
       "      <td>1.4 TDi Design S tronic</td>\n",
       "      <td>Sportback 1.4 TDI S-Tronic S-Line Ext. admired...</td>\n",
       "    </tr>\n",
       "    <tr>\n",
       "      <th>body_type</th>\n",
       "      <td>Sedans</td>\n",
       "      <td>Sedans</td>\n",
       "      <td>Sedans</td>\n",
       "      <td>Sedans</td>\n",
       "      <td>Sedans</td>\n",
       "    </tr>\n",
       "    <tr>\n",
       "      <th>price</th>\n",
       "      <td>15770</td>\n",
       "      <td>14500</td>\n",
       "      <td>14640</td>\n",
       "      <td>14500</td>\n",
       "      <td>16790</td>\n",
       "    </tr>\n",
       "    <tr>\n",
       "      <th>vat</th>\n",
       "      <td>VAT deductible</td>\n",
       "      <td>Price negotiable</td>\n",
       "      <td>VAT deductible</td>\n",
       "      <td>None</td>\n",
       "      <td>None</td>\n",
       "    </tr>\n",
       "    <tr>\n",
       "      <th>km</th>\n",
       "      <td>56,013 km</td>\n",
       "      <td>80,000 km</td>\n",
       "      <td>83,450 km</td>\n",
       "      <td>73,000 km</td>\n",
       "      <td>16,200 km</td>\n",
       "    </tr>\n",
       "    <tr>\n",
       "      <th>registration</th>\n",
       "      <td>01/2016</td>\n",
       "      <td>03/2017</td>\n",
       "      <td>02/2016</td>\n",
       "      <td>08/2016</td>\n",
       "      <td>05/2016</td>\n",
       "    </tr>\n",
       "    <tr>\n",
       "      <th>prev_owner</th>\n",
       "      <td>2 previous owners</td>\n",
       "      <td>None</td>\n",
       "      <td>1 previous owner</td>\n",
       "      <td>1 previous owner</td>\n",
       "      <td>1 previous owner</td>\n",
       "    </tr>\n",
       "    <tr>\n",
       "      <th>kw</th>\n",
       "      <td>NaN</td>\n",
       "      <td>NaN</td>\n",
       "      <td>NaN</td>\n",
       "      <td>NaN</td>\n",
       "      <td>NaN</td>\n",
       "    </tr>\n",
       "    <tr>\n",
       "      <th>hp</th>\n",
       "      <td>66 kW</td>\n",
       "      <td>141 kW</td>\n",
       "      <td>85 kW</td>\n",
       "      <td>66 kW</td>\n",
       "      <td>66 kW</td>\n",
       "    </tr>\n",
       "    <tr>\n",
       "      <th>type</th>\n",
       "      <td>[, Used, , Diesel (Particulate Filter)]</td>\n",
       "      <td>[, Used, , Gasoline]</td>\n",
       "      <td>[, Used, , Diesel (Particulate Filter)]</td>\n",
       "      <td>[, Used, , Diesel (Particulate Filter)]</td>\n",
       "      <td>[, Used, , Diesel (Particulate Filter)]</td>\n",
       "    </tr>\n",
       "    <tr>\n",
       "      <th>previous_owners</th>\n",
       "      <td>\\n2\\n</td>\n",
       "      <td>NaN</td>\n",
       "      <td>\\n1\\n</td>\n",
       "      <td>\\n1\\n</td>\n",
       "      <td>\\n1\\n</td>\n",
       "    </tr>\n",
       "    <tr>\n",
       "      <th>next_inspection</th>\n",
       "      <td>[\\n06/2021\\n, \\n99 g CO2/km (comb)\\n]</td>\n",
       "      <td>NaN</td>\n",
       "      <td>NaN</td>\n",
       "      <td>NaN</td>\n",
       "      <td>NaN</td>\n",
       "    </tr>\n",
       "    <tr>\n",
       "      <th>inspection_new</th>\n",
       "      <td>[\\nYes\\n, \\nEuro 6\\n]</td>\n",
       "      <td>NaN</td>\n",
       "      <td>NaN</td>\n",
       "      <td>NaN</td>\n",
       "      <td>[\\nYes\\n, \\n109 g CO2/km (comb)\\n]</td>\n",
       "    </tr>\n",
       "    <tr>\n",
       "      <th>warranty</th>\n",
       "      <td>[\\n, \\n, \\n4 (Green)\\n]</td>\n",
       "      <td>NaN</td>\n",
       "      <td>[\\n, \\n, \\n99 g CO2/km (comb)\\n]</td>\n",
       "      <td>NaN</td>\n",
       "      <td>[\\n, \\n, \\nEuro 6\\n]</td>\n",
       "    </tr>\n",
       "    <tr>\n",
       "      <th>full_service</th>\n",
       "      <td>[\\n, \\n]</td>\n",
       "      <td>NaN</td>\n",
       "      <td>NaN</td>\n",
       "      <td>[\\n, \\n, \\n99 g CO2/km (comb)\\n]</td>\n",
       "      <td>[\\n, \\n, \\n4 (Green)\\n]</td>\n",
       "    </tr>\n",
       "    <tr>\n",
       "      <th>non_smoking_vehicle</th>\n",
       "      <td>[\\n, \\n]</td>\n",
       "      <td>NaN</td>\n",
       "      <td>NaN</td>\n",
       "      <td>[\\n, \\n, \\nEuro 6\\n]</td>\n",
       "      <td>[\\n, \\n]</td>\n",
       "    </tr>\n",
       "    <tr>\n",
       "      <th>null</th>\n",
       "      <td>[]</td>\n",
       "      <td>[]</td>\n",
       "      <td>[]</td>\n",
       "      <td>[]</td>\n",
       "      <td>[]</td>\n",
       "    </tr>\n",
       "    <tr>\n",
       "      <th>make</th>\n",
       "      <td>\\nAudi\\n</td>\n",
       "      <td>\\nAudi\\n</td>\n",
       "      <td>\\nAudi\\n</td>\n",
       "      <td>\\nAudi\\n</td>\n",
       "      <td>\\nAudi\\n</td>\n",
       "    </tr>\n",
       "    <tr>\n",
       "      <th>model</th>\n",
       "      <td>[\\n, A1, \\n]</td>\n",
       "      <td>[\\n, A1, \\n]</td>\n",
       "      <td>[\\n, A1, \\n]</td>\n",
       "      <td>[\\n, A1, \\n]</td>\n",
       "      <td>[\\n, A1, \\n]</td>\n",
       "    </tr>\n",
       "    <tr>\n",
       "      <th>offer_number</th>\n",
       "      <td>[\\nLR-062483\\n]</td>\n",
       "      <td>NaN</td>\n",
       "      <td>[\\nAM-95365\\n]</td>\n",
       "      <td>NaN</td>\n",
       "      <td>[\\nC1626\\n]</td>\n",
       "    </tr>\n",
       "    <tr>\n",
       "      <th>first_registration</th>\n",
       "      <td>[\\n, 2016, \\n]</td>\n",
       "      <td>[\\n, 2017, \\n]</td>\n",
       "      <td>[\\n, 2016, \\n]</td>\n",
       "      <td>[\\n, 2016, \\n]</td>\n",
       "      <td>[\\n, 2016, \\n]</td>\n",
       "    </tr>\n",
       "    <tr>\n",
       "      <th>body_color</th>\n",
       "      <td>[\\n, Black, \\n]</td>\n",
       "      <td>[\\n, Red, \\n]</td>\n",
       "      <td>[\\n, Black, \\n]</td>\n",
       "      <td>[\\n, Brown, \\n]</td>\n",
       "      <td>[\\n, Black, \\n]</td>\n",
       "    </tr>\n",
       "    <tr>\n",
       "      <th>paint_type</th>\n",
       "      <td>[\\nMetallic\\n]</td>\n",
       "      <td>NaN</td>\n",
       "      <td>[\\nMetallic\\n]</td>\n",
       "      <td>[\\nMetallic\\n]</td>\n",
       "      <td>[\\nMetallic\\n]</td>\n",
       "    </tr>\n",
       "    <tr>\n",
       "      <th>body_color_original</th>\n",
       "      <td>[\\nMythosschwarz\\n]</td>\n",
       "      <td>NaN</td>\n",
       "      <td>[\\nmythosschwarz metallic\\n]</td>\n",
       "      <td>NaN</td>\n",
       "      <td>[\\nMythosschwarz Metallic\\n]</td>\n",
       "    </tr>\n",
       "    <tr>\n",
       "      <th>upholstery</th>\n",
       "      <td>[\\nCloth, Black\\n]</td>\n",
       "      <td>[\\nCloth, Grey\\n]</td>\n",
       "      <td>[\\nCloth, Black\\n]</td>\n",
       "      <td>NaN</td>\n",
       "      <td>[\\nCloth, Black\\n]</td>\n",
       "    </tr>\n",
       "    <tr>\n",
       "      <th>body</th>\n",
       "      <td>[\\n, Sedans, \\n]</td>\n",
       "      <td>[\\n, Sedans, \\n]</td>\n",
       "      <td>[\\n, Sedans, \\n]</td>\n",
       "      <td>[\\n, Sedans, \\n]</td>\n",
       "      <td>[\\n, Sedans, \\n]</td>\n",
       "    </tr>\n",
       "    <tr>\n",
       "      <th>nr_of_doors</th>\n",
       "      <td>[\\n5\\n]</td>\n",
       "      <td>[\\n3\\n]</td>\n",
       "      <td>[\\n4\\n]</td>\n",
       "      <td>[\\n3\\n]</td>\n",
       "      <td>[\\n5\\n]</td>\n",
       "    </tr>\n",
       "    <tr>\n",
       "      <th>nr_of_seats</th>\n",
       "      <td>[\\n5\\n]</td>\n",
       "      <td>[\\n4\\n]</td>\n",
       "      <td>[\\n4\\n]</td>\n",
       "      <td>[\\n4\\n]</td>\n",
       "      <td>[\\n5\\n]</td>\n",
       "    </tr>\n",
       "    <tr>\n",
       "      <th>model_code</th>\n",
       "      <td>[\\n0588/BDF\\n]</td>\n",
       "      <td>[\\n0588/BCY\\n]</td>\n",
       "      <td>NaN</td>\n",
       "      <td>NaN</td>\n",
       "      <td>[\\n0588/BDF\\n]</td>\n",
       "    </tr>\n",
       "    <tr>\n",
       "      <th>gearing_type</th>\n",
       "      <td>[\\n, Automatic, \\n]</td>\n",
       "      <td>[\\n, Automatic, \\n]</td>\n",
       "      <td>[\\n, Automatic, \\n]</td>\n",
       "      <td>[\\n, Automatic, \\n]</td>\n",
       "      <td>[\\n, Automatic, \\n]</td>\n",
       "    </tr>\n",
       "    <tr>\n",
       "      <th>displacement</th>\n",
       "      <td>[\\n1,422 cc\\n]</td>\n",
       "      <td>[\\n1,798 cc\\n]</td>\n",
       "      <td>[\\n1,598 cc\\n]</td>\n",
       "      <td>[\\n1,422 cc\\n]</td>\n",
       "      <td>[\\n1,422 cc\\n]</td>\n",
       "    </tr>\n",
       "    <tr>\n",
       "      <th>cylinders</th>\n",
       "      <td>[\\n3\\n]</td>\n",
       "      <td>[\\n4\\n]</td>\n",
       "      <td>NaN</td>\n",
       "      <td>[\\n3\\n]</td>\n",
       "      <td>[\\n3\\n]</td>\n",
       "    </tr>\n",
       "    <tr>\n",
       "      <th>weight</th>\n",
       "      <td>[\\n1,220 kg\\n]</td>\n",
       "      <td>[\\n1,255 kg\\n]</td>\n",
       "      <td>NaN</td>\n",
       "      <td>[\\n1,195 kg\\n]</td>\n",
       "      <td>NaN</td>\n",
       "    </tr>\n",
       "    <tr>\n",
       "      <th>drive_chain</th>\n",
       "      <td>[\\nfront\\n]</td>\n",
       "      <td>[\\nfront\\n]</td>\n",
       "      <td>[\\nfront\\n]</td>\n",
       "      <td>NaN</td>\n",
       "      <td>[\\nfront\\n]</td>\n",
       "    </tr>\n",
       "    <tr>\n",
       "      <th>fuel</th>\n",
       "      <td>[\\n, Diesel (Particulate Filter), \\n]</td>\n",
       "      <td>[\\n, Gasoline, \\n]</td>\n",
       "      <td>[\\n, Diesel (Particulate Filter), \\n]</td>\n",
       "      <td>[\\n, Diesel (Particulate Filter), \\n]</td>\n",
       "      <td>[\\n, Diesel (Particulate Filter), \\n]</td>\n",
       "    </tr>\n",
       "    <tr>\n",
       "      <th>consumption</th>\n",
       "      <td>[[3.8 l/100 km (comb)], [4.3 l/100 km (city)],...</td>\n",
       "      <td>[[5.6 l/100 km (comb)], [7.1 l/100 km (city)],...</td>\n",
       "      <td>[[3.8 l/100 km (comb)], [4.4 l/100 km (city)],...</td>\n",
       "      <td>[[3.8 l/100 km (comb)], [4.3 l/100 km (city)],...</td>\n",
       "      <td>[[4.1 l/100 km (comb)], [4.6 l/100 km (city)],...</td>\n",
       "    </tr>\n",
       "    <tr>\n",
       "      <th>co2_emission</th>\n",
       "      <td>[\\n99 g CO2/km (comb)\\n]</td>\n",
       "      <td>[\\n129 g CO2/km (comb)\\n]</td>\n",
       "      <td>[\\n99 g CO2/km (comb)\\n]</td>\n",
       "      <td>[\\n99 g CO2/km (comb)\\n]</td>\n",
       "      <td>[\\n109 g CO2/km (comb)\\n]</td>\n",
       "    </tr>\n",
       "    <tr>\n",
       "      <th>emission_class</th>\n",
       "      <td>[\\nEuro 6\\n]</td>\n",
       "      <td>[\\nEuro 6\\n]</td>\n",
       "      <td>[\\nEuro 6\\n]</td>\n",
       "      <td>[\\nEuro 6\\n]</td>\n",
       "      <td>[\\nEuro 6\\n]</td>\n",
       "    </tr>\n",
       "    <tr>\n",
       "      <th>comfort_convenience</th>\n",
       "      <td>[Air conditioning, Armrest, Automatic climate ...</td>\n",
       "      <td>[Air conditioning, Automatic climate control, ...</td>\n",
       "      <td>[Air conditioning, Cruise control, Electrical ...</td>\n",
       "      <td>[Air suspension, Armrest, Auxiliary heating, E...</td>\n",
       "      <td>[Air conditioning, Armrest, Automatic climate ...</td>\n",
       "    </tr>\n",
       "    <tr>\n",
       "      <th>entertainment_media</th>\n",
       "      <td>[Bluetooth, Hands-free equipment, On-board com...</td>\n",
       "      <td>[Bluetooth, Hands-free equipment, On-board com...</td>\n",
       "      <td>[MP3, On-board computer]</td>\n",
       "      <td>[Bluetooth, CD player, Hands-free equipment, M...</td>\n",
       "      <td>[Bluetooth, CD player, Hands-free equipment, M...</td>\n",
       "    </tr>\n",
       "    <tr>\n",
       "      <th>extras</th>\n",
       "      <td>[Alloy wheels, Catalytic Converter, Voice Cont...</td>\n",
       "      <td>[Alloy wheels, Sport seats, Sport suspension, ...</td>\n",
       "      <td>[Alloy wheels, Voice Control]</td>\n",
       "      <td>[Alloy wheels, Sport seats, Voice Control]</td>\n",
       "      <td>[Alloy wheels, Sport package, Sport suspension...</td>\n",
       "    </tr>\n",
       "    <tr>\n",
       "      <th>safety_security</th>\n",
       "      <td>[ABS, Central door lock, Daytime running light...</td>\n",
       "      <td>[ABS, Central door lock, Central door lock wit...</td>\n",
       "      <td>[ABS, Central door lock, Daytime running light...</td>\n",
       "      <td>[ABS, Alarm system, Central door lock with rem...</td>\n",
       "      <td>[ABS, Central door lock, Driver-side airbag, E...</td>\n",
       "    </tr>\n",
       "    <tr>\n",
       "      <th>description</th>\n",
       "      <td>[\\n, Sicherheit:,  , Deaktivierung für Beifahr...</td>\n",
       "      <td>[\\nLangstreckenfahrzeug daher die hohe Kilomet...</td>\n",
       "      <td>[\\n, Fahrzeug-Nummer: AM-95365,  , Ehem. UPE 2...</td>\n",
       "      <td>[\\nAudi A1: , - 1e eigenaar , - Perfecte staat...</td>\n",
       "      <td>[\\n, Technik &amp; Sicherheit:, Xenon plus, Klimaa...</td>\n",
       "    </tr>\n",
       "    <tr>\n",
       "      <th>emission_label</th>\n",
       "      <td>NaN</td>\n",
       "      <td>[\\n4 (Green)\\n]</td>\n",
       "      <td>[\\n4 (Green)\\n]</td>\n",
       "      <td>NaN</td>\n",
       "      <td>NaN</td>\n",
       "    </tr>\n",
       "    <tr>\n",
       "      <th>gears</th>\n",
       "      <td>NaN</td>\n",
       "      <td>[\\n7\\n]</td>\n",
       "      <td>NaN</td>\n",
       "      <td>[\\n6\\n]</td>\n",
       "      <td>NaN</td>\n",
       "    </tr>\n",
       "    <tr>\n",
       "      <th>country version</th>\n",
       "      <td>NaN</td>\n",
       "      <td>NaN</td>\n",
       "      <td>NaN</td>\n",
       "      <td>NaN</td>\n",
       "      <td>[\\nGermany\\n]</td>\n",
       "    </tr>\n",
       "    <tr>\n",
       "      <th>electricity_consumption</th>\n",
       "      <td>NaN</td>\n",
       "      <td>NaN</td>\n",
       "      <td>NaN</td>\n",
       "      <td>NaN</td>\n",
       "      <td>NaN</td>\n",
       "    </tr>\n",
       "    <tr>\n",
       "      <th>last_service_date</th>\n",
       "      <td>NaN</td>\n",
       "      <td>NaN</td>\n",
       "      <td>NaN</td>\n",
       "      <td>NaN</td>\n",
       "      <td>NaN</td>\n",
       "    </tr>\n",
       "    <tr>\n",
       "      <th>other_fuel_types</th>\n",
       "      <td>NaN</td>\n",
       "      <td>NaN</td>\n",
       "      <td>NaN</td>\n",
       "      <td>NaN</td>\n",
       "      <td>NaN</td>\n",
       "    </tr>\n",
       "    <tr>\n",
       "      <th>availability</th>\n",
       "      <td>NaN</td>\n",
       "      <td>NaN</td>\n",
       "      <td>NaN</td>\n",
       "      <td>NaN</td>\n",
       "      <td>NaN</td>\n",
       "    </tr>\n",
       "    <tr>\n",
       "      <th>last_timing_belt_service_date</th>\n",
       "      <td>NaN</td>\n",
       "      <td>NaN</td>\n",
       "      <td>NaN</td>\n",
       "      <td>NaN</td>\n",
       "      <td>NaN</td>\n",
       "    </tr>\n",
       "    <tr>\n",
       "      <th>available_from</th>\n",
       "      <td>NaN</td>\n",
       "      <td>NaN</td>\n",
       "      <td>NaN</td>\n",
       "      <td>NaN</td>\n",
       "      <td>NaN</td>\n",
       "    </tr>\n",
       "  </tbody>\n",
       "</table>\n",
       "</div>"
      ],
      "text/plain": [
       "                                                                               0  \\\n",
       "url                            https://www.autoscout24.com//offers/audi-a1-sp...   \n",
       "make_model                                                               Audi A1   \n",
       "short_description                    Sportback 1.4 TDI S-tronic Xenon Navi Klima   \n",
       "body_type                                                                 Sedans   \n",
       "price                                                                      15770   \n",
       "vat                                                               VAT deductible   \n",
       "km                                                                     56,013 km   \n",
       "registration                                                             01/2016   \n",
       "prev_owner                                                     2 previous owners   \n",
       "kw                                                                           NaN   \n",
       "hp                                                                         66 kW   \n",
       "type                                     [, Used, , Diesel (Particulate Filter)]   \n",
       "previous_owners                                                            \\n2\\n   \n",
       "next_inspection                            [\\n06/2021\\n, \\n99 g CO2/km (comb)\\n]   \n",
       "inspection_new                                             [\\nYes\\n, \\nEuro 6\\n]   \n",
       "warranty                                                 [\\n, \\n, \\n4 (Green)\\n]   \n",
       "full_service                                                            [\\n, \\n]   \n",
       "non_smoking_vehicle                                                     [\\n, \\n]   \n",
       "null                                                                          []   \n",
       "make                                                                    \\nAudi\\n   \n",
       "model                                                               [\\n, A1, \\n]   \n",
       "offer_number                                                     [\\nLR-062483\\n]   \n",
       "first_registration                                                [\\n, 2016, \\n]   \n",
       "body_color                                                       [\\n, Black, \\n]   \n",
       "paint_type                                                        [\\nMetallic\\n]   \n",
       "body_color_original                                          [\\nMythosschwarz\\n]   \n",
       "upholstery                                                    [\\nCloth, Black\\n]   \n",
       "body                                                            [\\n, Sedans, \\n]   \n",
       "nr_of_doors                                                              [\\n5\\n]   \n",
       "nr_of_seats                                                              [\\n5\\n]   \n",
       "model_code                                                        [\\n0588/BDF\\n]   \n",
       "gearing_type                                                 [\\n, Automatic, \\n]   \n",
       "displacement                                                      [\\n1,422 cc\\n]   \n",
       "cylinders                                                                [\\n3\\n]   \n",
       "weight                                                            [\\n1,220 kg\\n]   \n",
       "drive_chain                                                          [\\nfront\\n]   \n",
       "fuel                                       [\\n, Diesel (Particulate Filter), \\n]   \n",
       "consumption                    [[3.8 l/100 km (comb)], [4.3 l/100 km (city)],...   \n",
       "co2_emission                                            [\\n99 g CO2/km (comb)\\n]   \n",
       "emission_class                                                      [\\nEuro 6\\n]   \n",
       "comfort_convenience            [Air conditioning, Armrest, Automatic climate ...   \n",
       "entertainment_media            [Bluetooth, Hands-free equipment, On-board com...   \n",
       "extras                         [Alloy wheels, Catalytic Converter, Voice Cont...   \n",
       "safety_security                [ABS, Central door lock, Daytime running light...   \n",
       "description                    [\\n, Sicherheit:,  , Deaktivierung für Beifahr...   \n",
       "emission_label                                                               NaN   \n",
       "gears                                                                        NaN   \n",
       "country version                                                              NaN   \n",
       "electricity_consumption                                                      NaN   \n",
       "last_service_date                                                            NaN   \n",
       "other_fuel_types                                                             NaN   \n",
       "availability                                                                 NaN   \n",
       "last_timing_belt_service_date                                                NaN   \n",
       "available_from                                                               NaN   \n",
       "\n",
       "                                                                               1  \\\n",
       "url                            https://www.autoscout24.com//offers/audi-a1-1-...   \n",
       "make_model                                                               Audi A1   \n",
       "short_description                                                 1.8 TFSI sport   \n",
       "body_type                                                                 Sedans   \n",
       "price                                                                      14500   \n",
       "vat                                                             Price negotiable   \n",
       "km                                                                     80,000 km   \n",
       "registration                                                             03/2017   \n",
       "prev_owner                                                                  None   \n",
       "kw                                                                           NaN   \n",
       "hp                                                                        141 kW   \n",
       "type                                                        [, Used, , Gasoline]   \n",
       "previous_owners                                                              NaN   \n",
       "next_inspection                                                              NaN   \n",
       "inspection_new                                                               NaN   \n",
       "warranty                                                                     NaN   \n",
       "full_service                                                                 NaN   \n",
       "non_smoking_vehicle                                                          NaN   \n",
       "null                                                                          []   \n",
       "make                                                                    \\nAudi\\n   \n",
       "model                                                               [\\n, A1, \\n]   \n",
       "offer_number                                                                 NaN   \n",
       "first_registration                                                [\\n, 2017, \\n]   \n",
       "body_color                                                         [\\n, Red, \\n]   \n",
       "paint_type                                                                   NaN   \n",
       "body_color_original                                                          NaN   \n",
       "upholstery                                                     [\\nCloth, Grey\\n]   \n",
       "body                                                            [\\n, Sedans, \\n]   \n",
       "nr_of_doors                                                              [\\n3\\n]   \n",
       "nr_of_seats                                                              [\\n4\\n]   \n",
       "model_code                                                        [\\n0588/BCY\\n]   \n",
       "gearing_type                                                 [\\n, Automatic, \\n]   \n",
       "displacement                                                      [\\n1,798 cc\\n]   \n",
       "cylinders                                                                [\\n4\\n]   \n",
       "weight                                                            [\\n1,255 kg\\n]   \n",
       "drive_chain                                                          [\\nfront\\n]   \n",
       "fuel                                                          [\\n, Gasoline, \\n]   \n",
       "consumption                    [[5.6 l/100 km (comb)], [7.1 l/100 km (city)],...   \n",
       "co2_emission                                           [\\n129 g CO2/km (comb)\\n]   \n",
       "emission_class                                                      [\\nEuro 6\\n]   \n",
       "comfort_convenience            [Air conditioning, Automatic climate control, ...   \n",
       "entertainment_media            [Bluetooth, Hands-free equipment, On-board com...   \n",
       "extras                         [Alloy wheels, Sport seats, Sport suspension, ...   \n",
       "safety_security                [ABS, Central door lock, Central door lock wit...   \n",
       "description                    [\\nLangstreckenfahrzeug daher die hohe Kilomet...   \n",
       "emission_label                                                   [\\n4 (Green)\\n]   \n",
       "gears                                                                    [\\n7\\n]   \n",
       "country version                                                              NaN   \n",
       "electricity_consumption                                                      NaN   \n",
       "last_service_date                                                            NaN   \n",
       "other_fuel_types                                                             NaN   \n",
       "availability                                                                 NaN   \n",
       "last_timing_belt_service_date                                                NaN   \n",
       "available_from                                                               NaN   \n",
       "\n",
       "                                                                               2  \\\n",
       "url                            https://www.autoscout24.com//offers/audi-a1-sp...   \n",
       "make_model                                                               Audi A1   \n",
       "short_description              Sportback 1.6 TDI S tronic Einparkhilfe plus+m...   \n",
       "body_type                                                                 Sedans   \n",
       "price                                                                      14640   \n",
       "vat                                                               VAT deductible   \n",
       "km                                                                     83,450 km   \n",
       "registration                                                             02/2016   \n",
       "prev_owner                                                      1 previous owner   \n",
       "kw                                                                           NaN   \n",
       "hp                                                                         85 kW   \n",
       "type                                     [, Used, , Diesel (Particulate Filter)]   \n",
       "previous_owners                                                            \\n1\\n   \n",
       "next_inspection                                                              NaN   \n",
       "inspection_new                                                               NaN   \n",
       "warranty                                        [\\n, \\n, \\n99 g CO2/km (comb)\\n]   \n",
       "full_service                                                                 NaN   \n",
       "non_smoking_vehicle                                                          NaN   \n",
       "null                                                                          []   \n",
       "make                                                                    \\nAudi\\n   \n",
       "model                                                               [\\n, A1, \\n]   \n",
       "offer_number                                                      [\\nAM-95365\\n]   \n",
       "first_registration                                                [\\n, 2016, \\n]   \n",
       "body_color                                                       [\\n, Black, \\n]   \n",
       "paint_type                                                        [\\nMetallic\\n]   \n",
       "body_color_original                                 [\\nmythosschwarz metallic\\n]   \n",
       "upholstery                                                    [\\nCloth, Black\\n]   \n",
       "body                                                            [\\n, Sedans, \\n]   \n",
       "nr_of_doors                                                              [\\n4\\n]   \n",
       "nr_of_seats                                                              [\\n4\\n]   \n",
       "model_code                                                                   NaN   \n",
       "gearing_type                                                 [\\n, Automatic, \\n]   \n",
       "displacement                                                      [\\n1,598 cc\\n]   \n",
       "cylinders                                                                    NaN   \n",
       "weight                                                                       NaN   \n",
       "drive_chain                                                          [\\nfront\\n]   \n",
       "fuel                                       [\\n, Diesel (Particulate Filter), \\n]   \n",
       "consumption                    [[3.8 l/100 km (comb)], [4.4 l/100 km (city)],...   \n",
       "co2_emission                                            [\\n99 g CO2/km (comb)\\n]   \n",
       "emission_class                                                      [\\nEuro 6\\n]   \n",
       "comfort_convenience            [Air conditioning, Cruise control, Electrical ...   \n",
       "entertainment_media                                     [MP3, On-board computer]   \n",
       "extras                                             [Alloy wheels, Voice Control]   \n",
       "safety_security                [ABS, Central door lock, Daytime running light...   \n",
       "description                    [\\n, Fahrzeug-Nummer: AM-95365,  , Ehem. UPE 2...   \n",
       "emission_label                                                   [\\n4 (Green)\\n]   \n",
       "gears                                                                        NaN   \n",
       "country version                                                              NaN   \n",
       "electricity_consumption                                                      NaN   \n",
       "last_service_date                                                            NaN   \n",
       "other_fuel_types                                                             NaN   \n",
       "availability                                                                 NaN   \n",
       "last_timing_belt_service_date                                                NaN   \n",
       "available_from                                                               NaN   \n",
       "\n",
       "                                                                               3  \\\n",
       "url                            https://www.autoscout24.com//offers/audi-a1-1-...   \n",
       "make_model                                                               Audi A1   \n",
       "short_description                                        1.4 TDi Design S tronic   \n",
       "body_type                                                                 Sedans   \n",
       "price                                                                      14500   \n",
       "vat                                                                         None   \n",
       "km                                                                     73,000 km   \n",
       "registration                                                             08/2016   \n",
       "prev_owner                                                      1 previous owner   \n",
       "kw                                                                           NaN   \n",
       "hp                                                                         66 kW   \n",
       "type                                     [, Used, , Diesel (Particulate Filter)]   \n",
       "previous_owners                                                            \\n1\\n   \n",
       "next_inspection                                                              NaN   \n",
       "inspection_new                                                               NaN   \n",
       "warranty                                                                     NaN   \n",
       "full_service                                    [\\n, \\n, \\n99 g CO2/km (comb)\\n]   \n",
       "non_smoking_vehicle                                         [\\n, \\n, \\nEuro 6\\n]   \n",
       "null                                                                          []   \n",
       "make                                                                    \\nAudi\\n   \n",
       "model                                                               [\\n, A1, \\n]   \n",
       "offer_number                                                                 NaN   \n",
       "first_registration                                                [\\n, 2016, \\n]   \n",
       "body_color                                                       [\\n, Brown, \\n]   \n",
       "paint_type                                                        [\\nMetallic\\n]   \n",
       "body_color_original                                                          NaN   \n",
       "upholstery                                                                   NaN   \n",
       "body                                                            [\\n, Sedans, \\n]   \n",
       "nr_of_doors                                                              [\\n3\\n]   \n",
       "nr_of_seats                                                              [\\n4\\n]   \n",
       "model_code                                                                   NaN   \n",
       "gearing_type                                                 [\\n, Automatic, \\n]   \n",
       "displacement                                                      [\\n1,422 cc\\n]   \n",
       "cylinders                                                                [\\n3\\n]   \n",
       "weight                                                            [\\n1,195 kg\\n]   \n",
       "drive_chain                                                                  NaN   \n",
       "fuel                                       [\\n, Diesel (Particulate Filter), \\n]   \n",
       "consumption                    [[3.8 l/100 km (comb)], [4.3 l/100 km (city)],...   \n",
       "co2_emission                                            [\\n99 g CO2/km (comb)\\n]   \n",
       "emission_class                                                      [\\nEuro 6\\n]   \n",
       "comfort_convenience            [Air suspension, Armrest, Auxiliary heating, E...   \n",
       "entertainment_media            [Bluetooth, CD player, Hands-free equipment, M...   \n",
       "extras                                [Alloy wheels, Sport seats, Voice Control]   \n",
       "safety_security                [ABS, Alarm system, Central door lock with rem...   \n",
       "description                    [\\nAudi A1: , - 1e eigenaar , - Perfecte staat...   \n",
       "emission_label                                                               NaN   \n",
       "gears                                                                    [\\n6\\n]   \n",
       "country version                                                              NaN   \n",
       "electricity_consumption                                                      NaN   \n",
       "last_service_date                                                            NaN   \n",
       "other_fuel_types                                                             NaN   \n",
       "availability                                                                 NaN   \n",
       "last_timing_belt_service_date                                                NaN   \n",
       "available_from                                                               NaN   \n",
       "\n",
       "                                                                               4  \n",
       "url                            https://www.autoscout24.com//offers/audi-a1-sp...  \n",
       "make_model                                                               Audi A1  \n",
       "short_description              Sportback 1.4 TDI S-Tronic S-Line Ext. admired...  \n",
       "body_type                                                                 Sedans  \n",
       "price                                                                      16790  \n",
       "vat                                                                         None  \n",
       "km                                                                     16,200 km  \n",
       "registration                                                             05/2016  \n",
       "prev_owner                                                      1 previous owner  \n",
       "kw                                                                           NaN  \n",
       "hp                                                                         66 kW  \n",
       "type                                     [, Used, , Diesel (Particulate Filter)]  \n",
       "previous_owners                                                            \\n1\\n  \n",
       "next_inspection                                                              NaN  \n",
       "inspection_new                                [\\nYes\\n, \\n109 g CO2/km (comb)\\n]  \n",
       "warranty                                                    [\\n, \\n, \\nEuro 6\\n]  \n",
       "full_service                                             [\\n, \\n, \\n4 (Green)\\n]  \n",
       "non_smoking_vehicle                                                     [\\n, \\n]  \n",
       "null                                                                          []  \n",
       "make                                                                    \\nAudi\\n  \n",
       "model                                                               [\\n, A1, \\n]  \n",
       "offer_number                                                         [\\nC1626\\n]  \n",
       "first_registration                                                [\\n, 2016, \\n]  \n",
       "body_color                                                       [\\n, Black, \\n]  \n",
       "paint_type                                                        [\\nMetallic\\n]  \n",
       "body_color_original                                 [\\nMythosschwarz Metallic\\n]  \n",
       "upholstery                                                    [\\nCloth, Black\\n]  \n",
       "body                                                            [\\n, Sedans, \\n]  \n",
       "nr_of_doors                                                              [\\n5\\n]  \n",
       "nr_of_seats                                                              [\\n5\\n]  \n",
       "model_code                                                        [\\n0588/BDF\\n]  \n",
       "gearing_type                                                 [\\n, Automatic, \\n]  \n",
       "displacement                                                      [\\n1,422 cc\\n]  \n",
       "cylinders                                                                [\\n3\\n]  \n",
       "weight                                                                       NaN  \n",
       "drive_chain                                                          [\\nfront\\n]  \n",
       "fuel                                       [\\n, Diesel (Particulate Filter), \\n]  \n",
       "consumption                    [[4.1 l/100 km (comb)], [4.6 l/100 km (city)],...  \n",
       "co2_emission                                           [\\n109 g CO2/km (comb)\\n]  \n",
       "emission_class                                                      [\\nEuro 6\\n]  \n",
       "comfort_convenience            [Air conditioning, Armrest, Automatic climate ...  \n",
       "entertainment_media            [Bluetooth, CD player, Hands-free equipment, M...  \n",
       "extras                         [Alloy wheels, Sport package, Sport suspension...  \n",
       "safety_security                [ABS, Central door lock, Driver-side airbag, E...  \n",
       "description                    [\\n, Technik & Sicherheit:, Xenon plus, Klimaa...  \n",
       "emission_label                                                               NaN  \n",
       "gears                                                                        NaN  \n",
       "country version                                                    [\\nGermany\\n]  \n",
       "electricity_consumption                                                      NaN  \n",
       "last_service_date                                                            NaN  \n",
       "other_fuel_types                                                             NaN  \n",
       "availability                                                                 NaN  \n",
       "last_timing_belt_service_date                                                NaN  \n",
       "available_from                                                               NaN  "
      ]
     },
     "execution_count": 115,
     "metadata": {},
     "output_type": "execute_result"
    }
   ],
   "source": [
    "df.head(5).T # verinin baş tarafından istenilen sayıda değeri incelemek için getiririz. T ile transpoze ederiz."
   ]
  },
  {
   "cell_type": "code",
   "execution_count": 116,
   "metadata": {},
   "outputs": [
    {
     "data": {
      "text/plain": [
       "(15919, 54)"
      ]
     },
     "execution_count": 116,
     "metadata": {},
     "output_type": "execute_result"
    }
   ],
   "source": [
    "df.shape"
   ]
  },
  {
   "cell_type": "code",
   "execution_count": 117,
   "metadata": {},
   "outputs": [
    {
     "data": {
      "text/plain": [
       "kw                               15919\n",
       "last_timing_belt_service_date    15903\n",
       "electricity_consumption          15782\n",
       "available_from                   15647\n",
       "last_service_date                15353\n",
       "availability                     15284\n",
       "other_fuel_types                 15039\n",
       "next_inspection                  12384\n",
       "inspection_new                   11987\n",
       "emission_label                   11934\n",
       "model_code                       10941\n",
       "non_smoking_vehicle               8742\n",
       "country version                   8333\n",
       "full_service                      7704\n",
       "weight                            6974\n",
       "drive_chain                       6858\n",
       "prev_owner                        6828\n",
       "previous_owners                   6640\n",
       "paint_type                        5772\n",
       "cylinders                         5680\n",
       "warranty                          5420\n",
       "gears                             4712\n",
       "vat                               4513\n",
       "body_color_original               3759\n",
       "upholstery                        3720\n",
       "offer_number                      3175\n",
       "emission_class                    3021\n",
       "extras                            2962\n",
       "consumption                       1906\n",
       "co2_emission                      1808\n",
       "first_registration                1597\n",
       "entertainment_media               1374\n",
       "safety_security                    982\n",
       "nr_of_seats                        977\n",
       "comfort_convenience                920\n",
       "body_color                         597\n",
       "displacement                       496\n",
       "nr_of_doors                        212\n",
       "body                                60\n",
       "body_type                           60\n",
       "short_description                   46\n",
       "type                                 2\n",
       "fuel                                 0\n",
       "gearing_type                         0\n",
       "make_model                           0\n",
       "model                                0\n",
       "make                                 0\n",
       "description                          0\n",
       "null                                 0\n",
       "hp                                   0\n",
       "registration                         0\n",
       "km                                   0\n",
       "price                                0\n",
       "url                                  0\n",
       "dtype: int64"
      ]
     },
     "execution_count": 117,
     "metadata": {},
     "output_type": "execute_result"
    }
   ],
   "source": [
    "df.isna().sum().sort_values(ascending =False) # null değer toplamlarını çoktan aza doğru sıralatarak görürüz."
   ]
  },
  {
   "cell_type": "code",
   "execution_count": 118,
   "metadata": {},
   "outputs": [
    {
     "data": {
      "text/plain": [
       "kw                               100.000000\n",
       "last_timing_belt_service_date     99.899491\n",
       "electricity_consumption           99.139393\n",
       "available_from                    98.291350\n",
       "last_service_date                 96.444500\n",
       "availability                      96.011056\n",
       "other_fuel_types                  94.472015\n",
       "next_inspection                   77.793831\n",
       "inspection_new                    75.299956\n",
       "emission_label                    74.967021\n",
       "model_code                        68.729192\n",
       "non_smoking_vehicle               54.915510\n",
       "country version                   52.346253\n",
       "full_service                      48.395000\n",
       "weight                            43.809285\n",
       "drive_chain                       43.080596\n",
       "prev_owner                        42.892141\n",
       "previous_owners                   41.711163\n",
       "paint_type                        36.258559\n",
       "cylinders                         35.680633\n",
       "warranty                          34.047365\n",
       "gears                             29.599849\n",
       "vat                               28.349771\n",
       "body_color_original               23.613292\n",
       "upholstery                        23.368302\n",
       "offer_number                      19.944720\n",
       "emission_class                    18.977323\n",
       "extras                            18.606696\n",
       "consumption                       11.973114\n",
       "co2_emission                      11.357497\n",
       "first_registration                10.032037\n",
       "entertainment_media                8.631195\n",
       "safety_security                    6.168729\n",
       "nr_of_seats                        6.137320\n",
       "comfort_convenience                5.779257\n",
       "body_color                         3.750236\n",
       "displacement                       3.115774\n",
       "nr_of_doors                        1.331742\n",
       "body                               0.376908\n",
       "body_type                          0.376908\n",
       "short_description                  0.288963\n",
       "type                               0.012564\n",
       "fuel                               0.000000\n",
       "gearing_type                       0.000000\n",
       "make_model                         0.000000\n",
       "model                              0.000000\n",
       "make                               0.000000\n",
       "description                        0.000000\n",
       "null                               0.000000\n",
       "hp                                 0.000000\n",
       "registration                       0.000000\n",
       "km                                 0.000000\n",
       "price                              0.000000\n",
       "url                                0.000000\n",
       "dtype: float64"
      ]
     },
     "execution_count": 118,
     "metadata": {},
     "output_type": "execute_result"
    }
   ],
   "source": [
    "((df.isna().sum() / df.shape[0]) * 100).sort_values(ascending =False) # null ların yüzdelik değerlerini görürüz."
   ]
  },
  {
   "cell_type": "code",
   "execution_count": 119,
   "metadata": {},
   "outputs": [
    {
     "data": {
      "text/plain": [
       "url                               True\n",
       "make_model                        True\n",
       "short_description                 True\n",
       "body_type                         True\n",
       "price                             True\n",
       "vat                               True\n",
       "km                                True\n",
       "registration                      True\n",
       "prev_owner                        True\n",
       "kw                               False\n",
       "hp                                True\n",
       "type                              True\n",
       "previous_owners                   True\n",
       "next_inspection                   True\n",
       "inspection_new                    True\n",
       "warranty                          True\n",
       "full_service                      True\n",
       "non_smoking_vehicle               True\n",
       "null                              True\n",
       "make                              True\n",
       "model                             True\n",
       "offer_number                      True\n",
       "first_registration                True\n",
       "body_color                        True\n",
       "paint_type                        True\n",
       "body_color_original               True\n",
       "upholstery                        True\n",
       "body                              True\n",
       "nr_of_doors                       True\n",
       "nr_of_seats                       True\n",
       "model_code                        True\n",
       "gearing_type                      True\n",
       "displacement                      True\n",
       "cylinders                         True\n",
       "weight                            True\n",
       "drive_chain                       True\n",
       "fuel                              True\n",
       "consumption                       True\n",
       "co2_emission                      True\n",
       "emission_class                    True\n",
       "comfort_convenience               True\n",
       "entertainment_media               True\n",
       "extras                            True\n",
       "safety_security                   True\n",
       "description                       True\n",
       "emission_label                    True\n",
       "gears                             True\n",
       "country version                   True\n",
       "electricity_consumption          False\n",
       "last_service_date                False\n",
       "other_fuel_types                 False\n",
       "availability                     False\n",
       "last_timing_belt_service_date    False\n",
       "available_from                   False\n",
       "dtype: bool"
      ]
     },
     "execution_count": 119,
     "metadata": {},
     "output_type": "execute_result"
    }
   ],
   "source": [
    "df.isna().sum() / len(df)<0.80 # null değerlerin toplamını column uzunluğuna oranlayarak %80 den küçük olanları görürüz."
   ]
  },
  {
   "cell_type": "markdown",
   "metadata": {},
   "source": [
    "## URL "
   ]
  },
  {
   "cell_type": "code",
   "execution_count": 120,
   "metadata": {},
   "outputs": [
    {
     "data": {
      "text/plain": [
       "https://www.autoscout24.com//offers/opel-astra-k-st-1-4-turbo-gasoline-silver-a229745e-4e42-4fc9-9bf4-c47452011d6b                                    1\n",
       "https://www.autoscout24.com//offers/audi-a1-sportback-1-4-tdi-navi-xenon-2x-pdc-design-diesel-black-57da2234-ffcf-4b2f-8c6b-bd8d0d373b33              1\n",
       "https://www.autoscout24.com//offers/audi-a1-sportback-1-4-tfsi-s-tronic-connectivity-shz-gasoline-black-4e9bf181-a31f-4a1b-a424-d8d036509030          1\n",
       "https://www.autoscout24.com//offers/renault-clio-1-5-dci-90-cv-energy-business-navigatore-diesel-silver-e2bd2436-9fb6-4488-9f9b-1693a461e5fb          1\n",
       "https://www.autoscout24.com//offers/opel-corsa-e-1-4-turbo-90-aut-120-jahre-r4-0-pdc-shz-gasoline-black-a774599d-be0a-42c3-80fe-0f8fd45c9051          1\n",
       "                                                                                                                                                     ..\n",
       "https://www.autoscout24.com//offers/audi-a1-1-0-tfsi-sb-sport-sitzheizung-gasoline-red-516cd21c-6446-47a3-a7d0-5ce695b356d5                           1\n",
       "https://www.autoscout24.com//offers/opel-insignia-grand-sport-1-6-cdti-business-executive-diesel-73786baf-e20c-42c1-91a4-20134af3f44c                 1\n",
       "https://www.autoscout24.com//offers/opel-insignia-sports-tourer-diesel-grey-81d8fbf7-6011-44ba-8c1c-b1dcbd532b6f                                      1\n",
       "https://www.autoscout24.com//offers/opel-insignia-2-0-cdti-aut-s-t-business-innovation-navi-led-diesel-silver-0e22c660-6e36-4ea7-9a96-84e1e2492740    1\n",
       "https://www.autoscout24.com//offers/opel-astra-st-1-6-park-go-led-navi-dab-alcantara-gasoline-grey-766a1a55-b9d5-428b-9ada-0de96392c716               1\n",
       "Name: url, Length: 15919, dtype: int64"
      ]
     },
     "execution_count": 120,
     "metadata": {},
     "output_type": "execute_result"
    }
   ],
   "source": [
    "df.url.value_counts(dropna=False) # url columnunda değer türlerini görürüz."
   ]
  },
  {
   "cell_type": "code",
   "execution_count": 121,
   "metadata": {},
   "outputs": [],
   "source": [
    "df.drop('url',axis=1,inplace=True) # url columnunun işimize yaramadığını düşünerek drop ile inplace=true diyerek kalıcı olarak sileriz."
   ]
  },
  {
   "cell_type": "markdown",
   "metadata": {},
   "source": [
    "## make_model"
   ]
  },
  {
   "cell_type": "code",
   "execution_count": 122,
   "metadata": {},
   "outputs": [
    {
     "data": {
      "text/plain": [
       "Audi A3           3097\n",
       "Audi A1           2614\n",
       "Opel Insignia     2598\n",
       "Opel Astra        2526\n",
       "Opel Corsa        2219\n",
       "Renault Clio      1839\n",
       "Renault Espace     991\n",
       "Renault Duster      34\n",
       "Audi A2              1\n",
       "Name: make_model, dtype: int64"
      ]
     },
     "execution_count": 122,
     "metadata": {},
     "output_type": "execute_result"
    }
   ],
   "source": [
    "df.make_model.value_counts()"
   ]
  },
  {
   "cell_type": "markdown",
   "metadata": {},
   "source": [
    "## short_description"
   ]
  },
  {
   "cell_type": "code",
   "execution_count": 123,
   "metadata": {},
   "outputs": [
    {
     "data": {
      "text/plain": [
       "SPB 1.6 TDI 116 CV S tronic Sport                    64\n",
       "NaN                                                  46\n",
       "1.4 66kW (90CV) Selective                            40\n",
       "MOVE KLIMA CD USB ALLWETTER BLUETOOTH                38\n",
       "SPB 30 TDI S tronic Business                         35\n",
       "                                                     ..\n",
       "Sportback 1.0 TFSI Design NAVI PDC 16 MEDIA-PAKET     1\n",
       "IV 1.2 TCe 120 eco² Intens ENERGY Nav/Klima           1\n",
       "1.4 Turbo Edition 150PS*Kamera*                       1\n",
       "ON AT +Sitzhzg+Parkassistent+IntelliLink+             1\n",
       "ST INNOVATION AT Shz AHK Navi LED-Licht AGR PDC       1\n",
       "Name: short_description, Length: 10002, dtype: int64"
      ]
     },
     "execution_count": 123,
     "metadata": {},
     "output_type": "execute_result"
    }
   ],
   "source": [
    "df.short_description.value_counts(dropna=False)"
   ]
  },
  {
   "cell_type": "code",
   "execution_count": 124,
   "metadata": {},
   "outputs": [
    {
     "data": {
      "text/plain": [
       "15873"
      ]
     },
     "execution_count": 124,
     "metadata": {},
     "output_type": "execute_result"
    }
   ],
   "source": [
    "df.short_description.value_counts().sum()"
   ]
  },
  {
   "cell_type": "code",
   "execution_count": 131,
   "metadata": {},
   "outputs": [],
   "source": [
    "df.drop('short_description',axis=1,inplace=True) # bu columnu işimize yaramayacağını düşündüğümüzden kalıcı olarak sildik."
   ]
  },
  {
   "cell_type": "markdown",
   "metadata": {},
   "source": [
    "## body_type"
   ]
  },
  {
   "cell_type": "code",
   "execution_count": 125,
   "metadata": {},
   "outputs": [
    {
     "data": {
      "text/plain": [
       "Sedans           7903\n",
       "Station wagon    3553\n",
       "Compact          3153\n",
       "Van               783\n",
       "Other             290\n",
       "Transporter        88\n",
       "Off-Road           56\n",
       "Coupe              25\n",
       "Convertible         8\n",
       "Name: body_type, dtype: int64"
      ]
     },
     "execution_count": 125,
     "metadata": {},
     "output_type": "execute_result"
    }
   ],
   "source": [
    "df.body_type.value_counts()"
   ]
  },
  {
   "cell_type": "code",
   "execution_count": null,
   "metadata": {},
   "outputs": [],
   "source": [
    "#df.drop('body',axis=1,inplace=True) # zehra hocam böyle bir drop satırı eklemiş çalıştırılmamış sorulmak üzere not alıyorum."
   ]
  },
  {
   "cell_type": "code",
   "execution_count": null,
   "metadata": {},
   "outputs": [],
   "source": []
  },
  {
   "cell_type": "markdown",
   "metadata": {},
   "source": [
    "## price"
   ]
  },
  {
   "cell_type": "code",
   "execution_count": 34,
   "metadata": {},
   "outputs": [
    {
     "data": {
      "text/plain": [
       "0"
      ]
     },
     "execution_count": 34,
     "metadata": {},
     "output_type": "execute_result"
    }
   ],
   "source": [
    "df.price.isnull().sum() # price columnunda null değer sorguluyoruz"
   ]
  },
  {
   "cell_type": "code",
   "execution_count": 41,
   "metadata": {},
   "outputs": [
    {
     "name": "stderr",
     "output_type": "stream",
     "text": [
      "C:\\Users\\W-10\\anaconda3\\lib\\site-packages\\seaborn\\_decorators.py:36: FutureWarning: Pass the following variable as a keyword arg: x. From version 0.12, the only valid positional argument will be `data`, and passing other arguments without an explicit keyword will result in an error or misinterpretation.\n",
      "  warnings.warn(\n"
     ]
    },
    {
     "data": {
      "image/png": "[encoded data removed]",
      "text/plain": [
       "<Figure size 640x480 with 1 Axes>"
      ]
     },
     "metadata": {},
     "output_type": "display_data"
    }
   ],
   "source": [
    "sns.boxplot(df.price)\n",
    "plt.show()"
   ]
  },
  {
   "cell_type": "code",
   "execution_count": 40,
   "metadata": {},
   "outputs": [
    {
     "data": {
      "image/png": "[encoded data removed]",
      "text/plain": [
       "<Figure size 640x480 with 1 Axes>"
      ]
     },
     "metadata": {},
     "output_type": "display_data"
    }
   ],
   "source": [
    "sns.histplot(df.price);\n",
    "plt.show()"
   ]
  },
  {
   "cell_type": "code",
   "execution_count": 44,
   "metadata": {},
   "outputs": [
    {
     "name": "stderr",
     "output_type": "stream",
     "text": [
      "C:\\Users\\W-10\\anaconda3\\lib\\site-packages\\seaborn\\distributions.py:2557: FutureWarning: `distplot` is a deprecated function and will be removed in a future version. Please adapt your code to use either `displot` (a figure-level function with similar flexibility) or `histplot` (an axes-level function for histograms).\n",
      "  warnings.warn(msg, FutureWarning)\n"
     ]
    },
    {
     "data": {
      "image/png": "[encoded data removed]",
      "text/plain": [
       "<Figure size 640x480 with 1 Axes>"
      ]
     },
     "metadata": {},
     "output_type": "display_data"
    }
   ],
   "source": [
    "sns.distplot(df.price)\n",
    "plt.show()"
   ]
  },
  {
   "cell_type": "markdown",
   "metadata": {},
   "source": [
    "## vat"
   ]
  },
  {
   "cell_type": "code",
   "execution_count": 126,
   "metadata": {},
   "outputs": [
    {
     "data": {
      "text/plain": [
       "VAT deductible      10980\n",
       "NaN                  4513\n",
       "Price negotiable      426\n",
       "Name: vat, dtype: int64"
      ]
     },
     "execution_count": 126,
     "metadata": {},
     "output_type": "execute_result"
    }
   ],
   "source": [
    "df.vat.value_counts(dropna=False)"
   ]
  },
  {
   "cell_type": "markdown",
   "metadata": {},
   "source": [
    "## km"
   ]
  },
  {
   "cell_type": "code",
   "execution_count": 93,
   "metadata": {},
   "outputs": [],
   "source": [
    "df[\"km\"] = df[\"km\"].str.replace(\" km\",\"\", regex=True) # kmcolumnunda km str ifadesinden kurtuluyoruz"
   ]
  },
  {
   "cell_type": "code",
   "execution_count": 94,
   "metadata": {},
   "outputs": [],
   "source": [
    "df[\"km\"] = df[\"km\"].replace(['-'], '0') # değeri floata çevireceğimiz için sayı harici bir ifade bulunmaması için - leri 0 a dönüştürüyoruz"
   ]
  },
  {
   "cell_type": "code",
   "execution_count": 95,
   "metadata": {},
   "outputs": [],
   "source": [
    "df[\"km\"]  = df[\"km\"].str.replace(',', '') "
   ]
  },
  {
   "cell_type": "code",
   "execution_count": 96,
   "metadata": {},
   "outputs": [
    {
     "data": {
      "text/plain": [
       "0        56013\n",
       "1        80000\n",
       "2        83450\n",
       "3        73000\n",
       "4        16200\n",
       "         ...  \n",
       "15914        0\n",
       "15915     9900\n",
       "15916       15\n",
       "15917       10\n",
       "15918        0\n",
       "Name: km, Length: 15919, dtype: object"
      ]
     },
     "execution_count": 96,
     "metadata": {},
     "output_type": "execute_result"
    }
   ],
   "source": [
    "df[\"km\"]"
   ]
  },
  {
   "cell_type": "code",
   "execution_count": 97,
   "metadata": {},
   "outputs": [
    {
     "data": {
      "text/plain": [
       "0        56013.0\n",
       "1        80000.0\n",
       "2        83450.0\n",
       "3        73000.0\n",
       "4        16200.0\n",
       "          ...   \n",
       "15914        0.0\n",
       "15915     9900.0\n",
       "15916       15.0\n",
       "15917       10.0\n",
       "15918        0.0\n",
       "Name: km, Length: 15919, dtype: float64"
      ]
     },
     "execution_count": 97,
     "metadata": {},
     "output_type": "execute_result"
    }
   ],
   "source": [
    "df.km.astype('float') # type ı floata çeviriyoruz."
   ]
  },
  {
   "cell_type": "code",
   "execution_count": 98,
   "metadata": {},
   "outputs": [
    {
     "data": {
      "text/plain": [
       "10       1045\n",
       "0        1043\n",
       "1         367\n",
       "5         170\n",
       "50        148\n",
       "         ... \n",
       "14960       1\n",
       "89214       1\n",
       "10499       1\n",
       "28508       1\n",
       "1798        1\n",
       "Name: km, Length: 6689, dtype: int64"
      ]
     },
     "execution_count": 98,
     "metadata": {},
     "output_type": "execute_result"
    }
   ],
   "source": [
    "df.km.value_counts(dropna=False)"
   ]
  },
  {
   "cell_type": "markdown",
   "metadata": {},
   "source": [
    "## registration"
   ]
  },
  {
   "cell_type": "code",
   "execution_count": 99,
   "metadata": {},
   "outputs": [
    {
     "data": {
      "text/plain": [
       "-/-        1597\n",
       "03/2018     695\n",
       "02/2019     585\n",
       "05/2018     572\n",
       "03/2019     543\n",
       "04/2018     541\n",
       "01/2019     541\n",
       "02/2018     539\n",
       "03/2016     536\n",
       "06/2018     532\n",
       "04/2016     532\n",
       "01/2018     511\n",
       "04/2019     506\n",
       "02/2016     472\n",
       "03/2017     471\n",
       "05/2016     459\n",
       "06/2016     452\n",
       "05/2019     440\n",
       "06/2017     409\n",
       "05/2017     404\n",
       "07/2018     396\n",
       "04/2017     380\n",
       "01/2016     376\n",
       "02/2017     368\n",
       "01/2017     306\n",
       "08/2018     285\n",
       "06/2019     224\n",
       "07/2017     215\n",
       "11/2017     180\n",
       "07/2016     176\n",
       "10/2016     160\n",
       "10/2017     154\n",
       "09/2017     149\n",
       "11/2016     142\n",
       "09/2018     141\n",
       "09/2016     141\n",
       "12/2016     134\n",
       "12/2017     123\n",
       "08/2017     114\n",
       "11/2018     110\n",
       "12/2018     103\n",
       "10/2018      97\n",
       "08/2016      94\n",
       "07/2019       6\n",
       "09/2019       5\n",
       "08/2019       1\n",
       "12/2019       1\n",
       "11/2019       1\n",
       "Name: registration, dtype: int64"
      ]
     },
     "execution_count": 99,
     "metadata": {},
     "output_type": "execute_result"
    }
   ],
   "source": [
    "df[\"registration\"].value_counts()"
   ]
  },
  {
   "cell_type": "code",
   "execution_count": 100,
   "metadata": {},
   "outputs": [
    {
     "data": {
      "text/plain": [
       "0     01/2016\n",
       "1     03/2017\n",
       "2     02/2016\n",
       "3     08/2016\n",
       "4     05/2016\n",
       "5     02/2016\n",
       "6     03/2016\n",
       "7     02/2016\n",
       "8     02/2016\n",
       "9     06/2017\n",
       "10    05/2018\n",
       "11    05/2016\n",
       "12    09/2016\n",
       "13    06/2016\n",
       "14    10/2016\n",
       "15    04/2016\n",
       "16    06/2018\n",
       "17    11/2017\n",
       "18    07/2016\n",
       "19    05/2018\n",
       "Name: registration, dtype: object"
      ]
     },
     "execution_count": 100,
     "metadata": {},
     "output_type": "execute_result"
    }
   ],
   "source": [
    "df[\"registration\"].head(20)   # bu column drop edilecek diye konuşmuştuk. First registration sütunu kullanılacak.Ama büşranın notebook undaki kodlar kullanılabilir."
   ]
  },
  {
   "cell_type": "markdown",
   "metadata": {},
   "source": [
    "## prev_owner"
   ]
  },
  {
   "cell_type": "code",
   "execution_count": 101,
   "metadata": {},
   "outputs": [
    {
     "data": {
      "text/plain": [
       "1 previous owner     8294\n",
       "2 previous owners     778\n",
       "3 previous owners      17\n",
       "4 previous owners       2\n",
       "Name: prev_owner, dtype: int64"
      ]
     },
     "execution_count": 101,
     "metadata": {},
     "output_type": "execute_result"
    }
   ],
   "source": [
    "df[\"prev_owner\"].value_counts() "
   ]
  },
  {
   "cell_type": "code",
   "execution_count": 102,
   "metadata": {},
   "outputs": [
    {
     "data": {
      "text/plain": [
       "1    8294\n",
       "2     778\n",
       "3      17\n",
       "4       2\n",
       "Name: prev_owner, dtype: int64"
      ]
     },
     "execution_count": 102,
     "metadata": {},
     "output_type": "execute_result"
    }
   ],
   "source": [
    "df.prev_owner.str[0].str.strip(\"previous owner\").str.strip(\"previous owners\").value_counts()"
   ]
  },
  {
   "cell_type": "markdown",
   "metadata": {},
   "source": [
    "## kw"
   ]
  },
  {
   "cell_type": "code",
   "execution_count": 128,
   "metadata": {},
   "outputs": [
    {
     "data": {
      "text/plain": [
       "Series([], Name: kw, dtype: int64)"
      ]
     },
     "execution_count": 128,
     "metadata": {},
     "output_type": "execute_result"
    }
   ],
   "source": [
    "df[\"kw\"].value_counts()"
   ]
  },
  {
   "cell_type": "code",
   "execution_count": 129,
   "metadata": {},
   "outputs": [],
   "source": [
    "df.drop(\"kw\", axis=1, inplace=True)"
   ]
  },
  {
   "cell_type": "code",
   "execution_count": 132,
   "metadata": {},
   "outputs": [
    {
     "data": {
      "text/html": [
       "<div>\n",
       "<style scoped>\n",
       "    .dataframe tbody tr th:only-of-type {\n",
       "        vertical-align: middle;\n",
       "    }\n",
       "\n",
       "    .dataframe tbody tr th {\n",
       "        vertical-align: top;\n",
       "    }\n",
       "\n",
       "    .dataframe thead th {\n",
       "        text-align: right;\n",
       "    }\n",
       "</style>\n",
       "<table border=\"1\" class=\"dataframe\">\n",
       "  <thead>\n",
       "    <tr style=\"text-align: right;\">\n",
       "      <th></th>\n",
       "      <th>make_model</th>\n",
       "      <th>body_type</th>\n",
       "      <th>price</th>\n",
       "      <th>vat</th>\n",
       "      <th>km</th>\n",
       "      <th>registration</th>\n",
       "      <th>prev_owner</th>\n",
       "      <th>hp</th>\n",
       "      <th>type</th>\n",
       "      <th>previous_owners</th>\n",
       "      <th>...</th>\n",
       "      <th>description</th>\n",
       "      <th>emission_label</th>\n",
       "      <th>gears</th>\n",
       "      <th>country version</th>\n",
       "      <th>electricity_consumption</th>\n",
       "      <th>last_service_date</th>\n",
       "      <th>other_fuel_types</th>\n",
       "      <th>availability</th>\n",
       "      <th>last_timing_belt_service_date</th>\n",
       "      <th>available_from</th>\n",
       "    </tr>\n",
       "  </thead>\n",
       "  <tbody>\n",
       "    <tr>\n",
       "      <th>0</th>\n",
       "      <td>Audi A1</td>\n",
       "      <td>Sedans</td>\n",
       "      <td>15770</td>\n",
       "      <td>VAT deductible</td>\n",
       "      <td>56,013 km</td>\n",
       "      <td>01/2016</td>\n",
       "      <td>2 previous owners</td>\n",
       "      <td>66 kW</td>\n",
       "      <td>[, Used, , Diesel (Particulate Filter)]</td>\n",
       "      <td>\\n2\\n</td>\n",
       "      <td>...</td>\n",
       "      <td>[\\n, Sicherheit:,  , Deaktivierung für Beifahr...</td>\n",
       "      <td>NaN</td>\n",
       "      <td>NaN</td>\n",
       "      <td>NaN</td>\n",
       "      <td>NaN</td>\n",
       "      <td>NaN</td>\n",
       "      <td>NaN</td>\n",
       "      <td>NaN</td>\n",
       "      <td>NaN</td>\n",
       "      <td>NaN</td>\n",
       "    </tr>\n",
       "    <tr>\n",
       "      <th>1</th>\n",
       "      <td>Audi A1</td>\n",
       "      <td>Sedans</td>\n",
       "      <td>14500</td>\n",
       "      <td>Price negotiable</td>\n",
       "      <td>80,000 km</td>\n",
       "      <td>03/2017</td>\n",
       "      <td>None</td>\n",
       "      <td>141 kW</td>\n",
       "      <td>[, Used, , Gasoline]</td>\n",
       "      <td>NaN</td>\n",
       "      <td>...</td>\n",
       "      <td>[\\nLangstreckenfahrzeug daher die hohe Kilomet...</td>\n",
       "      <td>[\\n4 (Green)\\n]</td>\n",
       "      <td>[\\n7\\n]</td>\n",
       "      <td>NaN</td>\n",
       "      <td>NaN</td>\n",
       "      <td>NaN</td>\n",
       "      <td>NaN</td>\n",
       "      <td>NaN</td>\n",
       "      <td>NaN</td>\n",
       "      <td>NaN</td>\n",
       "    </tr>\n",
       "    <tr>\n",
       "      <th>2</th>\n",
       "      <td>Audi A1</td>\n",
       "      <td>Sedans</td>\n",
       "      <td>14640</td>\n",
       "      <td>VAT deductible</td>\n",
       "      <td>83,450 km</td>\n",
       "      <td>02/2016</td>\n",
       "      <td>1 previous owner</td>\n",
       "      <td>85 kW</td>\n",
       "      <td>[, Used, , Diesel (Particulate Filter)]</td>\n",
       "      <td>\\n1\\n</td>\n",
       "      <td>...</td>\n",
       "      <td>[\\n, Fahrzeug-Nummer: AM-95365,  , Ehem. UPE 2...</td>\n",
       "      <td>[\\n4 (Green)\\n]</td>\n",
       "      <td>NaN</td>\n",
       "      <td>NaN</td>\n",
       "      <td>NaN</td>\n",
       "      <td>NaN</td>\n",
       "      <td>NaN</td>\n",
       "      <td>NaN</td>\n",
       "      <td>NaN</td>\n",
       "      <td>NaN</td>\n",
       "    </tr>\n",
       "    <tr>\n",
       "      <th>3</th>\n",
       "      <td>Audi A1</td>\n",
       "      <td>Sedans</td>\n",
       "      <td>14500</td>\n",
       "      <td>None</td>\n",
       "      <td>73,000 km</td>\n",
       "      <td>08/2016</td>\n",
       "      <td>1 previous owner</td>\n",
       "      <td>66 kW</td>\n",
       "      <td>[, Used, , Diesel (Particulate Filter)]</td>\n",
       "      <td>\\n1\\n</td>\n",
       "      <td>...</td>\n",
       "      <td>[\\nAudi A1: , - 1e eigenaar , - Perfecte staat...</td>\n",
       "      <td>NaN</td>\n",
       "      <td>[\\n6\\n]</td>\n",
       "      <td>NaN</td>\n",
       "      <td>NaN</td>\n",
       "      <td>NaN</td>\n",
       "      <td>NaN</td>\n",
       "      <td>NaN</td>\n",
       "      <td>NaN</td>\n",
       "      <td>NaN</td>\n",
       "    </tr>\n",
       "    <tr>\n",
       "      <th>4</th>\n",
       "      <td>Audi A1</td>\n",
       "      <td>Sedans</td>\n",
       "      <td>16790</td>\n",
       "      <td>None</td>\n",
       "      <td>16,200 km</td>\n",
       "      <td>05/2016</td>\n",
       "      <td>1 previous owner</td>\n",
       "      <td>66 kW</td>\n",
       "      <td>[, Used, , Diesel (Particulate Filter)]</td>\n",
       "      <td>\\n1\\n</td>\n",
       "      <td>...</td>\n",
       "      <td>[\\n, Technik &amp; Sicherheit:, Xenon plus, Klimaa...</td>\n",
       "      <td>NaN</td>\n",
       "      <td>NaN</td>\n",
       "      <td>[\\nGermany\\n]</td>\n",
       "      <td>NaN</td>\n",
       "      <td>NaN</td>\n",
       "      <td>NaN</td>\n",
       "      <td>NaN</td>\n",
       "      <td>NaN</td>\n",
       "      <td>NaN</td>\n",
       "    </tr>\n",
       "  </tbody>\n",
       "</table>\n",
       "<p>5 rows × 51 columns</p>\n",
       "</div>"
      ],
      "text/plain": [
       "  make_model body_type  price               vat         km registration  \\\n",
       "0    Audi A1    Sedans  15770    VAT deductible  56,013 km      01/2016   \n",
       "1    Audi A1    Sedans  14500  Price negotiable  80,000 km      03/2017   \n",
       "2    Audi A1    Sedans  14640    VAT deductible  83,450 km      02/2016   \n",
       "3    Audi A1    Sedans  14500              None  73,000 km      08/2016   \n",
       "4    Audi A1    Sedans  16790              None  16,200 km      05/2016   \n",
       "\n",
       "          prev_owner      hp                                     type  \\\n",
       "0  2 previous owners   66 kW  [, Used, , Diesel (Particulate Filter)]   \n",
       "1               None  141 kW                     [, Used, , Gasoline]   \n",
       "2   1 previous owner   85 kW  [, Used, , Diesel (Particulate Filter)]   \n",
       "3   1 previous owner   66 kW  [, Used, , Diesel (Particulate Filter)]   \n",
       "4   1 previous owner   66 kW  [, Used, , Diesel (Particulate Filter)]   \n",
       "\n",
       "  previous_owners  ...                                        description  \\\n",
       "0           \\n2\\n  ...  [\\n, Sicherheit:,  , Deaktivierung für Beifahr...   \n",
       "1             NaN  ...  [\\nLangstreckenfahrzeug daher die hohe Kilomet...   \n",
       "2           \\n1\\n  ...  [\\n, Fahrzeug-Nummer: AM-95365,  , Ehem. UPE 2...   \n",
       "3           \\n1\\n  ...  [\\nAudi A1: , - 1e eigenaar , - Perfecte staat...   \n",
       "4           \\n1\\n  ...  [\\n, Technik & Sicherheit:, Xenon plus, Klimaa...   \n",
       "\n",
       "    emission_label    gears country version electricity_consumption  \\\n",
       "0              NaN      NaN             NaN                     NaN   \n",
       "1  [\\n4 (Green)\\n]  [\\n7\\n]             NaN                     NaN   \n",
       "2  [\\n4 (Green)\\n]      NaN             NaN                     NaN   \n",
       "3              NaN  [\\n6\\n]             NaN                     NaN   \n",
       "4              NaN      NaN   [\\nGermany\\n]                     NaN   \n",
       "\n",
       "  last_service_date other_fuel_types availability  \\\n",
       "0               NaN              NaN          NaN   \n",
       "1               NaN              NaN          NaN   \n",
       "2               NaN              NaN          NaN   \n",
       "3               NaN              NaN          NaN   \n",
       "4               NaN              NaN          NaN   \n",
       "\n",
       "  last_timing_belt_service_date available_from  \n",
       "0                           NaN            NaN  \n",
       "1                           NaN            NaN  \n",
       "2                           NaN            NaN  \n",
       "3                           NaN            NaN  \n",
       "4                           NaN            NaN  \n",
       "\n",
       "[5 rows x 51 columns]"
      ]
     },
     "execution_count": 132,
     "metadata": {},
     "output_type": "execute_result"
    }
   ],
   "source": [
    "df.head()"
   ]
  },
  {
   "cell_type": "markdown",
   "metadata": {},
   "source": [
    "## hp"
   ]
  },
  {
   "cell_type": "code",
   "execution_count": 133,
   "metadata": {},
   "outputs": [
    {
     "data": {
      "text/plain": [
       "85 kW     2542\n",
       "66 kW     2122\n",
       "81 kW     1402\n",
       "100 kW    1308\n",
       "110 kW    1112\n",
       "          ... \n",
       "75 kW        1\n",
       "133 kW       1\n",
       "44 kW        1\n",
       "123 kW       1\n",
       "163 kW       1\n",
       "Name: hp, Length: 81, dtype: int64"
      ]
     },
     "execution_count": 133,
     "metadata": {},
     "output_type": "execute_result"
    }
   ],
   "source": [
    "df[\"hp\"].value_counts() "
   ]
  },
  {
   "cell_type": "code",
   "execution_count": 134,
   "metadata": {},
   "outputs": [
    {
     "data": {
      "text/plain": [
       "85     2542\n",
       "66     2122\n",
       "81     1402\n",
       "100    1308\n",
       "110    1112\n",
       "       ... \n",
       "84        1\n",
       "137       1\n",
       "123       1\n",
       "115       1\n",
       "195       1\n",
       "Name: hp, Length: 81, dtype: int64"
      ]
     },
     "execution_count": 134,
     "metadata": {},
     "output_type": "execute_result"
    }
   ],
   "source": [
    "df.hp.str.rstrip(\"kW\").str.strip(\" \").value_counts()"
   ]
  },
  {
   "cell_type": "code",
   "execution_count": 135,
   "metadata": {},
   "outputs": [
    {
     "data": {
      "text/plain": [
       "0         66\n",
       "1        141\n",
       "2         85\n",
       "3         66\n",
       "4         66\n",
       "        ... \n",
       "15914    147\n",
       "15915    165\n",
       "15916    146\n",
       "15917    147\n",
       "15918    165\n",
       "Name: hp, Length: 15919, dtype: object"
      ]
     },
     "execution_count": 135,
     "metadata": {},
     "output_type": "execute_result"
    }
   ],
   "source": [
    "df.hp= df.hp.str.rstrip(\"kW\").str.strip(\" \") # .astype(float)\n",
    "df.hp"
   ]
  },
  {
   "cell_type": "code",
   "execution_count": 136,
   "metadata": {},
   "outputs": [
    {
     "data": {
      "text/html": [
       "<div>\n",
       "<style scoped>\n",
       "    .dataframe tbody tr th:only-of-type {\n",
       "        vertical-align: middle;\n",
       "    }\n",
       "\n",
       "    .dataframe tbody tr th {\n",
       "        vertical-align: top;\n",
       "    }\n",
       "\n",
       "    .dataframe thead th {\n",
       "        text-align: right;\n",
       "    }\n",
       "</style>\n",
       "<table border=\"1\" class=\"dataframe\">\n",
       "  <thead>\n",
       "    <tr style=\"text-align: right;\">\n",
       "      <th></th>\n",
       "      <th>make_model</th>\n",
       "      <th>body_type</th>\n",
       "      <th>price</th>\n",
       "      <th>vat</th>\n",
       "      <th>km</th>\n",
       "      <th>registration</th>\n",
       "      <th>prev_owner</th>\n",
       "      <th>hp</th>\n",
       "      <th>type</th>\n",
       "      <th>previous_owners</th>\n",
       "      <th>...</th>\n",
       "      <th>description</th>\n",
       "      <th>emission_label</th>\n",
       "      <th>gears</th>\n",
       "      <th>country version</th>\n",
       "      <th>electricity_consumption</th>\n",
       "      <th>last_service_date</th>\n",
       "      <th>other_fuel_types</th>\n",
       "      <th>availability</th>\n",
       "      <th>last_timing_belt_service_date</th>\n",
       "      <th>available_from</th>\n",
       "    </tr>\n",
       "  </thead>\n",
       "  <tbody>\n",
       "    <tr>\n",
       "      <th>1269</th>\n",
       "      <td>Audi A1</td>\n",
       "      <td>Compact</td>\n",
       "      <td>15500</td>\n",
       "      <td>None</td>\n",
       "      <td>11,284 km</td>\n",
       "      <td>06/2018</td>\n",
       "      <td>None</td>\n",
       "      <td>-</td>\n",
       "      <td>[, Used, , Diesel]</td>\n",
       "      <td>NaN</td>\n",
       "      <td>...</td>\n",
       "      <td>[\\nSOMOS CONCESIONARIO OFICIAL AUDI (MOTOR GOM...</td>\n",
       "      <td>NaN</td>\n",
       "      <td>NaN</td>\n",
       "      <td>NaN</td>\n",
       "      <td>NaN</td>\n",
       "      <td>NaN</td>\n",
       "      <td>NaN</td>\n",
       "      <td>NaN</td>\n",
       "      <td>NaN</td>\n",
       "      <td>NaN</td>\n",
       "    </tr>\n",
       "    <tr>\n",
       "      <th>2500</th>\n",
       "      <td>Audi A1</td>\n",
       "      <td>Compact</td>\n",
       "      <td>22750</td>\n",
       "      <td>VAT deductible</td>\n",
       "      <td>10 km</td>\n",
       "      <td>-/-</td>\n",
       "      <td>None</td>\n",
       "      <td>-</td>\n",
       "      <td>[, New, , Super 95]</td>\n",
       "      <td>NaN</td>\n",
       "      <td>...</td>\n",
       "      <td>[\\n, Highlights, Spurhalteassistent \"Lane Assi...</td>\n",
       "      <td>[\\n4 (Green)\\n]</td>\n",
       "      <td>[\\n5\\n]</td>\n",
       "      <td>[\\nGermany\\n]</td>\n",
       "      <td>NaN</td>\n",
       "      <td>NaN</td>\n",
       "      <td>NaN</td>\n",
       "      <td>NaN</td>\n",
       "      <td>NaN</td>\n",
       "      <td>NaN</td>\n",
       "    </tr>\n",
       "    <tr>\n",
       "      <th>4259</th>\n",
       "      <td>Audi A3</td>\n",
       "      <td>Compact</td>\n",
       "      <td>18700</td>\n",
       "      <td>None</td>\n",
       "      <td>16,316 km</td>\n",
       "      <td>06/2018</td>\n",
       "      <td>None</td>\n",
       "      <td>-</td>\n",
       "      <td>[, Used, , Diesel]</td>\n",
       "      <td>NaN</td>\n",
       "      <td>...</td>\n",
       "      <td>[\\nSOMOS CONCESIONARIO OFICIAL AUDI (MOTOR GOM...</td>\n",
       "      <td>NaN</td>\n",
       "      <td>NaN</td>\n",
       "      <td>NaN</td>\n",
       "      <td>NaN</td>\n",
       "      <td>NaN</td>\n",
       "      <td>NaN</td>\n",
       "      <td>NaN</td>\n",
       "      <td>NaN</td>\n",
       "      <td>NaN</td>\n",
       "    </tr>\n",
       "    <tr>\n",
       "      <th>7177</th>\n",
       "      <td>Opel Astra</td>\n",
       "      <td>Sedans</td>\n",
       "      <td>18200</td>\n",
       "      <td>VAT deductible</td>\n",
       "      <td>3,260 km</td>\n",
       "      <td>02/2019</td>\n",
       "      <td>None</td>\n",
       "      <td>-</td>\n",
       "      <td>[, Used, , Gasoline]</td>\n",
       "      <td>NaN</td>\n",
       "      <td>...</td>\n",
       "      <td>[]</td>\n",
       "      <td>NaN</td>\n",
       "      <td>NaN</td>\n",
       "      <td>NaN</td>\n",
       "      <td>NaN</td>\n",
       "      <td>NaN</td>\n",
       "      <td>NaN</td>\n",
       "      <td>NaN</td>\n",
       "      <td>NaN</td>\n",
       "      <td>NaN</td>\n",
       "    </tr>\n",
       "    <tr>\n",
       "      <th>7670</th>\n",
       "      <td>Opel Astra</td>\n",
       "      <td>Compact</td>\n",
       "      <td>31246</td>\n",
       "      <td>VAT deductible</td>\n",
       "      <td>10 km</td>\n",
       "      <td>01/2019</td>\n",
       "      <td>None</td>\n",
       "      <td>-</td>\n",
       "      <td>[, Used, , Gasoline]</td>\n",
       "      <td>NaN</td>\n",
       "      <td>...</td>\n",
       "      <td>[\\nDeze gloednieuwe Opel Astra 1.4 Turbo Autom...</td>\n",
       "      <td>NaN</td>\n",
       "      <td>[\\n6\\n]</td>\n",
       "      <td>[\\nNetherlands\\n]</td>\n",
       "      <td>NaN</td>\n",
       "      <td>NaN</td>\n",
       "      <td>NaN</td>\n",
       "      <td>NaN</td>\n",
       "      <td>NaN</td>\n",
       "      <td>NaN</td>\n",
       "    </tr>\n",
       "    <tr>\n",
       "      <th>...</th>\n",
       "      <td>...</td>\n",
       "      <td>...</td>\n",
       "      <td>...</td>\n",
       "      <td>...</td>\n",
       "      <td>...</td>\n",
       "      <td>...</td>\n",
       "      <td>...</td>\n",
       "      <td>...</td>\n",
       "      <td>...</td>\n",
       "      <td>...</td>\n",
       "      <td>...</td>\n",
       "      <td>...</td>\n",
       "      <td>...</td>\n",
       "      <td>...</td>\n",
       "      <td>...</td>\n",
       "      <td>...</td>\n",
       "      <td>...</td>\n",
       "      <td>...</td>\n",
       "      <td>...</td>\n",
       "      <td>...</td>\n",
       "      <td>...</td>\n",
       "    </tr>\n",
       "    <tr>\n",
       "      <th>15641</th>\n",
       "      <td>Renault Espace</td>\n",
       "      <td>Van</td>\n",
       "      <td>29300</td>\n",
       "      <td>VAT deductible</td>\n",
       "      <td>56,585 km</td>\n",
       "      <td>11/2017</td>\n",
       "      <td>None</td>\n",
       "      <td>-</td>\n",
       "      <td>[, Used, , Diesel]</td>\n",
       "      <td>NaN</td>\n",
       "      <td>...</td>\n",
       "      <td>[\\nV dCi 160 Energy Twin Turbo Initiale Paris ...</td>\n",
       "      <td>NaN</td>\n",
       "      <td>NaN</td>\n",
       "      <td>NaN</td>\n",
       "      <td>NaN</td>\n",
       "      <td>NaN</td>\n",
       "      <td>NaN</td>\n",
       "      <td>NaN</td>\n",
       "      <td>NaN</td>\n",
       "      <td>NaN</td>\n",
       "    </tr>\n",
       "    <tr>\n",
       "      <th>15647</th>\n",
       "      <td>Renault Espace</td>\n",
       "      <td>Van</td>\n",
       "      <td>28490</td>\n",
       "      <td>VAT deductible</td>\n",
       "      <td>51,776 km</td>\n",
       "      <td>11/2017</td>\n",
       "      <td>None</td>\n",
       "      <td>-</td>\n",
       "      <td>[, Used, , Diesel]</td>\n",
       "      <td>NaN</td>\n",
       "      <td>...</td>\n",
       "      <td>[\\nV dCi 160 Energy Twin Turbo Initiale Paris ...</td>\n",
       "      <td>NaN</td>\n",
       "      <td>NaN</td>\n",
       "      <td>NaN</td>\n",
       "      <td>NaN</td>\n",
       "      <td>NaN</td>\n",
       "      <td>NaN</td>\n",
       "      <td>NaN</td>\n",
       "      <td>NaN</td>\n",
       "      <td>NaN</td>\n",
       "    </tr>\n",
       "    <tr>\n",
       "      <th>15684</th>\n",
       "      <td>Renault Espace</td>\n",
       "      <td>Van</td>\n",
       "      <td>38900</td>\n",
       "      <td>VAT deductible</td>\n",
       "      <td>3,000 km</td>\n",
       "      <td>01/2019</td>\n",
       "      <td>None</td>\n",
       "      <td>-</td>\n",
       "      <td>[, Used, , Gasoline]</td>\n",
       "      <td>NaN</td>\n",
       "      <td>...</td>\n",
       "      <td>[\\nV Tce 225 EDC FAP Initiale Paris, essence, ...</td>\n",
       "      <td>NaN</td>\n",
       "      <td>NaN</td>\n",
       "      <td>NaN</td>\n",
       "      <td>NaN</td>\n",
       "      <td>NaN</td>\n",
       "      <td>NaN</td>\n",
       "      <td>NaN</td>\n",
       "      <td>NaN</td>\n",
       "      <td>NaN</td>\n",
       "    </tr>\n",
       "    <tr>\n",
       "      <th>15791</th>\n",
       "      <td>Renault Espace</td>\n",
       "      <td>Van</td>\n",
       "      <td>33990</td>\n",
       "      <td>VAT deductible</td>\n",
       "      <td>10,803 km</td>\n",
       "      <td>05/2018</td>\n",
       "      <td>None</td>\n",
       "      <td>-</td>\n",
       "      <td>[, Used, , Diesel]</td>\n",
       "      <td>NaN</td>\n",
       "      <td>...</td>\n",
       "      <td>[\\nV dCi 160 Energy Twin Turbo Initiale Paris ...</td>\n",
       "      <td>NaN</td>\n",
       "      <td>NaN</td>\n",
       "      <td>NaN</td>\n",
       "      <td>NaN</td>\n",
       "      <td>NaN</td>\n",
       "      <td>NaN</td>\n",
       "      <td>NaN</td>\n",
       "      <td>NaN</td>\n",
       "      <td>NaN</td>\n",
       "    </tr>\n",
       "    <tr>\n",
       "      <th>15906</th>\n",
       "      <td>Renault Espace</td>\n",
       "      <td>Van</td>\n",
       "      <td>39990</td>\n",
       "      <td>VAT deductible</td>\n",
       "      <td>10 km</td>\n",
       "      <td>01/2019</td>\n",
       "      <td>None</td>\n",
       "      <td>-</td>\n",
       "      <td>[, Used, , Gasoline]</td>\n",
       "      <td>NaN</td>\n",
       "      <td>...</td>\n",
       "      <td>[\\nV Tce 225 EDC FAP Initiale Paris, essence, ...</td>\n",
       "      <td>NaN</td>\n",
       "      <td>NaN</td>\n",
       "      <td>NaN</td>\n",
       "      <td>NaN</td>\n",
       "      <td>NaN</td>\n",
       "      <td>NaN</td>\n",
       "      <td>NaN</td>\n",
       "      <td>NaN</td>\n",
       "      <td>NaN</td>\n",
       "    </tr>\n",
       "  </tbody>\n",
       "</table>\n",
       "<p>88 rows × 51 columns</p>\n",
       "</div>"
      ],
      "text/plain": [
       "           make_model body_type  price             vat         km  \\\n",
       "1269          Audi A1   Compact  15500            None  11,284 km   \n",
       "2500          Audi A1   Compact  22750  VAT deductible      10 km   \n",
       "4259          Audi A3   Compact  18700            None  16,316 km   \n",
       "7177       Opel Astra    Sedans  18200  VAT deductible   3,260 km   \n",
       "7670       Opel Astra   Compact  31246  VAT deductible      10 km   \n",
       "...               ...       ...    ...             ...        ...   \n",
       "15641  Renault Espace       Van  29300  VAT deductible  56,585 km   \n",
       "15647  Renault Espace       Van  28490  VAT deductible  51,776 km   \n",
       "15684  Renault Espace       Van  38900  VAT deductible   3,000 km   \n",
       "15791  Renault Espace       Van  33990  VAT deductible  10,803 km   \n",
       "15906  Renault Espace       Van  39990  VAT deductible      10 km   \n",
       "\n",
       "      registration prev_owner hp                  type previous_owners  ...  \\\n",
       "1269       06/2018       None  -    [, Used, , Diesel]             NaN  ...   \n",
       "2500           -/-       None  -   [, New, , Super 95]             NaN  ...   \n",
       "4259       06/2018       None  -    [, Used, , Diesel]             NaN  ...   \n",
       "7177       02/2019       None  -  [, Used, , Gasoline]             NaN  ...   \n",
       "7670       01/2019       None  -  [, Used, , Gasoline]             NaN  ...   \n",
       "...            ...        ... ..                   ...             ...  ...   \n",
       "15641      11/2017       None  -    [, Used, , Diesel]             NaN  ...   \n",
       "15647      11/2017       None  -    [, Used, , Diesel]             NaN  ...   \n",
       "15684      01/2019       None  -  [, Used, , Gasoline]             NaN  ...   \n",
       "15791      05/2018       None  -    [, Used, , Diesel]             NaN  ...   \n",
       "15906      01/2019       None  -  [, Used, , Gasoline]             NaN  ...   \n",
       "\n",
       "                                             description   emission_label  \\\n",
       "1269   [\\nSOMOS CONCESIONARIO OFICIAL AUDI (MOTOR GOM...              NaN   \n",
       "2500   [\\n, Highlights, Spurhalteassistent \"Lane Assi...  [\\n4 (Green)\\n]   \n",
       "4259   [\\nSOMOS CONCESIONARIO OFICIAL AUDI (MOTOR GOM...              NaN   \n",
       "7177                                                  []              NaN   \n",
       "7670   [\\nDeze gloednieuwe Opel Astra 1.4 Turbo Autom...              NaN   \n",
       "...                                                  ...              ...   \n",
       "15641  [\\nV dCi 160 Energy Twin Turbo Initiale Paris ...              NaN   \n",
       "15647  [\\nV dCi 160 Energy Twin Turbo Initiale Paris ...              NaN   \n",
       "15684  [\\nV Tce 225 EDC FAP Initiale Paris, essence, ...              NaN   \n",
       "15791  [\\nV dCi 160 Energy Twin Turbo Initiale Paris ...              NaN   \n",
       "15906  [\\nV Tce 225 EDC FAP Initiale Paris, essence, ...              NaN   \n",
       "\n",
       "         gears    country version electricity_consumption last_service_date  \\\n",
       "1269       NaN                NaN                     NaN               NaN   \n",
       "2500   [\\n5\\n]      [\\nGermany\\n]                     NaN               NaN   \n",
       "4259       NaN                NaN                     NaN               NaN   \n",
       "7177       NaN                NaN                     NaN               NaN   \n",
       "7670   [\\n6\\n]  [\\nNetherlands\\n]                     NaN               NaN   \n",
       "...        ...                ...                     ...               ...   \n",
       "15641      NaN                NaN                     NaN               NaN   \n",
       "15647      NaN                NaN                     NaN               NaN   \n",
       "15684      NaN                NaN                     NaN               NaN   \n",
       "15791      NaN                NaN                     NaN               NaN   \n",
       "15906      NaN                NaN                     NaN               NaN   \n",
       "\n",
       "      other_fuel_types availability last_timing_belt_service_date  \\\n",
       "1269               NaN          NaN                           NaN   \n",
       "2500               NaN          NaN                           NaN   \n",
       "4259               NaN          NaN                           NaN   \n",
       "7177               NaN          NaN                           NaN   \n",
       "7670               NaN          NaN                           NaN   \n",
       "...                ...          ...                           ...   \n",
       "15641              NaN          NaN                           NaN   \n",
       "15647              NaN          NaN                           NaN   \n",
       "15684              NaN          NaN                           NaN   \n",
       "15791              NaN          NaN                           NaN   \n",
       "15906              NaN          NaN                           NaN   \n",
       "\n",
       "      available_from  \n",
       "1269             NaN  \n",
       "2500             NaN  \n",
       "4259             NaN  \n",
       "7177             NaN  \n",
       "7670             NaN  \n",
       "...              ...  \n",
       "15641            NaN  \n",
       "15647            NaN  \n",
       "15684            NaN  \n",
       "15791            NaN  \n",
       "15906            NaN  \n",
       "\n",
       "[88 rows x 51 columns]"
      ]
     },
     "execution_count": 136,
     "metadata": {},
     "output_type": "execute_result"
    }
   ],
   "source": [
    "df[df[\"hp\"]== \"-\"] # buradaki - ler üzerinde büşranın notebookundaki çalışma benzeri yöntemle doldurulabilr."
   ]
  },
  {
   "cell_type": "markdown",
   "metadata": {},
   "source": [
    "## type "
   ]
  },
  {
   "cell_type": "code",
   "execution_count": 137,
   "metadata": {},
   "outputs": [
    {
     "ename": "TypeError",
     "evalue": "unhashable type: 'list'",
     "output_type": "error",
     "traceback": [
      "\u001b[1;31m---------------------------------------------------------------------------\u001b[0m",
      "\u001b[1;31mTypeError\u001b[0m                                 Traceback (most recent call last)",
      "\u001b[1;32mpandas\\_libs\\hashtable_class_helper.pxi\u001b[0m in \u001b[0;36mpandas._libs.hashtable.PyObjectHashTable.map_locations\u001b[1;34m()\u001b[0m\n",
      "\u001b[1;31mTypeError\u001b[0m: unhashable type: 'list'"
     ]
    },
    {
     "name": "stderr",
     "output_type": "stream",
     "text": [
      "Exception ignored in: 'pandas._libs.index.IndexEngine._call_map_locations'\n",
      "Traceback (most recent call last):\n",
      "  File \"pandas\\_libs\\hashtable_class_helper.pxi\", line 4588, in pandas._libs.hashtable.PyObjectHashTable.map_locations\n",
      "TypeError: unhashable type: 'list'\n"
     ]
    },
    {
     "data": {
      "text/plain": [
       "[, Used, , Diesel (Particulate Filter)]                                                                                                       3475\n",
       "[, Used, , Diesel]                                                                                                                            2516\n",
       "[, Used, , Gasoline]                                                                                                                          2367\n",
       "[, Used, , Super 95]                                                                                                                          1818\n",
       "[, Pre-registered, , Super 95]                                                                                                                 500\n",
       "                                                                                                                                              ... \n",
       "[, Used, , Regular/Benzine 91 / Super 95 / Super Plus 98 / Super Plus E10 98 / Super E10 95 / Regular/Benzine E10 91 (Particulate Filter)]       1\n",
       "[, Pre-registered, , Regular/Benzine 91 / Super 95 / Regular/Benzine E10 91 / Super E10 95 / Super Plus 98 / Super Plus E10 98]                  1\n",
       "[, Demonstration, , Regular/Benzine E10 91]                                                                                                      1\n",
       "[, Demonstration, , Gasoline (Particulate Filter)]                                                                                               1\n",
       "[, Used, , Super 95 / Regular/Benzine E10 91]                                                                                                    1\n",
       "Name: type, Length: 169, dtype: int64"
      ]
     },
     "execution_count": 137,
     "metadata": {},
     "output_type": "execute_result"
    }
   ],
   "source": [
    "df[\"type\"].value_counts()"
   ]
  },
  {
   "cell_type": "code",
   "execution_count": 138,
   "metadata": {},
   "outputs": [
    {
     "data": {
      "text/plain": [
       "Used              11096\n",
       "New                1650\n",
       "Pre-registered     1364\n",
       "Employee's car     1011\n",
       "Demonstration       796\n",
       "NaN                   2\n",
       "Name: type, dtype: int64"
      ]
     },
     "execution_count": 138,
     "metadata": {},
     "output_type": "execute_result"
    }
   ],
   "source": [
    "df[\"type\"].str[1].value_counts(dropna=False)  # Diğer değerler Fuel sütunu ile aynı olduğu için bu şekilde alıcaz <ayşegül>"
   ]
  },
  {
   "cell_type": "markdown",
   "metadata": {},
   "source": [
    "## previous_owners "
   ]
  },
  {
   "cell_type": "code",
   "execution_count": 139,
   "metadata": {},
   "outputs": [
    {
     "ename": "TypeError",
     "evalue": "unhashable type: 'list'",
     "output_type": "error",
     "traceback": [
      "\u001b[1;31m---------------------------------------------------------------------------\u001b[0m",
      "\u001b[1;31mTypeError\u001b[0m                                 Traceback (most recent call last)",
      "\u001b[1;32mpandas\\_libs\\hashtable_class_helper.pxi\u001b[0m in \u001b[0;36mpandas._libs.hashtable.PyObjectHashTable.map_locations\u001b[1;34m()\u001b[0m\n",
      "\u001b[1;31mTypeError\u001b[0m: unhashable type: 'list'"
     ]
    },
    {
     "name": "stderr",
     "output_type": "stream",
     "text": [
      "Exception ignored in: 'pandas._libs.index.IndexEngine._call_map_locations'\n",
      "Traceback (most recent call last):\n",
      "  File \"pandas\\_libs\\hashtable_class_helper.pxi\", line 4588, in pandas._libs.hashtable.PyObjectHashTable.map_locations\n",
      "TypeError: unhashable type: 'list'\n"
     ]
    },
    {
     "data": {
      "text/plain": [
       "\\n1\\n                               8101\n",
       "\\n2\\n                                766\n",
       "\\n0\\n                                163\n",
       "\\n3\\n                                 17\n",
       "[\\n1\\n, \\n168 g CO2/km (comb)\\n]      13\n",
       "                                    ... \n",
       "[\\n2\\n, \\n127 g CO2/km (comb)\\n]       1\n",
       "[\\n1\\n, \\n159 g CO2/km (comb)\\n]       1\n",
       "[\\n0\\n, \\n117 g CO2/km (comb)\\n]       1\n",
       "[\\n0\\n, \\n187 g CO2/km (comb)\\n]       1\n",
       "[\\n1\\n, \\n102 g CO2/km (comb)\\n]       1\n",
       "Name: previous_owners, Length: 102, dtype: int64"
      ]
     },
     "execution_count": 139,
     "metadata": {},
     "output_type": "execute_result"
    }
   ],
   "source": [
    "df[\"previous_owners\"].value_counts()"
   ]
  },
  {
   "cell_type": "code",
   "execution_count": 140,
   "metadata": {},
   "outputs": [
    {
     "data": {
      "text/plain": [
       "0        \\n2\\n\n",
       "1          NaN\n",
       "2        \\n1\\n\n",
       "3        \\n1\\n\n",
       "4        \\n1\\n\n",
       "         ...  \n",
       "15914      NaN\n",
       "15915    \\n1\\n\n",
       "15916    \\n1\\n\n",
       "15917      NaN\n",
       "15918    \\n1\\n\n",
       "Name: previous_owners, Length: 15919, dtype: object"
      ]
     },
     "execution_count": 140,
     "metadata": {},
     "output_type": "execute_result"
    }
   ],
   "source": [
    "df[\"previous_owners\"]= [item[0] if type(item) ==list else item for item in df[\"previous_owners\"]]\n",
    "df[\"previous_owners\"]"
   ]
  },
  {
   "cell_type": "code",
   "execution_count": 141,
   "metadata": {},
   "outputs": [
    {
     "data": {
      "text/plain": [
       "1      8294\n",
       "NaN    6640\n",
       "2       778\n",
       "0       188\n",
       "3        17\n",
       "4         2\n",
       "Name: previous_owners, dtype: int64"
      ]
     },
     "execution_count": 141,
     "metadata": {},
     "output_type": "execute_result"
    }
   ],
   "source": [
    "df.previous_owners.str[1].str.strip(\"\\n\").value_counts(dropna=False)"
   ]
  },
  {
   "cell_type": "code",
   "execution_count": 142,
   "metadata": {},
   "outputs": [
    {
     "data": {
      "text/plain": [
       "0          2\n",
       "1        NaN\n",
       "2          1\n",
       "3          1\n",
       "4          1\n",
       "        ... \n",
       "15914    NaN\n",
       "15915      1\n",
       "15916      1\n",
       "15917    NaN\n",
       "15918      1\n",
       "Name: previous_owners, Length: 15919, dtype: object"
      ]
     },
     "execution_count": 142,
     "metadata": {},
     "output_type": "execute_result"
    }
   ],
   "source": [
    "df.previous_owners.str[1].str.strip(\"\\n\")  # Nan değerler doldurulacak"
   ]
  },
  {
   "cell_type": "markdown",
   "metadata": {},
   "source": [
    "## next_inspection"
   ]
  },
  {
   "cell_type": "code",
   "execution_count": 143,
   "metadata": {},
   "outputs": [
    {
     "ename": "TypeError",
     "evalue": "unhashable type: 'list'",
     "output_type": "error",
     "traceback": [
      "\u001b[1;31m---------------------------------------------------------------------------\u001b[0m",
      "\u001b[1;31mTypeError\u001b[0m                                 Traceback (most recent call last)",
      "\u001b[1;32mpandas\\_libs\\hashtable_class_helper.pxi\u001b[0m in \u001b[0;36mpandas._libs.hashtable.PyObjectHashTable.map_locations\u001b[1;34m()\u001b[0m\n",
      "\u001b[1;31mTypeError\u001b[0m: unhashable type: 'list'"
     ]
    },
    {
     "name": "stderr",
     "output_type": "stream",
     "text": [
      "Exception ignored in: 'pandas._libs.index.IndexEngine._call_map_locations'\n",
      "Traceback (most recent call last):\n",
      "  File \"pandas\\_libs\\hashtable_class_helper.pxi\", line 4588, in pandas._libs.hashtable.PyObjectHashTable.map_locations\n",
      "TypeError: unhashable type: 'list'\n"
     ]
    },
    {
     "data": {
      "text/plain": [
       "NaN                                                                                              12384\n",
       "\\n04/2022\\n                                                                                         62\n",
       "\\n03/2021\\n                                                                                         38\n",
       "\\n03/2022\\n                                                                                         36\n",
       "\\n06/2021\\n                                                                                         34\n",
       "                                                                                                 ...  \n",
       "[\\n05/2020\\n, \\n138 g CO2/km (comb)\\n]                                                               1\n",
       "[\\n12/2019\\n, \\n130 g CO2/km (comb)\\n]                                                               1\n",
       "[\\n01/2020\\n, \\n111 g CO2/km (comb)\\n]                                                               1\n",
       "[\\n01/2023\\n, \\n130 g CO2/km (comb)\\n]                                                               1\n",
       "[\\n10/2019\\n, \\n, 5.5 l/100 km (comb), \\n, 7 l/100 km (city), \\n, 4.6 l/100 km (country), \\n]        1\n",
       "Name: next_inspection, Length: 1400, dtype: int64"
      ]
     },
     "execution_count": 143,
     "metadata": {},
     "output_type": "execute_result"
    }
   ],
   "source": [
    "df.next_inspection.value_counts(dropna=False)"
   ]
  },
  {
   "cell_type": "code",
   "execution_count": 144,
   "metadata": {},
   "outputs": [
    {
     "data": {
      "text/plain": [
       "03/2018     2\n",
       "05/2019    27\n",
       "11/2021    47\n",
       "09/2019    32\n",
       "07/2020    35\n",
       "10/2020    35\n",
       "03/2020    88\n",
       "02/2022    96\n",
       "11/2018     4\n",
       "12/2018     2\n",
       "Name: next_inspection, dtype: int64"
      ]
     },
     "execution_count": 144,
     "metadata": {},
     "output_type": "execute_result"
    }
   ],
   "source": [
    "df.next_inspection.str[0].str.strip(\"\\n\").value_counts(dropna=False).sample(10) # null değer oranı çok fazla olduğundan siliyoruz."
   ]
  },
  {
   "cell_type": "code",
   "execution_count": 145,
   "metadata": {},
   "outputs": [],
   "source": [
    "df.drop('next_inspection',axis=1,inplace=True)"
   ]
  },
  {
   "cell_type": "markdown",
   "metadata": {},
   "source": [
    "## inspection_new"
   ]
  },
  {
   "cell_type": "code",
   "execution_count": 147,
   "metadata": {},
   "outputs": [
    {
     "ename": "TypeError",
     "evalue": "unhashable type: 'list'",
     "output_type": "error",
     "traceback": [
      "\u001b[1;31m---------------------------------------------------------------------------\u001b[0m",
      "\u001b[1;31mTypeError\u001b[0m                                 Traceback (most recent call last)",
      "\u001b[1;32mpandas\\_libs\\hashtable_class_helper.pxi\u001b[0m in \u001b[0;36mpandas._libs.hashtable.PyObjectHashTable.map_locations\u001b[1;34m()\u001b[0m\n",
      "\u001b[1;31mTypeError\u001b[0m: unhashable type: 'list'"
     ]
    },
    {
     "name": "stderr",
     "output_type": "stream",
     "text": [
      "Exception ignored in: 'pandas._libs.index.IndexEngine._call_map_locations'\n",
      "Traceback (most recent call last):\n",
      "  File \"pandas\\_libs\\hashtable_class_helper.pxi\", line 4588, in pandas._libs.hashtable.PyObjectHashTable.map_locations\n",
      "TypeError: unhashable type: 'list'\n"
     ]
    },
    {
     "data": {
      "text/plain": [
       "NaN                                                                                            11987\n",
       "[\\nYes\\n, \\nEuro 6\\n]                                                                            523\n",
       "\\nYes\\n                                                                                          362\n",
       "[\\nYes\\n, \\n102 g CO2/km (comb)\\n]                                                               174\n",
       "[\\nYes\\n, \\n4 (Green)\\n]                                                                         166\n",
       "                                                                                               ...  \n",
       "[\\nYes\\n, \\n, 4.4 l/100 km (comb), \\n, 5.4 l/100 km (city), \\n, 5 l/100 km (country), \\n]          1\n",
       "[\\nYes\\n, \\n194 g CO2/km (comb)\\n]                                                                 1\n",
       "[\\nYes\\n, \\n88 g CO2/km (comb)\\n]                                                                  1\n",
       "[\\nYes\\n, \\n, 6 l/100 km (comb), \\n, 7.5 l/100 km (city), \\n, 5.2 l/100 km (country), \\n]          1\n",
       "[\\nYes\\n, \\n, 6.2 l/100 km (comb), \\n, 7.6 l/100 km (city), \\n, 5.4 l/100 km (country), \\n]        1\n",
       "Name: inspection_new, Length: 203, dtype: int64"
      ]
     },
     "execution_count": 147,
     "metadata": {},
     "output_type": "execute_result"
    }
   ],
   "source": [
    "df.inspection_new.value_counts(dropna=False)"
   ]
  },
  {
   "cell_type": "code",
   "execution_count": 148,
   "metadata": {},
   "outputs": [
    {
     "data": {
      "text/plain": [
       "NaN    11987\n",
       "Yes     3570\n",
       "         362\n",
       "Name: inspection_new, dtype: int64"
      ]
     },
     "execution_count": 148,
     "metadata": {},
     "output_type": "execute_result"
    }
   ],
   "source": [
    "df.inspection_new.str[0].str.strip(\"\\n\").value_counts(dropna=False) # siliniyor"
   ]
  },
  {
   "cell_type": "code",
   "execution_count": 149,
   "metadata": {},
   "outputs": [],
   "source": [
    "df.drop(\"inspection_new\",axis=1,inplace=True)"
   ]
  },
  {
   "cell_type": "markdown",
   "metadata": {},
   "source": [
    "## warranty"
   ]
  },
  {
   "cell_type": "code",
   "execution_count": 151,
   "metadata": {},
   "outputs": [
    {
     "ename": "TypeError",
     "evalue": "unhashable type: 'list'",
     "output_type": "error",
     "traceback": [
      "\u001b[1;31m---------------------------------------------------------------------------\u001b[0m",
      "\u001b[1;31mTypeError\u001b[0m                                 Traceback (most recent call last)",
      "\u001b[1;32mpandas\\_libs\\hashtable_class_helper.pxi\u001b[0m in \u001b[0;36mpandas._libs.hashtable.PyObjectHashTable.map_locations\u001b[1;34m()\u001b[0m\n",
      "\u001b[1;31mTypeError\u001b[0m: unhashable type: 'list'"
     ]
    },
    {
     "name": "stderr",
     "output_type": "stream",
     "text": [
      "Exception ignored in: 'pandas._libs.index.IndexEngine._call_map_locations'\n",
      "Traceback (most recent call last):\n",
      "  File \"pandas\\_libs\\hashtable_class_helper.pxi\", line 4588, in pandas._libs.hashtable.PyObjectHashTable.map_locations\n",
      "TypeError: unhashable type: 'list'\n"
     ]
    },
    {
     "data": {
      "text/plain": [
       "NaN                                                                                                5420\n",
       "[\\n, \\n, \\nEuro 6\\n]                                                                               1868\n",
       "\\n12 months\\n                                                                                      1177\n",
       "\\n                                                                                                  979\n",
       "\\n24 months\\n                                                                                       566\n",
       "                                                                                                   ... \n",
       "[\\n48 months\\n, \\n142 g CO2/km (comb)\\n]                                                              1\n",
       "\\n8 months\\n                                                                                          1\n",
       "[\\n19 months\\n, \\n106 g CO2/km (comb)\\n]                                                              1\n",
       "[\\n72 months\\n, \\n133 g CO2/km (comb)\\n]                                                              1\n",
       "[\\n60 months\\n, \\n, 6 l/100 km (comb), \\n, 7.3 l/100 km (city), \\n, 5.2 l/100 km (country), \\n]       1\n",
       "Name: warranty, Length: 516, dtype: int64"
      ]
     },
     "execution_count": 151,
     "metadata": {},
     "output_type": "execute_result"
    }
   ],
   "source": [
    "df.warranty.value_counts(dropna=False)"
   ]
  },
  {
   "cell_type": "code",
   "execution_count": 152,
   "metadata": {},
   "outputs": [
    {
     "data": {
      "text/plain": [
       "             7703\n",
       "NaN          5420\n",
       "12 months    1417\n",
       "24 months     552\n",
       "60 months     382\n",
       "36 months     223\n",
       "6 months       49\n",
       "72 months      44\n",
       "48 months      40\n",
       "3 months       14\n",
       "23 months      10\n",
       "20 months       7\n",
       "18 months       7\n",
       "25 months       5\n",
       "50 months       4\n",
       "2 months        4\n",
       "16 months       4\n",
       "34 months       3\n",
       "26 months       2\n",
       "13 months       2\n",
       "22 months       2\n",
       "46 months       2\n",
       "11 months       2\n",
       "21 months       2\n",
       "14 months       2\n",
       "17 months       2\n",
       "45 months       2\n",
       "1 months        2\n",
       "33 months       1\n",
       "65 months       1\n",
       "7 months        1\n",
       "10 months       1\n",
       "56 months       1\n",
       "49 months       1\n",
       "15 months       1\n",
       "47 months       1\n",
       "19 months       1\n",
       "40 months       1\n",
       "28 months       1\n",
       "Name: warranty, dtype: int64"
      ]
     },
     "execution_count": 152,
     "metadata": {},
     "output_type": "execute_result"
    }
   ],
   "source": [
    "df.warranty.str[0].str.strip(\"\\n\").value_counts(dropna=False) # silinecek"
   ]
  },
  {
   "cell_type": "code",
   "execution_count": 153,
   "metadata": {},
   "outputs": [],
   "source": [
    "df.drop(\"warranty\",axis=1,inplace=True)\n"
   ]
  },
  {
   "cell_type": "markdown",
   "metadata": {},
   "source": [
    "## full_service"
   ]
  },
  {
   "cell_type": "code",
   "execution_count": 154,
   "metadata": {},
   "outputs": [
    {
     "ename": "TypeError",
     "evalue": "unhashable type: 'list'",
     "output_type": "error",
     "traceback": [
      "\u001b[1;31m---------------------------------------------------------------------------\u001b[0m",
      "\u001b[1;31mTypeError\u001b[0m                                 Traceback (most recent call last)",
      "\u001b[1;32mpandas\\_libs\\hashtable_class_helper.pxi\u001b[0m in \u001b[0;36mpandas._libs.hashtable.PyObjectHashTable.map_locations\u001b[1;34m()\u001b[0m\n",
      "\u001b[1;31mTypeError\u001b[0m: unhashable type: 'list'"
     ]
    },
    {
     "name": "stderr",
     "output_type": "stream",
     "text": [
      "Exception ignored in: 'pandas._libs.index.IndexEngine._call_map_locations'\n",
      "Traceback (most recent call last):\n",
      "  File \"pandas\\_libs\\hashtable_class_helper.pxi\", line 4588, in pandas._libs.hashtable.PyObjectHashTable.map_locations\n",
      "TypeError: unhashable type: 'list'\n"
     ]
    },
    {
     "data": {
      "text/plain": [
       "NaN                                                                                           7704\n",
       "[\\n, \\n, \\n4 (Green)\\n]                                                                       2235\n",
       "[\\n, \\n, \\nEuro 6\\n]                                                                          2097\n",
       "[\\n, \\n]                                                                                      1702\n",
       "[\\n, \\n, \\nEuro 6d-TEMP\\n]                                                                     399\n",
       "                                                                                              ... \n",
       "[\\n, \\n, \\n, 5.4 l/100 km (comb), \\n, 7 l/100 km (city), \\n, 4.5 l/100 km (country), \\n]         1\n",
       "[\\n, \\n, \\n, 4.7 l/100 km (comb), \\n, 5.4 l/100 km (city), \\n, 4.2 l/100 km (country), \\n]       1\n",
       "[\\n, \\n, \\n164 g CO2/km (comb)\\n]                                                                1\n",
       "[\\n, \\n, \\n, 5.4 l/100 km (comb), \\n, 7.3 l/100 km (city), \\n, 4.2 l/100 km (country), \\n]       1\n",
       "[\\n, \\n, \\n, 6.6 l/100 km (comb), \\n, 8.3 l/100 km (city), \\n, 5.6 l/100 km (country), \\n]       1\n",
       "Name: full_service, Length: 123, dtype: int64"
      ]
     },
     "execution_count": 154,
     "metadata": {},
     "output_type": "execute_result"
    }
   ],
   "source": [
    "df.full_service.value_counts(dropna=False)"
   ]
  },
  {
   "cell_type": "code",
   "execution_count": 155,
   "metadata": {},
   "outputs": [
    {
     "data": {
      "text/plain": [
       "       8215\n",
       "NaN    7704\n",
       "Name: full_service, dtype: int64"
      ]
     },
     "execution_count": 155,
     "metadata": {},
     "output_type": "execute_result"
    }
   ],
   "source": [
    "df.full_service.str[0].str.strip(\"\\n\").value_counts(dropna=False) # silinecek"
   ]
  },
  {
   "cell_type": "code",
   "execution_count": 156,
   "metadata": {},
   "outputs": [],
   "source": [
    "df.drop(\"full_service\",axis=1,inplace=True)"
   ]
  },
  {
   "cell_type": "markdown",
   "metadata": {},
   "source": [
    "## non_smoking_vehicle"
   ]
  },
  {
   "cell_type": "code",
   "execution_count": 158,
   "metadata": {},
   "outputs": [
    {
     "ename": "TypeError",
     "evalue": "unhashable type: 'list'",
     "output_type": "error",
     "traceback": [
      "\u001b[1;31m---------------------------------------------------------------------------\u001b[0m",
      "\u001b[1;31mTypeError\u001b[0m                                 Traceback (most recent call last)",
      "\u001b[1;32mpandas\\_libs\\hashtable_class_helper.pxi\u001b[0m in \u001b[0;36mpandas._libs.hashtable.PyObjectHashTable.map_locations\u001b[1;34m()\u001b[0m\n",
      "\u001b[1;31mTypeError\u001b[0m: unhashable type: 'list'"
     ]
    },
    {
     "name": "stderr",
     "output_type": "stream",
     "text": [
      "Exception ignored in: 'pandas._libs.index.IndexEngine._call_map_locations'\n",
      "Traceback (most recent call last):\n",
      "  File \"pandas\\_libs\\hashtable_class_helper.pxi\", line 4588, in pandas._libs.hashtable.PyObjectHashTable.map_locations\n",
      "TypeError: unhashable type: 'list'\n"
     ]
    },
    {
     "data": {
      "text/plain": [
       "NaN                                  8742\n",
       "[\\n, \\n]                             3647\n",
       "[\\n, \\n, \\n4 (Green)\\n]              1240\n",
       "[\\n, \\n, \\nEuro 6\\n]                 1127\n",
       "[\\n, \\n, \\nEuro 6d-TEMP\\n]            345\n",
       "                                     ... \n",
       "[\\n, \\n, \\n172 g CO2/km (comb)\\n]       1\n",
       "[\\n, \\n, \\n150 g CO2/km (comb)\\n]       1\n",
       "[\\n, \\n, \\n154 g CO2/km (comb)\\n]       1\n",
       "[\\n, \\n, \\n91 g CO2/km (comb)\\n]        1\n",
       "[\\n, \\n, \\n144 g CO2/km (comb)\\n]       1\n",
       "Name: non_smoking_vehicle, Length: 95, dtype: int64"
      ]
     },
     "execution_count": 158,
     "metadata": {},
     "output_type": "execute_result"
    }
   ],
   "source": [
    "df.non_smoking_vehicle.value_counts(dropna=False) # silinecek"
   ]
  },
  {
   "cell_type": "code",
   "execution_count": 159,
   "metadata": {},
   "outputs": [],
   "source": [
    "df.drop(\"non_smoking_vehicle\",axis=1,inplace=True)"
   ]
  },
  {
   "cell_type": "markdown",
   "metadata": {},
   "source": [
    "## null "
   ]
  },
  {
   "cell_type": "code",
   "execution_count": 161,
   "metadata": {},
   "outputs": [
    {
     "ename": "TypeError",
     "evalue": "unhashable type: 'list'",
     "output_type": "error",
     "traceback": [
      "\u001b[1;31m---------------------------------------------------------------------------\u001b[0m",
      "\u001b[1;31mTypeError\u001b[0m                                 Traceback (most recent call last)",
      "\u001b[1;32mpandas\\_libs\\hashtable_class_helper.pxi\u001b[0m in \u001b[0;36mpandas._libs.hashtable.PyObjectHashTable.map_locations\u001b[1;34m()\u001b[0m\n",
      "\u001b[1;31mTypeError\u001b[0m: unhashable type: 'list'"
     ]
    },
    {
     "name": "stderr",
     "output_type": "stream",
     "text": [
      "Exception ignored in: 'pandas._libs.index.IndexEngine._call_map_locations'\n",
      "Traceback (most recent call last):\n",
      "  File \"pandas\\_libs\\hashtable_class_helper.pxi\", line 4588, in pandas._libs.hashtable.PyObjectHashTable.map_locations\n",
      "TypeError: unhashable type: 'list'\n"
     ]
    },
    {
     "data": {
      "text/plain": [
       "[]    15919\n",
       "Name: null, dtype: int64"
      ]
     },
     "execution_count": 161,
     "metadata": {},
     "output_type": "execute_result"
    }
   ],
   "source": [
    "df.null.value_counts(dropna=False) "
   ]
  },
  {
   "cell_type": "code",
   "execution_count": 162,
   "metadata": {},
   "outputs": [],
   "source": [
    "df.drop(\"null\",axis=1,inplace=True) "
   ]
  },
  {
   "cell_type": "markdown",
   "metadata": {},
   "source": [
    "## make"
   ]
  },
  {
   "cell_type": "code",
   "execution_count": 164,
   "metadata": {},
   "outputs": [
    {
     "data": {
      "text/plain": [
       "\\nOpel\\n       7343\n",
       "\\nAudi\\n       5712\n",
       "\\nRenault\\n    2864\n",
       "Name: make, dtype: int64"
      ]
     },
     "execution_count": 164,
     "metadata": {},
     "output_type": "execute_result"
    }
   ],
   "source": [
    "df.make.value_counts(dropna=False)"
   ]
  },
  {
   "cell_type": "code",
   "execution_count": 170,
   "metadata": {},
   "outputs": [
    {
     "data": {
      "text/plain": [
       "Opel       7343\n",
       "Audi       5712\n",
       "Renault    2864\n",
       "Name: make, dtype: int64"
      ]
     },
     "execution_count": 170,
     "metadata": {},
     "output_type": "execute_result"
    }
   ],
   "source": [
    "df[\"make\"].str.strip(\"\\n\").value_counts()"
   ]
  },
  {
   "cell_type": "markdown",
   "metadata": {},
   "source": [
    "## model"
   ]
  },
  {
   "cell_type": "code",
   "execution_count": 171,
   "metadata": {},
   "outputs": [
    {
     "ename": "TypeError",
     "evalue": "unhashable type: 'list'",
     "output_type": "error",
     "traceback": [
      "\u001b[1;31m---------------------------------------------------------------------------\u001b[0m",
      "\u001b[1;31mTypeError\u001b[0m                                 Traceback (most recent call last)",
      "\u001b[1;32mpandas\\_libs\\hashtable_class_helper.pxi\u001b[0m in \u001b[0;36mpandas._libs.hashtable.PyObjectHashTable.map_locations\u001b[1;34m()\u001b[0m\n",
      "\u001b[1;31mTypeError\u001b[0m: unhashable type: 'list'"
     ]
    },
    {
     "name": "stderr",
     "output_type": "stream",
     "text": [
      "Exception ignored in: 'pandas._libs.index.IndexEngine._call_map_locations'\n",
      "Traceback (most recent call last):\n",
      "  File \"pandas\\_libs\\hashtable_class_helper.pxi\", line 4588, in pandas._libs.hashtable.PyObjectHashTable.map_locations\n",
      "TypeError: unhashable type: 'list'\n"
     ]
    },
    {
     "data": {
      "text/plain": [
       "[\\n, A3, \\n]          3097\n",
       "[\\n, A1, \\n]          2614\n",
       "[\\n, Insignia, \\n]    2598\n",
       "[\\n, Astra, \\n]       2526\n",
       "[\\n, Corsa, \\n]       2219\n",
       "[\\n, Clio, \\n]        1839\n",
       "[\\n, Espace, \\n]       991\n",
       "[\\n, Duster, \\n]        34\n",
       "[\\n, A2, \\n]             1\n",
       "Name: model, dtype: int64"
      ]
     },
     "execution_count": 171,
     "metadata": {},
     "output_type": "execute_result"
    }
   ],
   "source": [
    "df.model.value_counts(dropna=False)"
   ]
  },
  {
   "cell_type": "code",
   "execution_count": 176,
   "metadata": {},
   "outputs": [
    {
     "data": {
      "text/plain": [
       "A3          3097\n",
       "A1          2614\n",
       "Insignia    2598\n",
       "Astra       2526\n",
       "Corsa       2219\n",
       "Clio        1839\n",
       "Espace       991\n",
       "Duster        34\n",
       "A2             1\n",
       "Name: model, dtype: int64"
      ]
     },
     "execution_count": 176,
     "metadata": {},
     "output_type": "execute_result"
    }
   ],
   "source": [
    "df.model.str[1].str.strip(\"\\n\").value_counts(dropna=False) "
   ]
  },
  {
   "cell_type": "markdown",
   "metadata": {},
   "source": [
    "## offer_number"
   ]
  },
  {
   "cell_type": "code",
   "execution_count": 177,
   "metadata": {},
   "outputs": [],
   "source": [
    "df.drop(\"offer_number\",axis=1,inplace=True) #index numarası gibi bir değer içerdiğinden siliyoruz"
   ]
  },
  {
   "cell_type": "markdown",
   "metadata": {},
   "source": [
    "## first_registration"
   ]
  },
  {
   "cell_type": "code",
   "execution_count": 180,
   "metadata": {},
   "outputs": [],
   "source": [
    "df['dm_first_reg'] = df['first_registration'] # bu aşamaya kadar böyle bir işlem yapmamıştık ama örnek olması açısından ilave ettim"
   ]
  },
  {
   "cell_type": "code",
   "execution_count": 186,
   "metadata": {},
   "outputs": [],
   "source": [
    "def convert(x):   \n",
    "    if x is not np.nan:\n",
    "        x = str(x)\n",
    "        y = re.findall(\"([0-9]+)\", x)\n",
    "        return float(y[0])"
   ]
  },
  {
   "cell_type": "code",
   "execution_count": 187,
   "metadata": {},
   "outputs": [],
   "source": [
    "df.dm_first_reg = df.dm_first_reg.apply(convert)"
   ]
  },
  {
   "cell_type": "code",
   "execution_count": 188,
   "metadata": {},
   "outputs": [
    {
     "data": {
      "text/plain": [
       "2018.0    4522\n",
       "2016.0    3674\n",
       "2017.0    3273\n",
       "2019.0    2853\n",
       "NaN       1597\n",
       "Name: dm_first_reg, dtype: int64"
      ]
     },
     "execution_count": 188,
     "metadata": {},
     "output_type": "execute_result"
    }
   ],
   "source": [
    "df.dm_first_reg.value_counts(dropna=False)"
   ]
  },
  {
   "cell_type": "code",
   "execution_count": null,
   "metadata": {},
   "outputs": [],
   "source": [
    "#nan değerler çokken, registration sütununda nan değer çıkmıyor. BUnu kullanmak daha mantıklı hale geliyor. "
   ]
  },
  {
   "cell_type": "markdown",
   "metadata": {},
   "source": [
    "## km"
   ]
  },
  {
   "cell_type": "code",
   "execution_count": 189,
   "metadata": {},
   "outputs": [],
   "source": [
    "df['dm_km'] = df.km.astype(str)"
   ]
  },
  {
   "cell_type": "code",
   "execution_count": 190,
   "metadata": {},
   "outputs": [],
   "source": [
    "df['dm_km'] = df['dm_km'].str.extract('(\\S+)\\skm$')"
   ]
  },
  {
   "cell_type": "code",
   "execution_count": 191,
   "metadata": {},
   "outputs": [],
   "source": [
    "df.dm_km.replace(to_replace='-', value='0', inplace=True)"
   ]
  },
  {
   "cell_type": "code",
   "execution_count": 192,
   "metadata": {},
   "outputs": [],
   "source": [
    "def convert(x):\n",
    "    return float(''.join(x.split(',')))"
   ]
  },
  {
   "cell_type": "code",
   "execution_count": 193,
   "metadata": {},
   "outputs": [],
   "source": [
    "df.dm_km = df.dm_km.apply(convert)"
   ]
  },
  {
   "cell_type": "code",
   "execution_count": 194,
   "metadata": {},
   "outputs": [
    {
     "data": {
      "text/plain": [
       "0.0         1043\n",
       "1.0          367\n",
       "2.0            6\n",
       "3.0           33\n",
       "4.0           15\n",
       "            ... \n",
       "240000.0       1\n",
       "248000.0       1\n",
       "260000.0       1\n",
       "291800.0       1\n",
       "317000.0       1\n",
       "Name: dm_km, Length: 6689, dtype: int64"
      ]
     },
     "execution_count": 194,
     "metadata": {},
     "output_type": "execute_result"
    }
   ],
   "source": [
    "df.dm_km.value_counts(dropna=False).sort_index()"
   ]
  },
  {
   "cell_type": "markdown",
   "metadata": {},
   "source": [
    "## registration"
   ]
  },
  {
   "cell_type": "code",
   "execution_count": 195,
   "metadata": {},
   "outputs": [],
   "source": [
    "df['dm_registration'] = df.registration"
   ]
  },
  {
   "cell_type": "code",
   "execution_count": 196,
   "metadata": {},
   "outputs": [],
   "source": [
    "cond = (df.dm_registration == '-/-') & (df.dm_km < 15000)\n",
    "df.loc[cond, 'dm_registration'] = df.loc[cond, 'dm_registration'].map({'-/-':'01/2019'})"
   ]
  },
  {
   "cell_type": "code",
   "execution_count": 197,
   "metadata": {},
   "outputs": [],
   "source": [
    "cond = (df.dm_registration == '-/-') & (df.dm_km < 40000)\n",
    "df.loc[cond, 'dm_registration'] = df.loc[cond, 'dm_registration'].map({'-/-':'01/2018'})"
   ]
  },
  {
   "cell_type": "code",
   "execution_count": 198,
   "metadata": {},
   "outputs": [],
   "source": [
    "cond = df.dm_registration == '-/-'\n",
    "df.loc[cond, 'dm_registration'] = df.loc[cond, 'dm_registration'].map({'-/-':'01/2016'})"
   ]
  },
  {
   "cell_type": "code",
   "execution_count": 199,
   "metadata": {},
   "outputs": [
    {
     "data": {
      "text/plain": [
       "01/2019    2125\n",
       "03/2018     695\n",
       "02/2019     585\n",
       "05/2018     572\n",
       "03/2019     543\n",
       "04/2018     541\n",
       "02/2018     539\n",
       "03/2016     536\n",
       "06/2018     532\n",
       "04/2016     532\n",
       "01/2018     519\n",
       "04/2019     506\n",
       "02/2016     472\n",
       "03/2017     471\n",
       "05/2016     459\n",
       "06/2016     452\n",
       "05/2019     440\n",
       "06/2017     409\n",
       "05/2017     404\n",
       "07/2018     396\n",
       "01/2016     381\n",
       "04/2017     380\n",
       "02/2017     368\n",
       "01/2017     306\n",
       "08/2018     285\n",
       "06/2019     224\n",
       "07/2017     215\n",
       "11/2017     180\n",
       "07/2016     176\n",
       "10/2016     160\n",
       "10/2017     154\n",
       "09/2017     149\n",
       "11/2016     142\n",
       "09/2018     141\n",
       "09/2016     141\n",
       "12/2016     134\n",
       "12/2017     123\n",
       "08/2017     114\n",
       "11/2018     110\n",
       "12/2018     103\n",
       "10/2018      97\n",
       "08/2016      94\n",
       "07/2019       6\n",
       "09/2019       5\n",
       "08/2019       1\n",
       "12/2019       1\n",
       "11/2019       1\n",
       "Name: dm_registration, dtype: int64"
      ]
     },
     "execution_count": 199,
     "metadata": {},
     "output_type": "execute_result"
    }
   ],
   "source": [
    "df.dm_registration.value_counts(dropna=False)  #aylardan kurtarmak lazım yıl muhabbbeti daha önemli"
   ]
  },
  {
   "cell_type": "code",
   "execution_count": 200,
   "metadata": {},
   "outputs": [],
   "source": [
    "df.dm_registration = df.dm_registration.str.split('/').str[1]"
   ]
  },
  {
   "cell_type": "code",
   "execution_count": 201,
   "metadata": {},
   "outputs": [
    {
     "data": {
      "text/plain": [
       "2018    4530\n",
       "2019    4437\n",
       "2016    3679\n",
       "2017    3273\n",
       "Name: dm_registration, dtype: int64"
      ]
     },
     "execution_count": 201,
     "metadata": {},
     "output_type": "execute_result"
    }
   ],
   "source": [
    "df.dm_registration.value_counts(dropna=False)"
   ]
  },
  {
   "cell_type": "code",
   "execution_count": 202,
   "metadata": {},
   "outputs": [],
   "source": [
    "df.dm_registration = df.dm_registration.astype('float')"
   ]
  },
  {
   "cell_type": "code",
   "execution_count": 203,
   "metadata": {},
   "outputs": [],
   "source": [
    "df.dm_registration = 2019 - df.dm_registration # 2019 yılında olduğumuzu varsayarak araç yaşını hesaplıyoruz"
   ]
  },
  {
   "cell_type": "code",
   "execution_count": 204,
   "metadata": {},
   "outputs": [],
   "source": [
    "df.dm_registration = 2019 - df.dm_registration"
   ]
  },
  {
   "cell_type": "code",
   "execution_count": 205,
   "metadata": {},
   "outputs": [
    {
     "data": {
      "text/plain": [
       "2018.0    4530\n",
       "2019.0    4437\n",
       "2016.0    3679\n",
       "2017.0    3273\n",
       "Name: dm_registration, dtype: int64"
      ]
     },
     "execution_count": 205,
     "metadata": {},
     "output_type": "execute_result"
    }
   ],
   "source": [
    "df.dm_registration.value_counts(dropna=False)"
   ]
  },
  {
   "cell_type": "markdown",
   "metadata": {},
   "source": [
    "## body_color"
   ]
  },
  {
   "cell_type": "code",
   "execution_count": 206,
   "metadata": {},
   "outputs": [],
   "source": [
    "df['dm_body_color'] = df['body_color']"
   ]
  },
  {
   "cell_type": "code",
   "execution_count": 207,
   "metadata": {},
   "outputs": [],
   "source": [
    "def convert(x) :\n",
    "    if x is not np.nan:\n",
    "        x=str(x)\n",
    "        y=re.findall(\"'([a-zA-Z]+)'\",x)\n",
    "        return y[0]"
   ]
  },
  {
   "cell_type": "code",
   "execution_count": 209,
   "metadata": {},
   "outputs": [],
   "source": [
    "df.dm_body_color = df.dm_body_color.apply(convert)"
   ]
  },
  {
   "cell_type": "code",
   "execution_count": 210,
   "metadata": {},
   "outputs": [],
   "source": [
    "lst1 = df.dm_registration.unique()\n",
    "lst2 = ['Audi A1', 'Audi A3', 'Opel Astra', 'Opel Corsa',\n",
    "       'Opel Insignia', 'Renault Clio', 'Renault Espace']\n",
    "for i in lst1:\n",
    "    for j in lst2:\n",
    "        cond = (df.make_model == j) & (df.dm_registration == i)\n",
    "        df.loc[cond, 'dm_body_color'] = df.loc[cond, 'dm_body_color'].fillna(df.loc[cond, 'dm_body_color'].mode()[0])"
   ]
  },
  {
   "cell_type": "code",
   "execution_count": 211,
   "metadata": {},
   "outputs": [
    {
     "data": {
      "text/plain": [
       "Black     4134\n",
       "Grey      3588\n",
       "White     3508\n",
       "Silver    1650\n",
       "Blue      1451\n",
       "Red        957\n",
       "Brown      289\n",
       "Green      154\n",
       "Beige      108\n",
       "Yellow      51\n",
       "Violet      18\n",
       "Bronze       6\n",
       "Orange       3\n",
       "Gold         2\n",
       "Name: dm_body_color, dtype: int64"
      ]
     },
     "execution_count": 211,
     "metadata": {},
     "output_type": "execute_result"
    }
   ],
   "source": [
    "df.dm_body_color.value_counts(dropna=False)"
   ]
  },
  {
   "cell_type": "code",
   "execution_count": null,
   "metadata": {},
   "outputs": [],
   "source": [
    "#df_dummied = pd.get_dummies(df.dm_body_color, prefix='color_', prefix_sep='', columns=['color'], dtype='float64')   #dummy\n",
    "#df = pd.concat([df, df_dummied], axis=1)"
   ]
  },
  {
   "cell_type": "markdown",
   "metadata": {},
   "source": [
    "## paint_type"
   ]
  },
  {
   "cell_type": "code",
   "execution_count": 212,
   "metadata": {},
   "outputs": [],
   "source": [
    "df['dm_paint_type'] = df['paint_type']"
   ]
  },
  {
   "cell_type": "code",
   "execution_count": 213,
   "metadata": {},
   "outputs": [],
   "source": [
    "def convert(x):\n",
    "    if x is not np.nan:\n",
    "        x = str(x)\n",
    "        y = re.findall('n([A-Za-z]+)\\S+', x)\n",
    "        return y[0]"
   ]
  },
  {
   "cell_type": "code",
   "execution_count": 214,
   "metadata": {},
   "outputs": [],
   "source": [
    "df.dm_paint_type = df.dm_paint_type.apply(convert)"
   ]
  },
  {
   "cell_type": "code",
   "execution_count": 215,
   "metadata": {},
   "outputs": [
    {
     "data": {
      "text/plain": [
       "Metallic    9794\n",
       "NaN         5772\n",
       "Uni          347\n",
       "Per            6\n",
       "Name: dm_paint_type, dtype: int64"
      ]
     },
     "execution_count": 215,
     "metadata": {},
     "output_type": "execute_result"
    }
   ],
   "source": [
    "df.dm_paint_type.value_counts(dropna=False)"
   ]
  },
  {
   "cell_type": "code",
   "execution_count": 216,
   "metadata": {},
   "outputs": [],
   "source": [
    "lst1 = df.dm_body_color.unique()\n",
    "lst2 = df.make_model.unique()\n",
    "for i in lst1:\n",
    "    for j in lst2:\n",
    "        cond = (df.make_model == j) & (df.dm_registration == i)\n",
    "        df.loc[cond, 'dm_paint_type'] = df.loc[cond, 'dm_paint_type'].fillna(method='ffill').fillna(method='bfill')\n",
    "df.dm_paint_type = df.dm_paint_type.fillna(method='ffill').fillna('bfill')"
   ]
  },
  {
   "cell_type": "code",
   "execution_count": 217,
   "metadata": {},
   "outputs": [
    {
     "data": {
      "text/plain": [
       "Metallic    15261\n",
       "Uni           617\n",
       "Per            41\n",
       "Name: dm_paint_type, dtype: int64"
      ]
     },
     "execution_count": 217,
     "metadata": {},
     "output_type": "execute_result"
    }
   ],
   "source": [
    "df.dm_paint_type.value_counts(dropna=False) "
   ]
  },
  {
   "cell_type": "markdown",
   "metadata": {},
   "source": [
    "## body_color "
   ]
  },
  {
   "cell_type": "code",
   "execution_count": 218,
   "metadata": {},
   "outputs": [],
   "source": [
    "df.drop(\"body_color\",axis=1,inplace=True) # işe yaramayacak bir sütun drop edilmiş"
   ]
  },
  {
   "cell_type": "markdown",
   "metadata": {},
   "source": [
    "## upholstery"
   ]
  },
  {
   "cell_type": "code",
   "execution_count": 219,
   "metadata": {},
   "outputs": [],
   "source": [
    "df['dm_upholstery'] = df.upholstery"
   ]
  },
  {
   "cell_type": "code",
   "execution_count": 220,
   "metadata": {},
   "outputs": [],
   "source": [
    "def convert(x):\n",
    "    if x is not np.nan:\n",
    "        x = str(x)\n",
    "        y = re.findall('n([A-Za-z\\s]+)', x)\n",
    "        return y[0]"
   ]
  },
  {
   "cell_type": "code",
   "execution_count": 221,
   "metadata": {},
   "outputs": [],
   "source": [
    "df.dm_upholstery = df.dm_upholstery.apply(convert)"
   ]
  },
  {
   "cell_type": "code",
   "execution_count": 222,
   "metadata": {},
   "outputs": [
    {
     "data": {
      "text/plain": [
       "Cloth           8423\n",
       "NaN             3720\n",
       "Part leather    1499\n",
       "Full leather    1009\n",
       "Black            491\n",
       "Other            368\n",
       "Grey             273\n",
       "Velour            60\n",
       "alcantara         57\n",
       "Brown             12\n",
       "Beige              3\n",
       "Blue               2\n",
       "White              2\n",
       "Name: dm_upholstery, dtype: int64"
      ]
     },
     "execution_count": 222,
     "metadata": {},
     "output_type": "execute_result"
    }
   ],
   "source": [
    "df.dm_upholstery.value_counts(dropna=False)"
   ]
  },
  {
   "cell_type": "code",
   "execution_count": 223,
   "metadata": {},
   "outputs": [],
   "source": [
    "df.dm_upholstery.replace(to_replace=['Black','Grey','Brown','Beige','Blue','White'], value=np.nan, inplace=True)"
   ]
  },
  {
   "cell_type": "code",
   "execution_count": 224,
   "metadata": {},
   "outputs": [
    {
     "data": {
      "text/plain": [
       "Cloth           8423\n",
       "NaN             4503\n",
       "Part leather    1499\n",
       "Full leather    1009\n",
       "Other            368\n",
       "Velour            60\n",
       "alcantara         57\n",
       "Name: dm_upholstery, dtype: int64"
      ]
     },
     "execution_count": 224,
     "metadata": {},
     "output_type": "execute_result"
    }
   ],
   "source": [
    "df.dm_upholstery.value_counts(dropna=False)"
   ]
  },
  {
   "cell_type": "code",
   "execution_count": 225,
   "metadata": {},
   "outputs": [],
   "source": [
    "lst = df.make_model.unique()\n",
    "for i in lst:\n",
    "    cond = (df.make_model == i) \n",
    "    df.loc[cond, 'dm_upholstery'] = df.loc[cond, 'dm_upholstery'].fillna(method='ffill').fillna(method='bfill')"
   ]
  },
  {
   "cell_type": "code",
   "execution_count": 226,
   "metadata": {},
   "outputs": [
    {
     "data": {
      "text/plain": [
       "Cloth           11713\n",
       "Part leather     2097\n",
       "Full leather     1401\n",
       "Other             544\n",
       "alcantara          84\n",
       "Velour             80\n",
       "Name: dm_upholstery, dtype: int64"
      ]
     },
     "execution_count": 226,
     "metadata": {},
     "output_type": "execute_result"
    }
   ],
   "source": [
    "df.dm_upholstery.value_counts(dropna=False) "
   ]
  },
  {
   "cell_type": "code",
   "execution_count": null,
   "metadata": {},
   "outputs": [],
   "source": [
    "# burada büşranın yaptığı columnların isimleri değiştiği için orijinalleri için birer drop satırı yazıyorum sormadan çalıştırmak istemedim."
   ]
  },
  {
   "cell_type": "code",
   "execution_count": null,
   "metadata": {},
   "outputs": [],
   "source": [
    "#df.drop(\"upholstery\",axis=1,inplace=True)"
   ]
  },
  {
   "cell_type": "code",
   "execution_count": null,
   "metadata": {},
   "outputs": [],
   "source": [
    "#df.drop(\"paint_type\",axis=1,inplace=True)"
   ]
  },
  {
   "cell_type": "code",
   "execution_count": null,
   "metadata": {},
   "outputs": [],
   "source": [
    "#df.drop(\"body_color\",axis=1,inplace=True)"
   ]
  },
  {
   "cell_type": "code",
   "execution_count": null,
   "metadata": {},
   "outputs": [],
   "source": [
    "#df.drop(\"km\",axis=1,inplace=True)"
   ]
  },
  {
   "cell_type": "code",
   "execution_count": null,
   "metadata": {},
   "outputs": [],
   "source": [
    "#df.drop(\"first_registration\",axis=1,inplace=True)"
   ]
  },
  {
   "cell_type": "markdown",
   "metadata": {},
   "source": [
    "## body"
   ]
  },
  {
   "cell_type": "code",
   "execution_count": 227,
   "metadata": {},
   "outputs": [
    {
     "ename": "TypeError",
     "evalue": "unhashable type: 'list'",
     "output_type": "error",
     "traceback": [
      "\u001b[1;31m---------------------------------------------------------------------------\u001b[0m",
      "\u001b[1;31mTypeError\u001b[0m                                 Traceback (most recent call last)",
      "\u001b[1;32mpandas\\_libs\\hashtable_class_helper.pxi\u001b[0m in \u001b[0;36mpandas._libs.hashtable.PyObjectHashTable.map_locations\u001b[1;34m()\u001b[0m\n",
      "\u001b[1;31mTypeError\u001b[0m: unhashable type: 'list'"
     ]
    },
    {
     "name": "stderr",
     "output_type": "stream",
     "text": [
      "Exception ignored in: 'pandas._libs.index.IndexEngine._call_map_locations'\n",
      "Traceback (most recent call last):\n",
      "  File \"pandas\\_libs\\hashtable_class_helper.pxi\", line 4588, in pandas._libs.hashtable.PyObjectHashTable.map_locations\n",
      "TypeError: unhashable type: 'list'\n"
     ]
    },
    {
     "data": {
      "text/plain": [
       "[\\n, Sedans, \\n]           7903\n",
       "[\\n, Station wagon, \\n]    3553\n",
       "[\\n, Compact, \\n]          3153\n",
       "[\\n, Van, \\n]               783\n",
       "[\\n, Other, \\n]             290\n",
       "[\\n, Transporter, \\n]        88\n",
       "NaN                          60\n",
       "[\\n, Off-Road, \\n]           56\n",
       "[\\n, Coupe, \\n]              25\n",
       "[\\n, Convertible, \\n]         8\n",
       "Name: body, dtype: int64"
      ]
     },
     "execution_count": 227,
     "metadata": {},
     "output_type": "execute_result"
    }
   ],
   "source": [
    "df.body.value_counts(dropna=False)"
   ]
  },
  {
   "cell_type": "code",
   "execution_count": 228,
   "metadata": {},
   "outputs": [
    {
     "data": {
      "text/plain": [
       "Sedans           7903\n",
       "Station wagon    3553\n",
       "Compact          3153\n",
       "Van               783\n",
       "Other             290\n",
       "Transporter        88\n",
       "NaN                60\n",
       "Off-Road           56\n",
       "Coupe              25\n",
       "Convertible         8\n",
       "Name: body, dtype: int64"
      ]
     },
     "execution_count": 228,
     "metadata": {},
     "output_type": "execute_result"
    }
   ],
   "source": [
    "df.body.str[1].value_counts(dropna=False)"
   ]
  },
  {
   "cell_type": "markdown",
   "metadata": {},
   "source": [
    "## body_type"
   ]
  },
  {
   "cell_type": "code",
   "execution_count": 229,
   "metadata": {},
   "outputs": [
    {
     "data": {
      "text/plain": [
       "Sedans           7903\n",
       "Station wagon    3553\n",
       "Compact          3153\n",
       "Van               783\n",
       "Other             290\n",
       "Transporter        88\n",
       "NaN                60\n",
       "Off-Road           56\n",
       "Coupe              25\n",
       "Convertible         8\n",
       "Name: body_type, dtype: int64"
      ]
     },
     "execution_count": 229,
     "metadata": {},
     "output_type": "execute_result"
    }
   ],
   "source": [
    "df.body_type.value_counts(dropna=False) # body ve body_type sütunları aynı değerleri içerdiğinden birini siliyoruz"
   ]
  },
  {
   "cell_type": "code",
   "execution_count": 231,
   "metadata": {},
   "outputs": [],
   "source": [
    "df.drop(\"body_type\",axis=1,inplace=True) "
   ]
  },
  {
   "cell_type": "markdown",
   "metadata": {},
   "source": [
    "## nr_of_doors "
   ]
  },
  {
   "cell_type": "code",
   "execution_count": 232,
   "metadata": {},
   "outputs": [
    {
     "ename": "TypeError",
     "evalue": "unhashable type: 'list'",
     "output_type": "error",
     "traceback": [
      "\u001b[1;31m---------------------------------------------------------------------------\u001b[0m",
      "\u001b[1;31mTypeError\u001b[0m                                 Traceback (most recent call last)",
      "\u001b[1;32mpandas\\_libs\\hashtable_class_helper.pxi\u001b[0m in \u001b[0;36mpandas._libs.hashtable.PyObjectHashTable.map_locations\u001b[1;34m()\u001b[0m\n",
      "\u001b[1;31mTypeError\u001b[0m: unhashable type: 'list'"
     ]
    },
    {
     "name": "stderr",
     "output_type": "stream",
     "text": [
      "Exception ignored in: 'pandas._libs.index.IndexEngine._call_map_locations'\n",
      "Traceback (most recent call last):\n",
      "  File \"pandas\\_libs\\hashtable_class_helper.pxi\", line 4588, in pandas._libs.hashtable.PyObjectHashTable.map_locations\n",
      "TypeError: unhashable type: 'list'\n"
     ]
    },
    {
     "data": {
      "text/plain": [
       "[\\n5\\n]    11575\n",
       "[\\n4\\n]     3079\n",
       "[\\n3\\n]      832\n",
       "[\\n2\\n]      219\n",
       "NaN          212\n",
       "[\\n7\\n]        1\n",
       "[\\n1\\n]        1\n",
       "Name: nr_of_doors, dtype: int64"
      ]
     },
     "execution_count": 232,
     "metadata": {},
     "output_type": "execute_result"
    }
   ],
   "source": [
    "df.nr_of_doors.value_counts(dropna=False)"
   ]
  },
  {
   "cell_type": "code",
   "execution_count": 234,
   "metadata": {},
   "outputs": [
    {
     "data": {
      "text/plain": [
       "5      11575\n",
       "4       3079\n",
       "3        832\n",
       "2        219\n",
       "NaN      212\n",
       "7          1\n",
       "1          1\n",
       "Name: nr_of_doors, dtype: int64"
      ]
     },
     "execution_count": 234,
     "metadata": {},
     "output_type": "execute_result"
    }
   ],
   "source": [
    "df[\"nr_of_doors\"].str[0].str.strip(\"\\n\").value_counts(dropna=False)"
   ]
  },
  {
   "cell_type": "markdown",
   "metadata": {},
   "source": [
    "## nr_of_seats"
   ]
  },
  {
   "cell_type": "code",
   "execution_count": 235,
   "metadata": {},
   "outputs": [
    {
     "ename": "TypeError",
     "evalue": "unhashable type: 'list'",
     "output_type": "error",
     "traceback": [
      "\u001b[1;31m---------------------------------------------------------------------------\u001b[0m",
      "\u001b[1;31mTypeError\u001b[0m                                 Traceback (most recent call last)",
      "\u001b[1;32mpandas\\_libs\\hashtable_class_helper.pxi\u001b[0m in \u001b[0;36mpandas._libs.hashtable.PyObjectHashTable.map_locations\u001b[1;34m()\u001b[0m\n",
      "\u001b[1;31mTypeError\u001b[0m: unhashable type: 'list'"
     ]
    },
    {
     "name": "stderr",
     "output_type": "stream",
     "text": [
      "Exception ignored in: 'pandas._libs.index.IndexEngine._call_map_locations'\n",
      "Traceback (most recent call last):\n",
      "  File \"pandas\\_libs\\hashtable_class_helper.pxi\", line 4588, in pandas._libs.hashtable.PyObjectHashTable.map_locations\n",
      "TypeError: unhashable type: 'list'\n"
     ]
    },
    {
     "data": {
      "text/plain": [
       "[\\n5\\n]    13336\n",
       "[\\n4\\n]     1125\n",
       "NaN          977\n",
       "[\\n7\\n]      362\n",
       "[\\n2\\n]      116\n",
       "[\\n6\\n]        2\n",
       "[\\n3\\n]        1\n",
       "Name: nr_of_seats, dtype: int64"
      ]
     },
     "execution_count": 235,
     "metadata": {},
     "output_type": "execute_result"
    }
   ],
   "source": [
    "df.nr_of_seats.value_counts(dropna=False)"
   ]
  },
  {
   "cell_type": "code",
   "execution_count": 236,
   "metadata": {},
   "outputs": [
    {
     "data": {
      "text/plain": [
       "5      13336\n",
       "4       1125\n",
       "NaN      977\n",
       "7        362\n",
       "2        116\n",
       "6          2\n",
       "3          1\n",
       "Name: nr_of_seats, dtype: int64"
      ]
     },
     "execution_count": 236,
     "metadata": {},
     "output_type": "execute_result"
    }
   ],
   "source": [
    "df.nr_of_seats.str[0].str.strip(\"\\n\").value_counts(dropna=False)"
   ]
  },
  {
   "cell_type": "markdown",
   "metadata": {},
   "source": [
    "## model_code"
   ]
  },
  {
   "cell_type": "code",
   "execution_count": 237,
   "metadata": {},
   "outputs": [
    {
     "ename": "TypeError",
     "evalue": "unhashable type: 'list'",
     "output_type": "error",
     "traceback": [
      "\u001b[1;31m---------------------------------------------------------------------------\u001b[0m",
      "\u001b[1;31mTypeError\u001b[0m                                 Traceback (most recent call last)",
      "\u001b[1;32mpandas\\_libs\\hashtable_class_helper.pxi\u001b[0m in \u001b[0;36mpandas._libs.hashtable.PyObjectHashTable.map_locations\u001b[1;34m()\u001b[0m\n",
      "\u001b[1;31mTypeError\u001b[0m: unhashable type: 'list'"
     ]
    },
    {
     "name": "stderr",
     "output_type": "stream",
     "text": [
      "Exception ignored in: 'pandas._libs.index.IndexEngine._call_map_locations'\n",
      "Traceback (most recent call last):\n",
      "  File \"pandas\\_libs\\hashtable_class_helper.pxi\", line 4588, in pandas._libs.hashtable.PyObjectHashTable.map_locations\n",
      "TypeError: unhashable type: 'list'\n"
     ]
    },
    {
     "data": {
      "text/plain": [
       "NaN               10941\n",
       "[\\n0035/BCB\\n]      268\n",
       "[\\n0588/BNO\\n]      245\n",
       "[\\n0588/BDB\\n]      206\n",
       "[\\n0588/BHX\\n]      188\n",
       "                  ...  \n",
       "[\\n0035/BHX\\n]        1\n",
       "[\\n0588/AVR\\n]        1\n",
       "[\\n0035/ASN\\n]        1\n",
       "[\\n1844/AEG\\n]        1\n",
       "[\\n3333/BBL\\n]        1\n",
       "Name: model_code, Length: 233, dtype: int64"
      ]
     },
     "execution_count": 237,
     "metadata": {},
     "output_type": "execute_result"
    }
   ],
   "source": [
    "df.model_code.value_counts(dropna=False)"
   ]
  },
  {
   "cell_type": "code",
   "execution_count": 240,
   "metadata": {},
   "outputs": [
    {
     "data": {
      "text/plain": [
       "NaN         10941\n",
       "0035/BCB      268\n",
       "0588/BNO      245\n",
       "0588/BDB      206\n",
       "0588/BHX      188\n",
       "            ...  \n",
       "0035/BAN        1\n",
       "0035/BAA        1\n",
       "0035/AEV        1\n",
       "1844/999        1\n",
       "0588/BN0        1\n",
       "Name: model_code, Length: 233, dtype: int64"
      ]
     },
     "execution_count": 240,
     "metadata": {},
     "output_type": "execute_result"
    }
   ],
   "source": [
    "df.model_code.str[0].str.strip(\"\\n\").value_counts(dropna=False)"
   ]
  },
  {
   "cell_type": "markdown",
   "metadata": {},
   "source": [
    "## gearing_type"
   ]
  },
  {
   "cell_type": "code",
   "execution_count": 241,
   "metadata": {},
   "outputs": [
    {
     "ename": "TypeError",
     "evalue": "unhashable type: 'list'",
     "output_type": "error",
     "traceback": [
      "\u001b[1;31m---------------------------------------------------------------------------\u001b[0m",
      "\u001b[1;31mTypeError\u001b[0m                                 Traceback (most recent call last)",
      "\u001b[1;32mpandas\\_libs\\hashtable_class_helper.pxi\u001b[0m in \u001b[0;36mpandas._libs.hashtable.PyObjectHashTable.map_locations\u001b[1;34m()\u001b[0m\n",
      "\u001b[1;31mTypeError\u001b[0m: unhashable type: 'list'"
     ]
    },
    {
     "name": "stderr",
     "output_type": "stream",
     "text": [
      "Exception ignored in: 'pandas._libs.index.IndexEngine._call_map_locations'\n",
      "Traceback (most recent call last):\n",
      "  File \"pandas\\_libs\\hashtable_class_helper.pxi\", line 4588, in pandas._libs.hashtable.PyObjectHashTable.map_locations\n",
      "TypeError: unhashable type: 'list'\n"
     ]
    },
    {
     "data": {
      "text/plain": [
       "[\\n, Manual, \\n]            8153\n",
       "[\\n, Automatic, \\n]         7297\n",
       "[\\n, Semi-automatic, \\n]     469\n",
       "Name: gearing_type, dtype: int64"
      ]
     },
     "execution_count": 241,
     "metadata": {},
     "output_type": "execute_result"
    }
   ],
   "source": [
    "df.gearing_type.value_counts(dropna=False)"
   ]
  },
  {
   "cell_type": "code",
   "execution_count": 247,
   "metadata": {},
   "outputs": [
    {
     "data": {
      "text/plain": [
       "Manual            8153\n",
       "Automatic         7297\n",
       "Semi-automatic     469\n",
       "Name: gearing_type, dtype: int64"
      ]
     },
     "execution_count": 247,
     "metadata": {},
     "output_type": "execute_result"
    }
   ],
   "source": [
    "df.gearing_type.str[1].value_counts(dropna=False)"
   ]
  },
  {
   "cell_type": "code",
   "execution_count": null,
   "metadata": {},
   "outputs": [],
   "source": [
    "## displacement"
   ]
  },
  {
   "cell_type": "code",
   "execution_count": 248,
   "metadata": {},
   "outputs": [
    {
     "ename": "TypeError",
     "evalue": "unhashable type: 'list'",
     "output_type": "error",
     "traceback": [
      "\u001b[1;31m---------------------------------------------------------------------------\u001b[0m",
      "\u001b[1;31mTypeError\u001b[0m                                 Traceback (most recent call last)",
      "\u001b[1;32mpandas\\_libs\\hashtable_class_helper.pxi\u001b[0m in \u001b[0;36mpandas._libs.hashtable.PyObjectHashTable.map_locations\u001b[1;34m()\u001b[0m\n",
      "\u001b[1;31mTypeError\u001b[0m: unhashable type: 'list'"
     ]
    },
    {
     "name": "stderr",
     "output_type": "stream",
     "text": [
      "Exception ignored in: 'pandas._libs.index.IndexEngine._call_map_locations'\n",
      "Traceback (most recent call last):\n",
      "  File \"pandas\\_libs\\hashtable_class_helper.pxi\", line 4588, in pandas._libs.hashtable.PyObjectHashTable.map_locations\n",
      "TypeError: unhashable type: 'list'\n"
     ]
    },
    {
     "data": {
      "text/plain": [
       "[\\n1,598 cc\\n]    4761\n",
       "[\\n999 cc\\n]      2438\n",
       "[\\n1,398 cc\\n]    1314\n",
       "[\\n1,399 cc\\n]     749\n",
       "[\\n1,229 cc\\n]     677\n",
       "                  ... \n",
       "[\\n1,800 cc\\n]       1\n",
       "[\\n1,686 cc\\n]       1\n",
       "[\\n1,369 cc\\n]       1\n",
       "[\\n140 cc\\n]         1\n",
       "[\\n1,584 cc\\n]       1\n",
       "Name: displacement, Length: 78, dtype: int64"
      ]
     },
     "execution_count": 248,
     "metadata": {},
     "output_type": "execute_result"
    }
   ],
   "source": [
    "df.displacement.value_counts(dropna=False)"
   ]
  },
  {
   "cell_type": "code",
   "execution_count": 250,
   "metadata": {},
   "outputs": [
    {
     "data": {
      "text/plain": [
       "1598      4761\n",
       "999       2438\n",
       "1398      1314\n",
       "1399       749\n",
       "1229       677\n",
       "          ... \n",
       "1350         1\n",
       "1368         1\n",
       "1533         1\n",
       "140          1\n",
       "16000        1\n",
       "Name: displacement, Length: 77, dtype: int64"
      ]
     },
     "execution_count": 250,
     "metadata": {},
     "output_type": "execute_result"
    }
   ],
   "source": [
    "df.displacement.str[0].str.strip(\"\\n\").str.strip(\"cc\").str.replace(',','').value_counts()"
   ]
  },
  {
   "cell_type": "markdown",
   "metadata": {},
   "source": [
    "## cylinders "
   ]
  },
  {
   "cell_type": "code",
   "execution_count": 251,
   "metadata": {},
   "outputs": [
    {
     "ename": "TypeError",
     "evalue": "unhashable type: 'list'",
     "output_type": "error",
     "traceback": [
      "\u001b[1;31m---------------------------------------------------------------------------\u001b[0m",
      "\u001b[1;31mTypeError\u001b[0m                                 Traceback (most recent call last)",
      "\u001b[1;32mpandas\\_libs\\hashtable_class_helper.pxi\u001b[0m in \u001b[0;36mpandas._libs.hashtable.PyObjectHashTable.map_locations\u001b[1;34m()\u001b[0m\n",
      "\u001b[1;31mTypeError\u001b[0m: unhashable type: 'list'"
     ]
    },
    {
     "name": "stderr",
     "output_type": "stream",
     "text": [
      "Exception ignored in: 'pandas._libs.index.IndexEngine._call_map_locations'\n",
      "Traceback (most recent call last):\n",
      "  File \"pandas\\_libs\\hashtable_class_helper.pxi\", line 4588, in pandas._libs.hashtable.PyObjectHashTable.map_locations\n",
      "TypeError: unhashable type: 'list'\n"
     ]
    },
    {
     "data": {
      "text/plain": [
       "[\\n4\\n]    8105\n",
       "NaN        5680\n",
       "[\\n3\\n]    2104\n",
       "[\\n5\\n]      22\n",
       "[\\n6\\n]       3\n",
       "[\\n2\\n]       2\n",
       "[\\n8\\n]       2\n",
       "[\\n1\\n]       1\n",
       "Name: cylinders, dtype: int64"
      ]
     },
     "execution_count": 251,
     "metadata": {},
     "output_type": "execute_result"
    }
   ],
   "source": [
    "df.cylinders.value_counts(dropna=False)"
   ]
  },
  {
   "cell_type": "code",
   "execution_count": 252,
   "metadata": {},
   "outputs": [
    {
     "data": {
      "text/plain": [
       "4      8105\n",
       "NaN    5680\n",
       "3      2104\n",
       "5        22\n",
       "6         3\n",
       "8         2\n",
       "2         2\n",
       "1         1\n",
       "Name: cylinders, dtype: int64"
      ]
     },
     "execution_count": 252,
     "metadata": {},
     "output_type": "execute_result"
    }
   ],
   "source": [
    "df.cylinders.str[0].str.strip(\"\\n\").value_counts(dropna=False)"
   ]
  },
  {
   "cell_type": "markdown",
   "metadata": {},
   "source": [
    "## comfort_convenience"
   ]
  },
  {
   "cell_type": "code",
   "execution_count": 253,
   "metadata": {},
   "outputs": [
    {
     "ename": "TypeError",
     "evalue": "unhashable type: 'list'",
     "output_type": "error",
     "traceback": [
      "\u001b[1;31m---------------------------------------------------------------------------\u001b[0m",
      "\u001b[1;31mTypeError\u001b[0m                                 Traceback (most recent call last)",
      "\u001b[1;32mpandas\\_libs\\hashtable_class_helper.pxi\u001b[0m in \u001b[0;36mpandas._libs.hashtable.PyObjectHashTable.map_locations\u001b[1;34m()\u001b[0m\n",
      "\u001b[1;31mTypeError\u001b[0m: unhashable type: 'list'"
     ]
    },
    {
     "name": "stderr",
     "output_type": "stream",
     "text": [
      "Exception ignored in: 'pandas._libs.index.IndexEngine._call_map_locations'\n",
      "Traceback (most recent call last):\n",
      "  File \"pandas\\_libs\\hashtable_class_helper.pxi\", line 4588, in pandas._libs.hashtable.PyObjectHashTable.map_locations\n",
      "TypeError: unhashable type: 'list'\n"
     ]
    },
    {
     "data": {
      "text/plain": [
       "NaN                                                                                                                                                                                                                                                                                                                                                                     920\n",
       "[Air conditioning, Electrical side mirrors, Hill Holder, Power windows]                                                                                                                                                                                                                                                                                                 216\n",
       "[Air conditioning, Electrical side mirrors, Power windows]                                                                                                                                                                                                                                                                                                              134\n",
       "[Air conditioning, Power windows]                                                                                                                                                                                                                                                                                                                                       130\n",
       "[Air conditioning, Armrest, Automatic climate control, Cruise control, Electrical side mirrors, Leather steering wheel, Light sensor, Lumbar support, Multi-function steering wheel, Navigation system, Park Distance Control, Parking assist system sensors front, Parking assist system sensors rear, Power windows, Rain sensor, Seat heating, Start-stop system]    105\n",
       "Name: comfort_convenience, dtype: int64"
      ]
     },
     "execution_count": 253,
     "metadata": {},
     "output_type": "execute_result"
    }
   ],
   "source": [
    "df[\"comfort_convenience\"].value_counts(dropna=False).head()"
   ]
  },
  {
   "cell_type": "code",
   "execution_count": 254,
   "metadata": {},
   "outputs": [],
   "source": [
    "df[\"comfort_convenience\"] = [\",\".join(item) if type(item) == list else item for item in df[\"comfort_convenience\"]]"
   ]
  },
  {
   "cell_type": "code",
   "execution_count": 255,
   "metadata": {},
   "outputs": [
    {
     "data": {
      "text/plain": [
       "NaN                                                                                                                                                                                                                                                                                                                                                   920\n",
       "Air conditioning,Electrical side mirrors,Hill Holder,Power windows                                                                                                                                                                                                                                                                                    216\n",
       "Air conditioning,Electrical side mirrors,Power windows                                                                                                                                                                                                                                                                                                134\n",
       "Air conditioning,Power windows                                                                                                                                                                                                                                                                                                                        130\n",
       "Air conditioning,Armrest,Automatic climate control,Cruise control,Electrical side mirrors,Leather steering wheel,Light sensor,Lumbar support,Multi-function steering wheel,Navigation system,Park Distance Control,Parking assist system sensors front,Parking assist system sensors rear,Power windows,Rain sensor,Seat heating,Start-stop system    105\n",
       "Name: comfort_convenience, dtype: int64"
      ]
     },
     "execution_count": 255,
     "metadata": {},
     "output_type": "execute_result"
    }
   ],
   "source": [
    "df[\"comfort_convenience\"].value_counts(dropna=False).head()"
   ]
  },
  {
   "cell_type": "code",
   "execution_count": null,
   "metadata": {},
   "outputs": [],
   "source": [
    "# bu sütunun nasıl kullanılacağına dair görüşmeliyiz. derste bazı arkadaşlar saydırırız gibi fikirler üretmişlerdi."
   ]
  },
  {
   "cell_type": "markdown",
   "metadata": {},
   "source": [
    "## weight "
   ]
  },
  {
   "cell_type": "code",
   "execution_count": 256,
   "metadata": {},
   "outputs": [
    {
     "ename": "TypeError",
     "evalue": "unhashable type: 'list'",
     "output_type": "error",
     "traceback": [
      "\u001b[1;31m---------------------------------------------------------------------------\u001b[0m",
      "\u001b[1;31mTypeError\u001b[0m                                 Traceback (most recent call last)",
      "\u001b[1;32mpandas\\_libs\\hashtable_class_helper.pxi\u001b[0m in \u001b[0;36mpandas._libs.hashtable.PyObjectHashTable.map_locations\u001b[1;34m()\u001b[0m\n",
      "\u001b[1;31mTypeError\u001b[0m: unhashable type: 'list'"
     ]
    },
    {
     "name": "stderr",
     "output_type": "stream",
     "text": [
      "Exception ignored in: 'pandas._libs.index.IndexEngine._call_map_locations'\n",
      "Traceback (most recent call last):\n",
      "  File \"pandas\\_libs\\hashtable_class_helper.pxi\", line 4588, in pandas._libs.hashtable.PyObjectHashTable.map_locations\n",
      "TypeError: unhashable type: 'list'\n"
     ]
    },
    {
     "data": {
      "text/plain": [
       "NaN               6974\n",
       "[\\n1,163 kg\\n]     574\n",
       "[\\n1,360 kg\\n]     356\n",
       "[\\n1,165 kg\\n]     301\n",
       "[\\n1,335 kg\\n]     242\n",
       "                  ... \n",
       "[\\n1,761 kg\\n]       1\n",
       "[\\n1,331 kg\\n]       1\n",
       "[\\n1,974 kg\\n]       1\n",
       "[\\n1,711 kg\\n]       1\n",
       "[\\n1,686 kg\\n]       1\n",
       "Name: weight, Length: 435, dtype: int64"
      ]
     },
     "execution_count": 256,
     "metadata": {},
     "output_type": "execute_result"
    }
   ],
   "source": [
    "df[\"weight\"].value_counts(dropna=False) "
   ]
  },
  {
   "cell_type": "code",
   "execution_count": 257,
   "metadata": {},
   "outputs": [],
   "source": [
    "df[\"weight_kg\"] = df.weight.str[0].str.strip('\\n').str.replace(',','').str.extract('(\\d{1,6})')[0].astype('float')"
   ]
  },
  {
   "cell_type": "code",
   "execution_count": 258,
   "metadata": {},
   "outputs": [
    {
     "data": {
      "text/plain": [
       "NaN       6974\n",
       "1163.0     574\n",
       "1360.0     356\n",
       "1165.0     301\n",
       "1335.0     242\n",
       "          ... \n",
       "1161.0       1\n",
       "1254.0       1\n",
       "1379.0       1\n",
       "1575.0       1\n",
       "1159.0       1\n",
       "Name: weight_kg, Length: 435, dtype: int64"
      ]
     },
     "execution_count": 258,
     "metadata": {},
     "output_type": "execute_result"
    }
   ],
   "source": [
    "df[\"weight_kg\"].value_counts(dropna=False)"
   ]
  },
  {
   "cell_type": "code",
   "execution_count": 259,
   "metadata": {},
   "outputs": [],
   "source": [
    "df.drop(\"weight\", axis=1, inplace=True)"
   ]
  },
  {
   "cell_type": "markdown",
   "metadata": {},
   "source": [
    "## drive_chain "
   ]
  },
  {
   "cell_type": "code",
   "execution_count": 260,
   "metadata": {},
   "outputs": [
    {
     "ename": "TypeError",
     "evalue": "unhashable type: 'list'",
     "output_type": "error",
     "traceback": [
      "\u001b[1;31m---------------------------------------------------------------------------\u001b[0m",
      "\u001b[1;31mTypeError\u001b[0m                                 Traceback (most recent call last)",
      "\u001b[1;32mpandas\\_libs\\hashtable_class_helper.pxi\u001b[0m in \u001b[0;36mpandas._libs.hashtable.PyObjectHashTable.map_locations\u001b[1;34m()\u001b[0m\n",
      "\u001b[1;31mTypeError\u001b[0m: unhashable type: 'list'"
     ]
    },
    {
     "name": "stderr",
     "output_type": "stream",
     "text": [
      "Exception ignored in: 'pandas._libs.index.IndexEngine._call_map_locations'\n",
      "Traceback (most recent call last):\n",
      "  File \"pandas\\_libs\\hashtable_class_helper.pxi\", line 4588, in pandas._libs.hashtable.PyObjectHashTable.map_locations\n",
      "TypeError: unhashable type: 'list'\n"
     ]
    },
    {
     "data": {
      "text/plain": [
       "[\\nfront\\n]    8886\n",
       "NaN            6858\n",
       "[\\n4WD\\n]       171\n",
       "[\\nrear\\n]        4\n",
       "Name: drive_chain, dtype: int64"
      ]
     },
     "execution_count": 260,
     "metadata": {},
     "output_type": "execute_result"
    }
   ],
   "source": [
    "df[\"drive_chain\"].value_counts(dropna=False)"
   ]
  },
  {
   "cell_type": "code",
   "execution_count": 261,
   "metadata": {},
   "outputs": [],
   "source": [
    "df['drive_chain'] = df['drive_chain'].str[0].str.strip('\\n')"
   ]
  },
  {
   "cell_type": "code",
   "execution_count": 262,
   "metadata": {},
   "outputs": [
    {
     "data": {
      "text/plain": [
       "front    8886\n",
       "NaN      6858\n",
       "4WD       171\n",
       "rear        4\n",
       "Name: drive_chain, dtype: int64"
      ]
     },
     "execution_count": 262,
     "metadata": {},
     "output_type": "execute_result"
    }
   ],
   "source": [
    "df[\"drive_chain\"].value_counts(dropna=False)"
   ]
  },
  {
   "cell_type": "markdown",
   "metadata": {},
   "source": [
    "## fuel"
   ]
  },
  {
   "cell_type": "code",
   "execution_count": 263,
   "metadata": {},
   "outputs": [
    {
     "ename": "TypeError",
     "evalue": "unhashable type: 'list'",
     "output_type": "error",
     "traceback": [
      "\u001b[1;31m---------------------------------------------------------------------------\u001b[0m",
      "\u001b[1;31mTypeError\u001b[0m                                 Traceback (most recent call last)",
      "\u001b[1;32mpandas\\_libs\\hashtable_class_helper.pxi\u001b[0m in \u001b[0;36mpandas._libs.hashtable.PyObjectHashTable.map_locations\u001b[1;34m()\u001b[0m\n",
      "\u001b[1;31mTypeError\u001b[0m: unhashable type: 'list'"
     ]
    },
    {
     "name": "stderr",
     "output_type": "stream",
     "text": [
      "Exception ignored in: 'pandas._libs.index.IndexEngine._call_map_locations'\n",
      "Traceback (most recent call last):\n",
      "  File \"pandas\\_libs\\hashtable_class_helper.pxi\", line 4588, in pandas._libs.hashtable.PyObjectHashTable.map_locations\n",
      "TypeError: unhashable type: 'list'\n"
     ]
    },
    {
     "data": {
      "text/plain": [
       "[\\n, Diesel (Particulate Filter), \\n]                                                                                  4315\n",
       "[\\n, Super 95, \\n]                                                                                                     3338\n",
       "[\\n, Gasoline, \\n]                                                                                                     3175\n",
       "[\\n, Diesel, \\n]                                                                                                       2984\n",
       "[\\n, Super 95 / Regular/Benzine 91, \\n]                                                                                 424\n",
       "                                                                                                                       ... \n",
       "[\\n, Super 95 / Regular/Benzine 91 / Super Plus 98 / Regular/Benzine E10 91 / Super Plus E10 98 / Super E10 95, \\n]       1\n",
       "[\\n, Regular/Benzine 91 / Super Plus 98 / Regular/Benzine E10 91 / Super 95 / Super E10 95 / Super Plus E10 98, \\n]       1\n",
       "[\\n, Regular/Benzine 91 / Super 95 / Super E10 95 / Regular/Benzine E10 91, \\n]                                           1\n",
       "[\\n, Regular/Benzine 91 / Super 95 / Super Plus 98, \\n]                                                                   1\n",
       "[\\n, Super 95 / Super E10 95 / Super Plus 98, \\n]                                                                         1\n",
       "Name: fuel, Length: 77, dtype: int64"
      ]
     },
     "execution_count": 263,
     "metadata": {},
     "output_type": "execute_result"
    }
   ],
   "source": [
    "df[\"fuel\"].value_counts(dropna=False)"
   ]
  },
  {
   "cell_type": "code",
   "execution_count": 264,
   "metadata": {},
   "outputs": [],
   "source": [
    "df[\"fuel\"] = df.fuel.str[1].str.split(\"/\").str[0].str.strip()"
   ]
  },
  {
   "cell_type": "code",
   "execution_count": 265,
   "metadata": {},
   "outputs": [
    {
     "data": {
      "text/plain": [
       "Diesel (Particulate Filter)          4315\n",
       "Super 95                             4100\n",
       "Gasoline                             3175\n",
       "Diesel                               2984\n",
       "Regular                               503\n",
       "Super E10 95                          402\n",
       "Super 95 (Particulate Filter)         268\n",
       "Gasoline (Particulate Filter)          77\n",
       "CNG                                    33\n",
       "LPG                                    16\n",
       "Super Plus 98                          11\n",
       "Liquid petroleum gas (LPG)             10\n",
       "Super E10 95 (Particulate Filter)       7\n",
       "Others                                  5\n",
       "Electric                                5\n",
       "CNG (Particulate Filter)                3\n",
       "Super Plus E10 98                       2\n",
       "Others (Particulate Filter)             1\n",
       "Biogas                                  1\n",
       "Domestic gas H                          1\n",
       "Name: fuel, dtype: int64"
      ]
     },
     "execution_count": 265,
     "metadata": {},
     "output_type": "execute_result"
    }
   ],
   "source": [
    "df[\"fuel\"].value_counts(dropna=False)"
   ]
  },
  {
   "cell_type": "code",
   "execution_count": 266,
   "metadata": {},
   "outputs": [],
   "source": [
    "df[\"fuel\"] = df.fuel.str.split(\"(\").str[0].str.strip()"
   ]
  },
  {
   "cell_type": "code",
   "execution_count": 267,
   "metadata": {},
   "outputs": [
    {
     "data": {
      "text/plain": [
       "Diesel                  7299\n",
       "Super 95                4368\n",
       "Gasoline                3252\n",
       "Regular                  503\n",
       "Super E10 95             409\n",
       "CNG                       36\n",
       "LPG                       16\n",
       "Super Plus 98             11\n",
       "Liquid petroleum gas      10\n",
       "Others                     6\n",
       "Electric                   5\n",
       "Super Plus E10 98          2\n",
       "Biogas                     1\n",
       "Domestic gas H             1\n",
       "Name: fuel, dtype: int64"
      ]
     },
     "execution_count": 267,
     "metadata": {},
     "output_type": "execute_result"
    }
   ],
   "source": [
    "df[\"fuel\"].value_counts(dropna=False)"
   ]
  },
  {
   "cell_type": "code",
   "execution_count": 268,
   "metadata": {},
   "outputs": [],
   "source": [
    "benzine = [\"Gasoline\", \"Super 95\",\"Regular\",\"Super E10 95\",\"Super Plus 98\",\"Super Plus E10 98\", \"Others\"]\n",
    "lpg = [\"LPG\",\"Liquid petroleum gas\", \"CNG\", \"Biogas\", \"Domestic gas H\"]\n",
    "def fueltype(x):\n",
    "    if x in benzine:\n",
    "        return \"Benzine\"\n",
    "    elif x in lpg:\n",
    "        return \"LPG/CNG\"\n",
    "    else:\n",
    "        return x\n",
    "df[\"fuel\"] = df.fuel.apply(fueltype)"
   ]
  },
  {
   "cell_type": "code",
   "execution_count": 269,
   "metadata": {},
   "outputs": [
    {
     "data": {
      "text/plain": [
       "Benzine     8551\n",
       "Diesel      7299\n",
       "LPG/CNG       64\n",
       "Electric       5\n",
       "Name: fuel, dtype: int64"
      ]
     },
     "execution_count": 269,
     "metadata": {},
     "output_type": "execute_result"
    }
   ],
   "source": [
    "df.fuel.value_counts(dropna=False)"
   ]
  },
  {
   "cell_type": "markdown",
   "metadata": {},
   "source": [
    "## consumption"
   ]
  },
  {
   "cell_type": "code",
   "execution_count": 270,
   "metadata": {},
   "outputs": [
    {
     "ename": "TypeError",
     "evalue": "unhashable type: 'list'",
     "output_type": "error",
     "traceback": [
      "\u001b[1;31m---------------------------------------------------------------------------\u001b[0m",
      "\u001b[1;31mTypeError\u001b[0m                                 Traceback (most recent call last)",
      "\u001b[1;32mpandas\\_libs\\hashtable_class_helper.pxi\u001b[0m in \u001b[0;36mpandas._libs.hashtable.PyObjectHashTable.map_locations\u001b[1;34m()\u001b[0m\n",
      "\u001b[1;31mTypeError\u001b[0m: unhashable type: 'list'"
     ]
    },
    {
     "name": "stderr",
     "output_type": "stream",
     "text": [
      "Exception ignored in: 'pandas._libs.index.IndexEngine._call_map_locations'\n",
      "Traceback (most recent call last):\n",
      "  File \"pandas\\_libs\\hashtable_class_helper.pxi\", line 4588, in pandas._libs.hashtable.PyObjectHashTable.map_locations\n",
      "TypeError: unhashable type: 'list'\n"
     ]
    },
    {
     "data": {
      "text/plain": [
       "NaN                                                                                   1906\n",
       "[[3.9 l/100 km (comb)], [4.1 l/100 km (city)], [3.7 l/100 km (country)]]               304\n",
       "[[4.2 l/100 km (comb)], [5 l/100 km (city)], [3.7 l/100 km (country)]]                 276\n",
       "[[5.4 l/100 km (comb)], [6.8 l/100 km (city)], [4.5 l/100 km (country)]]               257\n",
       "[[3.8 l/100 km (comb)], [4.3 l/100 km (city)], [3.5 l/100 km (country)]]               253\n",
       "                                                                                      ... \n",
       "[[3.1 l/100 km (comb)], [], [3.5 l/100 km (country)]]                                    1\n",
       "[[5.2 l/100 km (comb)], [6 l/100 km (city)], [4.8 l/100 km (country)]]                   1\n",
       "[[5.3 l/100 km (comb)], [6 l/100 km (city)], [5 l/100 km (country)]]                     1\n",
       "[\\n, 6.5 l/100 km (comb), \\n, 8.1 l/100 km (city), \\n, 5.5 l/100 km (country), \\n]       1\n",
       "[[50 l/100 km (comb)], [64 l/100 km (city)], [42 l/100 km (country)]]                    1\n",
       "Name: consumption, Length: 882, dtype: int64"
      ]
     },
     "execution_count": 270,
     "metadata": {},
     "output_type": "execute_result"
    }
   ],
   "source": [
    "df[\"consumption\"].value_counts(dropna=False)"
   ]
  },
  {
   "cell_type": "code",
   "execution_count": 271,
   "metadata": {},
   "outputs": [
    {
     "data": {
      "text/plain": [
       "3296     [[3.8 l/100 km (comb)], [4.5 l/100 km (city)],...\n",
       "10166    [[5.7 l/100 km (comb)], [7.3 l/100 km (city)],...\n",
       "2908     [[4.1 l/100 km (comb)], [5 l/100 km (city)], [...\n",
       "4609     [[3.9 l/100 km (comb)], [4.2 l/100 km (city)],...\n",
       "3300     [[5 l/100 km (comb)], [6.3 l/100 km (city)], [...\n",
       "895      [[3.7 l/100 km (comb)], [4.2 l/100 km (city)],...\n",
       "1207     [[3.7 l/100 km (comb)], [4.3 l/100 km (city)],...\n",
       "9575     [[5.3 l/100 km (comb)], [6.9 l/100 km (city)],...\n",
       "1732     [[3.9 l/100 km (comb)], [4.5 l/100 km (city)],...\n",
       "8872     [[3.1 l/100 km (comb)], [3.4 l/100 km (city)],...\n",
       "15613    [[6.2 l/100 km (comb)], [7.8 l/100 km (city)],...\n",
       "6752     [[4.3 l/100 km (comb)], [5.2 l/100 km (city)],...\n",
       "8013     [\\n, 5 l/100 km (comb), \\n, 5.9 l/100 km (city...\n",
       "14421    [[5.9 l/100 km (comb)], [7.6 l/100 km (city)],...\n",
       "1687     [[5.6 l/100 km (comb)], [7.1 l/100 km (city)],...\n",
       "10157    [[6.9 l/100 km (comb)], [8.7 l/100 km (city)],...\n",
       "2921     [[5 l/100 km (comb)], [6.1 l/100 km (city)], [...\n",
       "5160     [[5.1 l/100 km (comb)], [6.4 l/100 km (city)],...\n",
       "2848     [[], [3.5 l/100 km (city)], [3.8 l/100 km (cou...\n",
       "14029    [[5.4 l/100 km (comb)], [6.8 l/100 km (city)],...\n",
       "7117     [[4.5 l/100 km (comb)], [5.7 l/100 km (city)],...\n",
       "15696    [[4.7 l/100 km (comb)], [5.1 l/100 km (city)],...\n",
       "8401     [[6 l/100 km (comb)], [8 l/100 km (city)], [4....\n",
       "13199                                                  NaN\n",
       "12700    [[5.3 l/100 km (comb)], [6.6 l/100 km (city)],...\n",
       "14689    [[5 l/100 km (comb)], [6.3 l/100 km (city)], [...\n",
       "5526     [[5.1 l/100 km (comb)], [6 l/100 km (city)], [...\n",
       "10041    [[6 l/100 km (comb)], [7.8 l/100 km (city)], [...\n",
       "634      [[4.2 l/100 km (comb)], [5 l/100 km (city)], [...\n",
       "14143    [[3.3 l/100 km (comb)], [3.7 l/100 km (city)],...\n",
       "5732                                                   NaN\n",
       "7582     [[6.2 l/100 km (comb)], [7.7 l/100 km (city)],...\n",
       "97       [[4 l/100 km (comb)], [4.6 l/100 km (city)], [...\n",
       "1937     [[4.8 l/100 km (comb)], [5.9 l/100 km (city)],...\n",
       "13366    [[], [3.3 l/100 km (city)], [3.5 l/100 km (cou...\n",
       "7897     [\\n, 4.4 l/100 km (comb), \\n, 5.4 l/100 km (ci...\n",
       "4727     [[4 l/100 km (comb)], [4.5 l/100 km (city)], [...\n",
       "14018    [[5.4 l/100 km (comb)], [6.8 l/100 km (city)],...\n",
       "5206     [[5.1 l/100 km (comb)], [5.8 l/100 km (city)],...\n",
       "8261     [[5.2 l/100 km (comb)], [6.6 l/100 km (city)],...\n",
       "3113     [[3.8 l/100 km (comb)], [4.5 l/100 km (city)],...\n",
       "6222     [[3.6 l/100 km (comb)], [4.2 l/100 km (city)],...\n",
       "10794                                                  NaN\n",
       "15722    [[7.4 l/100 km (comb)], [9.2 l/100 km (city)],...\n",
       "2761                                                   NaN\n",
       "9089     [[5.4 l/100 km (comb)], [6.7 l/100 km (city)],...\n",
       "4034     [[4.8 l/100 km (comb)], [5.8 l/100 km (city)],...\n",
       "6226     [[3.8 l/100 km (comb)], [4.5 l/100 km (city)],...\n",
       "14120    [[5 l/100 km (comb)], [6.3 l/100 km (city)], [...\n",
       "9709     [[6.3 l/100 km (comb)], [7.8 l/100 km (city)],...\n",
       "8249     [[6 l/100 km (comb)], [7.8 l/100 km (city)], [...\n",
       "13488                      [[3.2 l/100 km (comb)], [], []]\n",
       "9215     [[5.2 l/100 km (comb)], [6.6 l/100 km (city)],...\n",
       "8176                                                   NaN\n",
       "8651     [[3.9 l/100 km (comb)], [4.7 l/100 km (city)],...\n",
       "Name: consumption, dtype: object"
      ]
     },
     "execution_count": 271,
     "metadata": {},
     "output_type": "execute_result"
    }
   ],
   "source": [
    "df['consumption'].sample(55) # datayi anlamak icin rastgele 55 sample aldim."
   ]
  },
  {
   "cell_type": "markdown",
   "metadata": {},
   "source": [
    "There are three tpyes of value which can effect the result.\n",
    "Type 1-one list and three sub list (comb,city,country), like= [[3.8 l/100 km (comb)], [4.3 l/100 km (city)], [3.5 l/100 km (country)]]\n",
    "Type 2-one list and no sub list (comb,city,country), like = [\\n, 7.4 l/100 km (comb), \\n, 9.2 l/100 km (city), \\n, 6.3 l/100 km (country), \\n]\n",
    "Type 3-one list and three sub lists some of which are empty, like = [[], [4.6 l/100 km (city)], [5.7 l/100 km (country)]] or [[4.2 l/100 km (comb)], [], []] or [[], [], [5.1 l/100 km (country)]]\n",
    "So, we use str.extract() to select numeric consumption(comb) in different ways below."
   ]
  },
  {
   "cell_type": "code",
   "execution_count": 272,
   "metadata": {},
   "outputs": [
    {
     "data": {
      "text/plain": [
       "0        [3.8 l/100 km (comb)]\n",
       "1        [5.6 l/100 km (comb)]\n",
       "2        [3.8 l/100 km (comb)]\n",
       "3        [3.8 l/100 km (comb)]\n",
       "4        [4.1 l/100 km (comb)]\n",
       "                 ...          \n",
       "15914    [5.3 l/100 km (comb)]\n",
       "15915                       \\n\n",
       "15916    [5.3 l/100 km (comb)]\n",
       "15917    [5.3 l/100 km (comb)]\n",
       "15918    [6.8 l/100 km (comb)]\n",
       "Name: consumption, Length: 15919, dtype: object"
      ]
     },
     "execution_count": 272,
     "metadata": {},
     "output_type": "execute_result"
    }
   ],
   "source": [
    "df.consumption.str[0]  # bu sekilde ilk elemana yani genellikle yakit tüketimi comb seklinde gösterilenlere"
   ]
  },
  {
   "cell_type": "code",
   "execution_count": 273,
   "metadata": {},
   "outputs": [
    {
     "ename": "TypeError",
     "evalue": "unhashable type: 'list'",
     "output_type": "error",
     "traceback": [
      "\u001b[1;31m---------------------------------------------------------------------------\u001b[0m",
      "\u001b[1;31mTypeError\u001b[0m                                 Traceback (most recent call last)",
      "\u001b[1;32mpandas\\_libs\\hashtable_class_helper.pxi\u001b[0m in \u001b[0;36mpandas._libs.hashtable.PyObjectHashTable.map_locations\u001b[1;34m()\u001b[0m\n",
      "\u001b[1;31mTypeError\u001b[0m: unhashable type: 'list'"
     ]
    },
    {
     "name": "stderr",
     "output_type": "stream",
     "text": [
      "Exception ignored in: 'pandas._libs.index.IndexEngine._call_map_locations'\n",
      "Traceback (most recent call last):\n",
      "  File \"pandas\\_libs\\hashtable_class_helper.pxi\", line 4588, in pandas._libs.hashtable.PyObjectHashTable.map_locations\n",
      "TypeError: unhashable type: 'list'\n"
     ]
    },
    {
     "data": {
      "text/plain": [
       "[3.6 kg/100 km (comb)]      1\n",
       "[4.2 l/100 km (comb)]     408\n",
       "[43 l/100 km (comb)]        1\n",
       "[3.3 kg/100 km (comb)]      9\n",
       "[5.8 l/100 km (comb)]     142\n",
       "[3.9 l/100 km (comb)]     732\n",
       "[]                        127\n",
       "[5.1 kg/100 km (comb)]      3\n",
       "[6.6 l/100 km (comb)]     119\n",
       "[9.1 l/100 km (comb)]       1\n",
       "Name: consumption, dtype: int64"
      ]
     },
     "execution_count": 273,
     "metadata": {},
     "output_type": "execute_result"
    }
   ],
   "source": [
    "df.consumption.str[0].value_counts(dropna = False).sample(10) #value_counts yapip sample aldim"
   ]
  },
  {
   "cell_type": "code",
   "execution_count": 274,
   "metadata": {},
   "outputs": [
    {
     "ename": "TypeError",
     "evalue": "unhashable type: 'list'",
     "output_type": "error",
     "traceback": [
      "\u001b[1;31m---------------------------------------------------------------------------\u001b[0m",
      "\u001b[1;31mTypeError\u001b[0m                                 Traceback (most recent call last)",
      "\u001b[1;32mpandas\\_libs\\hashtable_class_helper.pxi\u001b[0m in \u001b[0;36mpandas._libs.hashtable.PyObjectHashTable.map_locations\u001b[1;34m()\u001b[0m\n",
      "\u001b[1;31mTypeError\u001b[0m: unhashable type: 'list'"
     ]
    },
    {
     "name": "stderr",
     "output_type": "stream",
     "text": [
      "Exception ignored in: 'pandas._libs.index.IndexEngine._call_map_locations'\n",
      "Traceback (most recent call last):\n",
      "  File \"pandas\\_libs\\hashtable_class_helper.pxi\", line 4588, in pandas._libs.hashtable.PyObjectHashTable.map_locations\n",
      "TypeError: unhashable type: 'list'\n"
     ]
    },
    {
     "data": {
      "text/plain": [
       "[3.4 kg/100 km (comb)]     12\n",
       "[5.7 l/100 km (comb)]     302\n",
       "[6.6 l/100 km (comb)]     119\n",
       "[3.3 kg/100 km (comb)]      9\n",
       "[5.5 l/100 km (comb)]     342\n",
       "[8.3 l/100 km (comb)]      19\n",
       "[5.8 l/100 km (comb)]     142\n",
       "[4.9 l/100 km (comb)]     348\n",
       "[9.1 l/100 km (comb)]       1\n",
       "[5.4 l/100 km (comb)]     662\n",
       "Name: consumption, dtype: int64"
      ]
     },
     "execution_count": 274,
     "metadata": {},
     "output_type": "execute_result"
    }
   ],
   "source": [
    "df.consumption.str[0].value_counts(dropna = False).sample(10) #bir 10 sample daha aldim, "
   ]
  },
  {
   "cell_type": "code",
   "execution_count": 275,
   "metadata": {},
   "outputs": [
    {
     "ename": "TypeError",
     "evalue": "unhashable type: 'list'",
     "output_type": "error",
     "traceback": [
      "\u001b[1;31m---------------------------------------------------------------------------\u001b[0m",
      "\u001b[1;31mTypeError\u001b[0m                                 Traceback (most recent call last)",
      "\u001b[1;32mpandas\\_libs\\hashtable_class_helper.pxi\u001b[0m in \u001b[0;36mpandas._libs.hashtable.PyObjectHashTable.map_locations\u001b[1;34m()\u001b[0m\n",
      "\u001b[1;31mTypeError\u001b[0m: unhashable type: 'list'"
     ]
    },
    {
     "name": "stderr",
     "output_type": "stream",
     "text": [
      "Exception ignored in: 'pandas._libs.index.IndexEngine._call_map_locations'\n",
      "Traceback (most recent call last):\n",
      "  File \"pandas\\_libs\\hashtable_class_helper.pxi\", line 4588, in pandas._libs.hashtable.PyObjectHashTable.map_locations\n",
      "TypeError: unhashable type: 'list'\n"
     ]
    },
    {
     "data": {
      "text/plain": [
       "[4.7 l/100 km (comb)]    555\n",
       "[3 l/100 km (comb)]       69\n",
       "[8.6 l/100 km (comb)]      3\n",
       "[6.8 l/100 km (comb)]    134\n",
       "[7.5 l/100 km (comb)]      1\n",
       "[5.6 l/100 km (comb)]    568\n",
       "[0 l/100 km (comb)]        2\n",
       "[40 l/100 km (comb)]       2\n",
       "[3.7 l/100 km (comb)]    369\n",
       "[3.5 l/100 km (comb)]    285\n",
       "Name: consumption, dtype: int64"
      ]
     },
     "execution_count": 275,
     "metadata": {},
     "output_type": "execute_result"
    }
   ],
   "source": [
    "df.consumption.str[0].value_counts(dropna = False).sample(10) # 10 sample daha aldim"
   ]
  },
  {
   "cell_type": "markdown",
   "metadata": {},
   "source": [
    "There are 850 values in which only 'one' list (the value of \"\\n\" indicates that). Consists of no sub list.\n",
    "\n",
    "There are 127 values is '[]' which means there is no comb consumption. Only have city or country or both.\n",
    "\n",
    "There are still 1906 NaNs."
   ]
  },
  {
   "cell_type": "code",
   "execution_count": 276,
   "metadata": {},
   "outputs": [
    {
     "data": {
      "text/plain": [
       "NaN                     2033\n",
       "\\n                       850\n",
       "3.9 l/100 km (comb)      732\n",
       "4 l/100 km (comb)        712\n",
       "5.4 l/100 km (comb)      662\n",
       "                        ... \n",
       "13.8 l/100 km (comb)       1\n",
       "54 l/100 km (comb)         1\n",
       "32 l/100 km (comb)         1\n",
       "3.6 kg/100 km (comb)       1\n",
       "5.4 kg/100 km (comb)       1\n",
       "Name: consumption, Length: 81, dtype: int64"
      ]
     },
     "execution_count": 276,
     "metadata": {},
     "output_type": "execute_result"
    }
   ],
   "source": [
    "df.consumption.str[0].str[0].value_counts(dropna = False) #bu sekilde 127 bos listenin de icine girerek onlari da NaN olarak saydirdim"
   ]
  },
  {
   "cell_type": "code",
   "execution_count": 277,
   "metadata": {},
   "outputs": [
    {
     "data": {
      "text/plain": [
       "array(['3.8 l/100 km (comb)', '5.6 l/100 km (comb)',\n",
       "       '4.1 l/100 km (comb)', '3.5 l/100 km (comb)',\n",
       "       '3.7 l/100 km (comb)', nan, '4 l/100 km (comb)',\n",
       "       '4.9 l/100 km (comb)', '4.2 l/100 km (comb)',\n",
       "       '4.5 l/100 km (comb)', '4.4 l/100 km (comb)',\n",
       "       '4.3 l/100 km (comb)', '3 l/100 km (comb)', '3.6 l/100 km (comb)',\n",
       "       '3.4 l/100 km (comb)', '\\n', '3.9 l/100 km (comb)',\n",
       "       '5.1 l/100 km (comb)', '5.2 l/100 km (comb)',\n",
       "       '4.6 l/100 km (comb)', '4.8 l/100 km (comb)',\n",
       "       '5.8 l/100 km (comb)', '4.7 l/100 km (comb)', '5 l/100 km (comb)',\n",
       "       '43 l/100 km (comb)', '13.8 l/100 km (comb)', '6 l/100 km (comb)',\n",
       "       '5.9 l/100 km (comb)', '51 l/100 km (comb)', '5.3 l/100 km (comb)',\n",
       "       '5.3 kg/100 km (comb)', '5.5 l/100 km (comb)',\n",
       "       '3.4 kg/100 km (comb)', '10 l/100 km (comb)',\n",
       "       '3.3 kg/100 km (comb)', '3.2 l/100 km (comb)',\n",
       "       '3.5 kg/100 km (comb)', '6.6 l/100 km (comb)',\n",
       "       '3.3 l/100 km (comb)', '8.3 l/100 km (comb)',\n",
       "       '6.5 l/100 km (comb)', '7.1 l/100 km (comb)',\n",
       "       '8.1 l/100 km (comb)', '5.4 kg/100 km (comb)',\n",
       "       '40 l/100 km (comb)', '38 l/100 km (comb)', '6.4 l/100 km (comb)',\n",
       "       '8.3 kg/100 km (comb)', '5.1 kg/100 km (comb)',\n",
       "       '5.4 l/100 km (comb)', '6.7 l/100 km (comb)',\n",
       "       '6.2 l/100 km (comb)', '7.3 l/100 km (comb)',\n",
       "       '6.3 l/100 km (comb)', '5.7 l/100 km (comb)',\n",
       "       '6.1 l/100 km (comb)', '6.8 l/100 km (comb)',\n",
       "       '7.5 l/100 km (comb)', '7.4 l/100 km (comb)',\n",
       "       '3.6 kg/100 km (comb)', '0 l/100 km (comb)', '7.8 l/100 km (comb)',\n",
       "       '3.1 l/100 km (comb)', '6.9 l/100 km (comb)', '7 l/100 km (comb)',\n",
       "       '7.2 l/100 km (comb)', '8 l/100 km (comb)', '11 l/100 km (comb)',\n",
       "       '9.1 l/100 km (comb)', '8.6 l/100 km (comb)',\n",
       "       '8.7 l/100 km (comb)', '7.9 l/100 km (comb)', '55 l/100 km (comb)',\n",
       "       '54 l/100 km (comb)', '1.2 l/100 km (comb)', '32 l/100 km (comb)',\n",
       "       '33 l/100 km (comb)', '50 l/100 km (comb)', '1 l/100 km (comb)',\n",
       "       '46 l/100 km (comb)', '7.6 l/100 km (comb)'], dtype=object)"
      ]
     },
     "execution_count": 277,
     "metadata": {},
     "output_type": "execute_result"
    }
   ],
   "source": [
    "df.consumption.str[0].str[0].unique() # unique degerlere baktim"
   ]
  },
  {
   "cell_type": "code",
   "execution_count": 278,
   "metadata": {},
   "outputs": [],
   "source": [
    "df[\"consumption_comb\"] =df.consumption.str[0].str[0].str.extract(\"(\\d.\\d|\\d)\") # extract ettigim veriyi consumption_comb diye yeni sütuna atadim"
   ]
  },
  {
   "cell_type": "code",
   "execution_count": 279,
   "metadata": {},
   "outputs": [
    {
     "data": {
      "text/plain": [
       "NaN    2883\n",
       "3.9     732\n",
       "4       716\n",
       "5.4     663\n",
       "5.1     630\n",
       "4.4     595\n",
       "3.8     585\n",
       "5.6     568\n",
       "4.7     555\n",
       "4.8     523\n",
       "5       520\n",
       "4.5     511\n",
       "5.2     429\n",
       "4.6     420\n",
       "4.2     408\n",
       "5.3     375\n",
       "3.7     369\n",
       "4.9     348\n",
       "5.5     342\n",
       "4.1     341\n",
       "5.9     308\n",
       "3.3     307\n",
       "5.7     302\n",
       "4.3     295\n",
       "3.5     288\n",
       "6       278\n",
       "3.6     194\n",
       "6.2     184\n",
       "5.8     142\n",
       "6.3     141\n",
       "6.1     135\n",
       "6.8     134\n",
       "6.6     119\n",
       "3.4     106\n",
       "3        73\n",
       "6.4      64\n",
       "7.4      62\n",
       "7.1      38\n",
       "1        37\n",
       "6.5      36\n",
       "6.7      33\n",
       "3.2      25\n",
       "6.9      21\n",
       "8.3      20\n",
       "7.6      14\n",
       "7         9\n",
       "3.1       7\n",
       "7.8       6\n",
       "7.2       6\n",
       "8         5\n",
       "8.6       3\n",
       "8.7       3\n",
       "0         2\n",
       "7.9       2\n",
       "7.3       2\n",
       "8.1       2\n",
       "9.1       1\n",
       "1.2       1\n",
       "7.5       1\n",
       "Name: consumption_comb, dtype: int64"
      ]
     },
     "execution_count": 279,
     "metadata": {},
     "output_type": "execute_result"
    }
   ],
   "source": [
    "df.consumption_comb.value_counts(dropna = False) # degerleri saydirdim"
   ]
  },
  {
   "cell_type": "code",
   "execution_count": 280,
   "metadata": {},
   "outputs": [
    {
     "ename": "TypeError",
     "evalue": "unhashable type: 'list'",
     "output_type": "error",
     "traceback": [
      "\u001b[1;31m---------------------------------------------------------------------------\u001b[0m",
      "\u001b[1;31mTypeError\u001b[0m                                 Traceback (most recent call last)",
      "\u001b[1;32mpandas\\_libs\\hashtable_class_helper.pxi\u001b[0m in \u001b[0;36mpandas._libs.hashtable.PyObjectHashTable.map_locations\u001b[1;34m()\u001b[0m\n",
      "\u001b[1;31mTypeError\u001b[0m: unhashable type: 'list'"
     ]
    },
    {
     "name": "stderr",
     "output_type": "stream",
     "text": [
      "Exception ignored in: 'pandas._libs.index.IndexEngine._call_map_locations'\n",
      "Traceback (most recent call last):\n",
      "  File \"pandas\\_libs\\hashtable_class_helper.pxi\", line 4588, in pandas._libs.hashtable.PyObjectHashTable.map_locations\n",
      "TypeError: unhashable type: 'list'\n"
     ]
    },
    {
     "data": {
      "text/plain": [
       "NaN                        1906\n",
       "[5 l/100 km (city)]         642\n",
       "[5.8 l/100 km (city)]       597\n",
       "[4.5 l/100 km (city)]       577\n",
       "[]                          516\n",
       "                           ... \n",
       "8.6 l/100 km (comb)           1\n",
       "[10.5 kg/100 km (city)]       1\n",
       "[4.4 kg/100 km (city)]        1\n",
       "[9 l/100 km (city)]           1\n",
       "[6.5 kg/100 km (city)]        1\n",
       "Name: consumption, Length: 130, dtype: int64"
      ]
     },
     "execution_count": 280,
     "metadata": {},
     "output_type": "execute_result"
    }
   ],
   "source": [
    "df.consumption.str[1].value_counts(dropna = False) #simdi diger elemana geciyorum, city tüketimine"
   ]
  },
  {
   "cell_type": "code",
   "execution_count": 281,
   "metadata": {},
   "outputs": [
    {
     "ename": "TypeError",
     "evalue": "unhashable type: 'list'",
     "output_type": "error",
     "traceback": [
      "\u001b[1;31m---------------------------------------------------------------------------\u001b[0m",
      "\u001b[1;31mTypeError\u001b[0m                                 Traceback (most recent call last)",
      "\u001b[1;32mpandas\\_libs\\hashtable_class_helper.pxi\u001b[0m in \u001b[0;36mpandas._libs.hashtable.PyObjectHashTable.map_locations\u001b[1;34m()\u001b[0m\n",
      "\u001b[1;31mTypeError\u001b[0m: unhashable type: 'list'"
     ]
    },
    {
     "name": "stderr",
     "output_type": "stream",
     "text": [
      "Exception ignored in: 'pandas._libs.index.IndexEngine._call_map_locations'\n",
      "Traceback (most recent call last):\n",
      "  File \"pandas\\_libs\\hashtable_class_helper.pxi\", line 4588, in pandas._libs.hashtable.PyObjectHashTable.map_locations\n",
      "TypeError: unhashable type: 'list'\n"
     ]
    },
    {
     "data": {
      "text/plain": [
       "[66 l/100 km (city)]        1\n",
       "[7.6 l/100 km (city)]     227\n",
       "[5.5 l/100 km (city)]     207\n",
       "[16.1 l/100 km (city)]      1\n",
       "4.7 l/100 km (comb)        47\n",
       "[4.4 kg/100 km (city)]      1\n",
       "[9 l/100 km (city)]         1\n",
       "[10.1 l/100 km (city)]      2\n",
       "5.9 l/100 km (comb)        61\n",
       "4.5 l/100 km (comb)        12\n",
       "Name: consumption, dtype: int64"
      ]
     },
     "execution_count": 281,
     "metadata": {},
     "output_type": "execute_result"
    }
   ],
   "source": [
    "df.consumption.str[1].value_counts(dropna = False).sample(10) # 10 adet sample aldim"
   ]
  },
  {
   "cell_type": "code",
   "execution_count": 282,
   "metadata": {},
   "outputs": [],
   "source": [
    "consumption1 = df.consumption.str[1].str.extract(\"(\\d.\\d|\\d)\") # patern girip extract ettirdim ve bunun consumption1'e atadim"
   ]
  },
  {
   "cell_type": "code",
   "execution_count": 283,
   "metadata": {},
   "outputs": [
    {
     "data": {
      "text/html": [
       "<div>\n",
       "<style scoped>\n",
       "    .dataframe tbody tr th:only-of-type {\n",
       "        vertical-align: middle;\n",
       "    }\n",
       "\n",
       "    .dataframe tbody tr th {\n",
       "        vertical-align: top;\n",
       "    }\n",
       "\n",
       "    .dataframe thead th {\n",
       "        text-align: right;\n",
       "    }\n",
       "</style>\n",
       "<table border=\"1\" class=\"dataframe\">\n",
       "  <thead>\n",
       "    <tr style=\"text-align: right;\">\n",
       "      <th></th>\n",
       "      <th>0</th>\n",
       "    </tr>\n",
       "  </thead>\n",
       "  <tbody>\n",
       "    <tr>\n",
       "      <th>0</th>\n",
       "      <td>NaN</td>\n",
       "    </tr>\n",
       "    <tr>\n",
       "      <th>1</th>\n",
       "      <td>NaN</td>\n",
       "    </tr>\n",
       "    <tr>\n",
       "      <th>2</th>\n",
       "      <td>NaN</td>\n",
       "    </tr>\n",
       "    <tr>\n",
       "      <th>3</th>\n",
       "      <td>NaN</td>\n",
       "    </tr>\n",
       "    <tr>\n",
       "      <th>4</th>\n",
       "      <td>NaN</td>\n",
       "    </tr>\n",
       "  </tbody>\n",
       "</table>\n",
       "</div>"
      ],
      "text/plain": [
       "     0\n",
       "0  NaN\n",
       "1  NaN\n",
       "2  NaN\n",
       "3  NaN\n",
       "4  NaN"
      ]
     },
     "execution_count": 283,
     "metadata": {},
     "output_type": "execute_result"
    }
   ],
   "source": [
    "consumption1.head() #head'ine baktim. hep NaN"
   ]
  },
  {
   "cell_type": "code",
   "execution_count": 284,
   "metadata": {},
   "outputs": [
    {
     "data": {
      "text/plain": [
       "NaN    15069\n",
       "5.4      107\n",
       "5.9       61\n",
       "6         53\n",
       "5.6       50\n",
       "4.7       47\n",
       "4.9       45\n",
       "6.1       40\n",
       "5.7       40\n",
       "6.3       40\n",
       "5.5       38\n",
       "5         32\n",
       "6.2       32\n",
       "6.6       29\n",
       "4.4       28\n",
       "5.1       27\n",
       "4.2       27\n",
       "5.2       25\n",
       "4.8       23\n",
       "5.8       22\n",
       "4.5       12\n",
       "4.3       12\n",
       "6.4       11\n",
       "6.7       10\n",
       "6.5        7\n",
       "4.6        6\n",
       "6.9        6\n",
       "5.3        5\n",
       "7.4        4\n",
       "1.6        3\n",
       "6.8        2\n",
       "4          1\n",
       "8.6        1\n",
       "7          1\n",
       "7.9        1\n",
       "4.1        1\n",
       "3.9        1\n",
       "Name: 0, dtype: int64"
      ]
     },
     "execution_count": 284,
     "metadata": {},
     "output_type": "execute_result"
    }
   ],
   "source": [
    "consumption1[0].value_counts(dropna = False) #degerleri saydirdim baktim ki cok NaN var."
   ]
  },
  {
   "cell_type": "code",
   "execution_count": 285,
   "metadata": {},
   "outputs": [
    {
     "data": {
      "text/plain": [
       "850"
      ]
     },
     "execution_count": 285,
     "metadata": {},
     "output_type": "execute_result"
    }
   ],
   "source": [
    "consumption1[0].value_counts().sum() #kac farkli deger olduguna baktim"
   ]
  },
  {
   "cell_type": "code",
   "execution_count": 286,
   "metadata": {},
   "outputs": [
    {
     "data": {
      "text/plain": [
       "NaN    2033\n",
       "5.4     770\n",
       "3.9     733\n",
       "4       717\n",
       "5.1     657\n",
       "4.4     623\n",
       "5.6     618\n",
       "4.7     602\n",
       "3.8     585\n",
       "5       552\n",
       "4.8     546\n",
       "4.5     523\n",
       "5.2     454\n",
       "4.2     435\n",
       "4.6     426\n",
       "4.9     393\n",
       "5.3     380\n",
       "5.5     380\n",
       "3.7     369\n",
       "5.9     369\n",
       "5.7     342\n",
       "4.1     342\n",
       "6       331\n",
       "3.3     307\n",
       "4.3     307\n",
       "3.5     288\n",
       "6.2     216\n",
       "3.6     194\n",
       "6.3     181\n",
       "6.1     175\n",
       "5.8     164\n",
       "6.6     148\n",
       "6.8     136\n",
       "3.4     106\n",
       "6.4      75\n",
       "3        73\n",
       "7.4      66\n",
       "6.7      43\n",
       "6.5      43\n",
       "7.1      38\n",
       "1        37\n",
       "6.9      27\n",
       "3.2      25\n",
       "8.3      20\n",
       "7.6      14\n",
       "7        10\n",
       "3.1       7\n",
       "7.2       6\n",
       "7.8       6\n",
       "8         5\n",
       "8.6       4\n",
       "7.9       3\n",
       "8.7       3\n",
       "1.6       3\n",
       "0         2\n",
       "7.3       2\n",
       "8.1       2\n",
       "9.1       1\n",
       "1.2       1\n",
       "7.5       1\n",
       "Name: consumption_comb, dtype: int64"
      ]
     },
     "execution_count": 286,
     "metadata": {},
     "output_type": "execute_result"
    }
   ],
   "source": [
    "df.consumption_comb.fillna(consumption1[0]).value_counts(dropna = False) #consumption_comb'daki NaN verileri consumption1'den doldursam ne olur diye baktim"
   ]
  },
  {
   "cell_type": "code",
   "execution_count": 287,
   "metadata": {},
   "outputs": [],
   "source": [
    "df.consumption_comb.fillna(consumption1[0], inplace = True) # doldurdum"
   ]
  },
  {
   "cell_type": "code",
   "execution_count": 288,
   "metadata": {},
   "outputs": [
    {
     "data": {
      "text/plain": [
       "12.770902694892895"
      ]
     },
     "execution_count": 288,
     "metadata": {},
     "output_type": "execute_result"
    }
   ],
   "source": [
    "df.consumption_comb.isnull().sum()*100/df.consumption_comb.shape[0] # ne kadari hala NaN ona baktim"
   ]
  },
  {
   "cell_type": "code",
   "execution_count": 289,
   "metadata": {},
   "outputs": [
    {
     "ename": "TypeError",
     "evalue": "unhashable type: 'list'",
     "output_type": "error",
     "traceback": [
      "\u001b[1;31m---------------------------------------------------------------------------\u001b[0m",
      "\u001b[1;31mTypeError\u001b[0m                                 Traceback (most recent call last)",
      "\u001b[1;32mpandas\\_libs\\hashtable_class_helper.pxi\u001b[0m in \u001b[0;36mpandas._libs.hashtable.PyObjectHashTable.map_locations\u001b[1;34m()\u001b[0m\n",
      "\u001b[1;31mTypeError\u001b[0m: unhashable type: 'list'"
     ]
    },
    {
     "name": "stderr",
     "output_type": "stream",
     "text": [
      "Exception ignored in: 'pandas._libs.index.IndexEngine._call_map_locations'\n",
      "Traceback (most recent call last):\n",
      "  File \"pandas\\_libs\\hashtable_class_helper.pxi\", line 4588, in pandas._libs.hashtable.PyObjectHashTable.map_locations\n",
      "TypeError: unhashable type: 'list'\n"
     ]
    },
    {
     "data": {
      "text/plain": [
       "NaN                       1906\n",
       "[5 l/100 km (city)]        642\n",
       "[5.8 l/100 km (city)]      597\n",
       "[4.5 l/100 km (city)]      577\n",
       "[]                         516\n",
       "                          ... \n",
       "[10.4 l/100 km (city)]       1\n",
       "[64 l/100 km (city)]         1\n",
       "[6.5 kg/100 km (city)]       1\n",
       "[9 l/100 km (city)]          1\n",
       "3.3 l/100 km (country)       1\n",
       "Name: consumption, Length: 121, dtype: int64"
      ]
     },
     "execution_count": 289,
     "metadata": {},
     "output_type": "execute_result"
    }
   ],
   "source": [
    "df[\"consumption\"].str[-2].value_counts(dropna = False) #simdi diger elamana gectim ama farkli sekilde ulastim bu sefer -2 ile tersten geldim"
   ]
  },
  {
   "cell_type": "code",
   "execution_count": 290,
   "metadata": {},
   "outputs": [
    {
     "data": {
      "text/plain": [
       "NaN    2436\n",
       "5       858\n",
       "4       836\n",
       "5.8     600\n",
       "4.5     580\n",
       "       ... \n",
       "8.8       2\n",
       "3.6       2\n",
       "9.5       2\n",
       "9.7       1\n",
       "9         1\n",
       "Name: 0, Length: 70, dtype: int64"
      ]
     },
     "execution_count": 290,
     "metadata": {},
     "output_type": "execute_result"
    }
   ],
   "source": [
    "df[\"consumption\"].str[-2].str[0].str.extract(\"(\\d.\\d|\\d)\")[0].value_counts(dropna = False) #patern girip degerleri saydirdim"
   ]
  },
  {
   "cell_type": "code",
   "execution_count": 291,
   "metadata": {},
   "outputs": [],
   "source": [
    "consumption_city = df[\"consumption\"].str[-2].str[0].str.extract(\"(\\d.\\d|\\d)\") #bunu consumption_city'e atadim"
   ]
  },
  {
   "cell_type": "code",
   "execution_count": 292,
   "metadata": {},
   "outputs": [],
   "source": [
    "consumption_city = pd.to_numeric(consumption_city[0]) #numerik'e dönüstürdüm, baska bir yolla"
   ]
  },
  {
   "cell_type": "code",
   "execution_count": 293,
   "metadata": {},
   "outputs": [
    {
     "data": {
      "text/plain": [
       "0        4.3\n",
       "1        7.1\n",
       "2        4.4\n",
       "3        4.3\n",
       "4        4.6\n",
       "        ... \n",
       "15914    6.2\n",
       "15915    6.0\n",
       "15916    6.2\n",
       "15917    6.2\n",
       "15918    8.7\n",
       "Name: 0, Length: 15919, dtype: float64"
      ]
     },
     "execution_count": 293,
     "metadata": {},
     "output_type": "execute_result"
    }
   ],
   "source": [
    "consumption_city"
   ]
  },
  {
   "cell_type": "code",
   "execution_count": 294,
   "metadata": {},
   "outputs": [
    {
     "data": {
      "text/plain": [
       "array(['3.5 l/100 km (country)', '4.7 l/100 km (country)',\n",
       "       '3.4 l/100 km (country)', '3.8 l/100 km (country)',\n",
       "       '3.1 l/100 km (country)', nan, '3.6 l/100 km (country)',\n",
       "       '4.2 l/100 km (country)', '3.7 l/100 km (country)',\n",
       "       '3.9 l/100 km (country)', '3.3 l/100 km (country)',\n",
       "       '3 l/100 km (country)', '\\n', '4.4 l/100 km (country)',\n",
       "       '4 l/100 km (country)', '4.3 l/100 km (country)',\n",
       "       '4.9 l/100 km (country)', '4.1 l/100 km (country)',\n",
       "       '4.5 l/100 km (country)', '3.2 l/100 km (country)',\n",
       "       '10.3 l/100 km (country)', '5.1 l/100 km (country)',\n",
       "       '6.7 l/100 km (country)', '6.3 l/100 km (country)',\n",
       "       '4.8 l/100 km (country)', '44 l/100 km (country)',\n",
       "       '5.4 l/100 km (country)', '4.6 l/100 km (country)',\n",
       "       '4.6 kg/100 km (country)', '2.9 kg/100 km (country)',\n",
       "       '2.8 kg/100 km (country)', '5.6 l/100 km (country)',\n",
       "       '6.6 l/100 km (country)', '6 l/100 km (country)',\n",
       "       '6.5 l/100 km (country)', '4.5 kg/100 km (country)',\n",
       "       '37 l/100 km (country)', '2.9 l/100 km (country)',\n",
       "       '35 l/100 km (country)', '7 l/100 km (country)',\n",
       "       '5.3 l/100 km (country)', '6.9 kg/100 km (country)',\n",
       "       '4.7 kg/100 km (country)', '0 l/100 km (country)',\n",
       "       '5.7 l/100 km (country)', '5.8 l/100 km (country)',\n",
       "       '5.5 l/100 km (country)', '5.2 l/100 km (country)',\n",
       "       '5 l/100 km (country)', '6.4 l/100 km (country)',\n",
       "       '3 kg/100 km (country)', '7.3 l/100 km (country)',\n",
       "       '5.9 l/100 km (country)', '2 l/100 km (country)',\n",
       "       '8 l/100 km (country)', '8.6 l/100 km (country)',\n",
       "       '7.8 l/100 km (country)', '6.1 l/100 km (country)',\n",
       "       '6.9 l/100 km (country)', '7.1 l/100 km (country)',\n",
       "       '7.6 l/100 km (country)', '7.7 l/100 km (country)',\n",
       "       '42 l/100 km (country)', '10 l/100 km (country)',\n",
       "       '1 l/100 km (country)'], dtype=object)"
      ]
     },
     "execution_count": 294,
     "metadata": {},
     "output_type": "execute_result"
    }
   ],
   "source": [
    "df[\"consumption\"].str[-1].str[0].unique() #diger elamana ulastim, country'e"
   ]
  },
  {
   "cell_type": "code",
   "execution_count": 295,
   "metadata": {},
   "outputs": [
    {
     "data": {
      "text/plain": [
       "NaN                        2362\n",
       "4.2 l/100 km (country)     1101\n",
       "3.7 l/100 km (country)     1059\n",
       "\\n                          850\n",
       "4.4 l/100 km (country)      829\n",
       "                           ... \n",
       "6.9 l/100 km (country)        1\n",
       "7.6 l/100 km (country)        1\n",
       "3 kg/100 km (country)         1\n",
       "2 l/100 km (country)          1\n",
       "4.5 kg/100 km (country)       1\n",
       "Name: consumption, Length: 65, dtype: int64"
      ]
     },
     "execution_count": 295,
     "metadata": {},
     "output_type": "execute_result"
    }
   ],
   "source": [
    "df['consumption'].str[-1].str[0].value_counts(dropna = False) #deegrleri saydirdim"
   ]
  },
  {
   "cell_type": "code",
   "execution_count": 296,
   "metadata": {},
   "outputs": [
    {
     "data": {
      "text/plain": [
       "NaN    3212\n",
       "4.2    1101\n",
       "3.7    1059\n",
       "4.4     829\n",
       "4.5     789\n",
       "3.8     775\n",
       "3.9     759\n",
       "4.1     569\n",
       "4.7     562\n",
       "4       560\n",
       "3.5     525\n",
       "4.3     496\n",
       "3.6     486\n",
       "3.1     481\n",
       "3.3     456\n",
       "4.6     446\n",
       "4.9     410\n",
       "3.4     353\n",
       "4.8     289\n",
       "5.3     227\n",
       "5.1     215\n",
       "5.7     191\n",
       "5.4     190\n",
       "3.2     180\n",
       "3       146\n",
       "5.6     131\n",
       "5       106\n",
       "5.2      84\n",
       "6.3      49\n",
       "6        35\n",
       "1        34\n",
       "5.8      30\n",
       "5.5      30\n",
       "7.7      20\n",
       "6.6      19\n",
       "2.9      16\n",
       "6.4      15\n",
       "0         9\n",
       "2.8       9\n",
       "7.3       4\n",
       "6.5       4\n",
       "7.1       3\n",
       "7.8       2\n",
       "6.9       2\n",
       "7         2\n",
       "6.7       2\n",
       "5.9       2\n",
       "8.6       1\n",
       "2         1\n",
       "7.6       1\n",
       "6.1       1\n",
       "8         1\n",
       "Name: 0, dtype: int64"
      ]
     },
     "execution_count": 296,
     "metadata": {},
     "output_type": "execute_result"
    }
   ],
   "source": [
    "df['consumption'].str[-1].str[0].str.extract('(\\d.\\d|\\d)')[0].value_counts(dropna = False) #patern girip baktim"
   ]
  },
  {
   "cell_type": "code",
   "execution_count": 297,
   "metadata": {},
   "outputs": [],
   "source": [
    "consumption_country = df['consumption'].str[-1].str[0].str.extract('(\\d.\\d|\\d)') # bunu consumption_country'e atadim"
   ]
  },
  {
   "cell_type": "code",
   "execution_count": 298,
   "metadata": {},
   "outputs": [],
   "source": [
    "consumption_country = pd.to_numeric(consumption_country[0]) #numerik'e dönüstürdüm"
   ]
  },
  {
   "cell_type": "code",
   "execution_count": 299,
   "metadata": {},
   "outputs": [
    {
     "data": {
      "text/plain": [
       "0        3.5\n",
       "1        4.7\n",
       "2        3.4\n",
       "3        3.5\n",
       "4        3.8\n",
       "        ... \n",
       "15914    4.7\n",
       "15915    NaN\n",
       "15916    4.7\n",
       "15917    4.7\n",
       "15918    5.7\n",
       "Name: 0, Length: 15919, dtype: float64"
      ]
     },
     "execution_count": 299,
     "metadata": {},
     "output_type": "execute_result"
    }
   ],
   "source": [
    "consumption_country"
   ]
  },
  {
   "cell_type": "code",
   "execution_count": 300,
   "metadata": {},
   "outputs": [],
   "source": [
    "consumption2 = (consumption_city + consumption_country) / 2 #consumption2'yi city ve country'nin ortalamasi olarak hesapladim"
   ]
  },
  {
   "cell_type": "code",
   "execution_count": 301,
   "metadata": {},
   "outputs": [
    {
     "data": {
      "text/plain": [
       "NaN     3283\n",
       "3.90     610\n",
       "5.65     498\n",
       "4.75     497\n",
       "4.10     439\n",
       "        ... \n",
       "7.85       1\n",
       "7.25       1\n",
       "7.70       1\n",
       "1.50       1\n",
       "3.35       1\n",
       "Name: 0, Length: 139, dtype: int64"
      ]
     },
     "execution_count": 301,
     "metadata": {},
     "output_type": "execute_result"
    }
   ],
   "source": [
    "consumption2.value_counts(dropna = False) #degerleri saydirdim"
   ]
  },
  {
   "cell_type": "code",
   "execution_count": 302,
   "metadata": {},
   "outputs": [
    {
     "data": {
      "text/plain": [
       "NaN     1925\n",
       "5.4      770\n",
       "3.9      733\n",
       "4        717\n",
       "5.1      657\n",
       "        ... \n",
       "9.1        1\n",
       "1.2        1\n",
       "7.5        1\n",
       "4.5        1\n",
       "4.55       1\n",
       "Name: consumption_comb, Length: 70, dtype: int64"
      ]
     },
     "execution_count": 302,
     "metadata": {},
     "output_type": "execute_result"
    }
   ],
   "source": [
    "df.consumption_comb.fillna(consumption2).value_counts(dropna = False) #consumption_comb'daki NaN verileri, consumption2 ile doldursam ne olur diye baktim"
   ]
  },
  {
   "cell_type": "code",
   "execution_count": 303,
   "metadata": {},
   "outputs": [],
   "source": [
    "df.consumption_comb.fillna(consumption2, inplace = True) #doldurdum"
   ]
  },
  {
   "cell_type": "markdown",
   "metadata": {},
   "source": [
    "## co2_emission"
   ]
  },
  {
   "cell_type": "code",
   "execution_count": 304,
   "metadata": {},
   "outputs": [
    {
     "ename": "TypeError",
     "evalue": "unhashable type: 'list'",
     "output_type": "error",
     "traceback": [
      "\u001b[1;31m---------------------------------------------------------------------------\u001b[0m",
      "\u001b[1;31mTypeError\u001b[0m                                 Traceback (most recent call last)",
      "\u001b[1;32mpandas\\_libs\\hashtable_class_helper.pxi\u001b[0m in \u001b[0;36mpandas._libs.hashtable.PyObjectHashTable.map_locations\u001b[1;34m()\u001b[0m\n",
      "\u001b[1;31mTypeError\u001b[0m: unhashable type: 'list'"
     ]
    },
    {
     "name": "stderr",
     "output_type": "stream",
     "text": [
      "Exception ignored in: 'pandas._libs.index.IndexEngine._call_map_locations'\n",
      "Traceback (most recent call last):\n",
      "  File \"pandas\\_libs\\hashtable_class_helper.pxi\", line 4588, in pandas._libs.hashtable.PyObjectHashTable.map_locations\n",
      "TypeError: unhashable type: 'list'\n"
     ]
    },
    {
     "data": {
      "text/plain": [
       "NaN                             1808\n",
       "[\\n120 g CO2/km (comb)\\n]        740\n",
       "[[], [], []]                     628\n",
       "[\\n99 g CO2/km (comb)\\n]         545\n",
       "[\\n97 g CO2/km (comb)\\n]         537\n",
       "                                ... \n",
       "[\\n990 g CO2/km (comb)\\n]          1\n",
       "[\\n51 g CO2/km (comb)\\n]           1\n",
       "[\\n14,457 g CO2/km (comb)\\n]       1\n",
       "[\\n193 g CO2/km (comb)\\n]          1\n",
       "[\\n253 g CO2/km (comb)\\n]          1\n",
       "Name: co2_emission, Length: 124, dtype: int64"
      ]
     },
     "execution_count": 304,
     "metadata": {},
     "output_type": "execute_result"
    }
   ],
   "source": [
    "df[\"co2_emission\"].value_counts(dropna=False)"
   ]
  },
  {
   "cell_type": "code",
   "execution_count": 305,
   "metadata": {},
   "outputs": [
    {
     "ename": "TypeError",
     "evalue": "unhashable type: 'list'",
     "output_type": "error",
     "traceback": [
      "\u001b[1;31m---------------------------------------------------------------------------\u001b[0m",
      "\u001b[1;31mTypeError\u001b[0m                                 Traceback (most recent call last)",
      "\u001b[1;32mpandas\\_libs\\hashtable_class_helper.pxi\u001b[0m in \u001b[0;36mpandas._libs.hashtable.PyObjectHashTable.map_locations\u001b[1;34m()\u001b[0m\n",
      "\u001b[1;31mTypeError\u001b[0m: unhashable type: 'list'"
     ]
    },
    {
     "name": "stderr",
     "output_type": "stream",
     "text": [
      "Exception ignored in: 'pandas._libs.index.IndexEngine._call_map_locations'\n",
      "Traceback (most recent call last):\n",
      "  File \"pandas\\_libs\\hashtable_class_helper.pxi\", line 4588, in pandas._libs.hashtable.PyObjectHashTable.map_locations\n",
      "TypeError: unhashable type: 'list'\n"
     ]
    },
    {
     "data": {
      "text/plain": [
       "NaN                           1808\n",
       "\\n120 g CO2/km (comb)\\n        740\n",
       "[]                             628\n",
       "\\n99 g CO2/km (comb)\\n         545\n",
       "\\n97 g CO2/km (comb)\\n         537\n",
       "                              ... \n",
       "\\n165 g CO2/km (comb)\\n          1\n",
       "\\n253 g CO2/km (comb)\\n          1\n",
       "\\n13,983 g CO2/km (comb)\\n       1\n",
       "\\n181 g CO2/km (comb)\\n          1\n",
       "\\n184 g CO2/km (comb)\\n          1\n",
       "Name: co2_emission, Length: 124, dtype: int64"
      ]
     },
     "execution_count": 305,
     "metadata": {},
     "output_type": "execute_result"
    }
   ],
   "source": [
    "df[\"co2_emission\"].str[0].value_counts(dropna = False)"
   ]
  },
  {
   "cell_type": "code",
   "execution_count": 306,
   "metadata": {},
   "outputs": [
    {
     "data": {
      "text/plain": [
       "87 g CO2/km (comb)          6\n",
       "193 g CO2/km (comb)         1\n",
       "239 g CO2/km (comb)         1\n",
       "95 g CO2/km (comb)        161\n",
       "13,983 g CO2/km (comb)      1\n",
       "Name: co2_emission, dtype: int64"
      ]
     },
     "execution_count": 306,
     "metadata": {},
     "output_type": "execute_result"
    }
   ],
   "source": [
    "df['co2_emission'].str[0].str.strip('\\n').value_counts(dropna = False).sample(5)"
   ]
  },
  {
   "cell_type": "code",
   "execution_count": 307,
   "metadata": {},
   "outputs": [
    {
     "data": {
      "text/plain": [
       "118 g CO2/km (comb)     270\n",
       "170 g CO2/km (comb)      10\n",
       "100 g CO2/km (comb)      36\n",
       "NaN                    2436\n",
       "123 g CO2/km (comb)     178\n",
       "Name: co2_emission, dtype: int64"
      ]
     },
     "execution_count": 307,
     "metadata": {},
     "output_type": "execute_result"
    }
   ],
   "source": [
    "df[\"co2_emission\"].str[0].str.strip(\"\\n\").str.replace(\",\", \"\").value_counts(dropna = False).sample(5)"
   ]
  },
  {
   "cell_type": "code",
   "execution_count": 308,
   "metadata": {},
   "outputs": [],
   "source": [
    "pattern = \"(\\d\\d\\d\\d\\d|\\d\\d\\d\\d|\\d\\d\\d|\\d\\d|\\d)\"\n",
    "df[\"co2_emission\"]= df['co2_emission'].str[0].str.strip('\\n').str.replace(\",\", \"\").str.extract(pattern)[0]"
   ]
  },
  {
   "cell_type": "code",
   "execution_count": 309,
   "metadata": {},
   "outputs": [
    {
     "data": {
      "text/plain": [
       "NaN    2436\n",
       "120     740\n",
       "99      545\n",
       "97      537\n",
       "104     501\n",
       "       ... \n",
       "177       1\n",
       "80        1\n",
       "184       1\n",
       "45        1\n",
       "180       1\n",
       "Name: co2_emission, Length: 123, dtype: int64"
      ]
     },
     "execution_count": 309,
     "metadata": {},
     "output_type": "execute_result"
    }
   ],
   "source": [
    "df[\"co2_emission\"].value_counts(dropna = False)"
   ]
  },
  {
   "cell_type": "markdown",
   "metadata": {},
   "source": [
    "## emission_class"
   ]
  },
  {
   "cell_type": "code",
   "execution_count": 310,
   "metadata": {},
   "outputs": [
    {
     "ename": "TypeError",
     "evalue": "unhashable type: 'list'",
     "output_type": "error",
     "traceback": [
      "\u001b[1;31m---------------------------------------------------------------------------\u001b[0m",
      "\u001b[1;31mTypeError\u001b[0m                                 Traceback (most recent call last)",
      "\u001b[1;32mpandas\\_libs\\hashtable_class_helper.pxi\u001b[0m in \u001b[0;36mpandas._libs.hashtable.PyObjectHashTable.map_locations\u001b[1;34m()\u001b[0m\n",
      "\u001b[1;31mTypeError\u001b[0m: unhashable type: 'list'"
     ]
    },
    {
     "name": "stderr",
     "output_type": "stream",
     "text": [
      "Exception ignored in: 'pandas._libs.index.IndexEngine._call_map_locations'\n",
      "Traceback (most recent call last):\n",
      "  File \"pandas\\_libs\\hashtable_class_helper.pxi\", line 4588, in pandas._libs.hashtable.PyObjectHashTable.map_locations\n",
      "TypeError: unhashable type: 'list'\n"
     ]
    },
    {
     "data": {
      "text/plain": [
       "[\\nEuro 6\\n]          10139\n",
       "NaN                    3021\n",
       "[\\nEuro 6d-TEMP\\n]     1845\n",
       "[[], [], []]            607\n",
       "[\\nEuro 6c\\n]           127\n",
       "[\\nEuro 5\\n]             78\n",
       "[\\nEuro 6d\\n]            62\n",
       "[\\nEuro 4\\n]             40\n",
       "Name: emission_class, dtype: int64"
      ]
     },
     "execution_count": 310,
     "metadata": {},
     "output_type": "execute_result"
    }
   ],
   "source": [
    "df[\"emission_class\"].value_counts(dropna=False)"
   ]
  },
  {
   "cell_type": "code",
   "execution_count": 311,
   "metadata": {},
   "outputs": [
    {
     "data": {
      "text/plain": [
       "Euro 6          10139\n",
       "NaN              3628\n",
       "Euro 6d-TEMP     1845\n",
       "Euro 6c           127\n",
       "Euro 5             78\n",
       "Euro 6d            62\n",
       "Euro 4             40\n",
       "Name: emission_class, dtype: int64"
      ]
     },
     "execution_count": 311,
     "metadata": {},
     "output_type": "execute_result"
    }
   ],
   "source": [
    "df['emission_class'].str[0].str.strip('\\n').value_counts(dropna=False)"
   ]
  },
  {
   "cell_type": "code",
   "execution_count": 312,
   "metadata": {},
   "outputs": [],
   "source": [
    "df['emission_class'] = df['emission_class'].str[0].str.strip('\\n')"
   ]
  },
  {
   "cell_type": "code",
   "execution_count": 313,
   "metadata": {},
   "outputs": [],
   "source": [
    "df.replace({\"emission_class\" : {\"Euro 6d-TEMP\":\"Euro 6\", \"Euro 6c\":\"Euro 6\", \"Euro 6d\":\"Euro 6\"}}, regex = True, inplace = True)"
   ]
  },
  {
   "cell_type": "code",
   "execution_count": 314,
   "metadata": {},
   "outputs": [
    {
     "data": {
      "text/plain": [
       "Euro 6    12173\n",
       "NaN        3628\n",
       "Euro 5       78\n",
       "Euro 4       40\n",
       "Name: emission_class, dtype: int64"
      ]
     },
     "execution_count": 314,
     "metadata": {},
     "output_type": "execute_result"
    }
   ],
   "source": [
    "df.emission_class.value_counts(dropna=False)"
   ]
  },
  {
   "cell_type": "markdown",
   "metadata": {},
   "source": [
    "## comfort_convenience"
   ]
  },
  {
   "cell_type": "markdown",
   "metadata": {},
   "source": [
    "## entertainment_media"
   ]
  },
  {
   "cell_type": "markdown",
   "metadata": {},
   "source": [
    "## extras"
   ]
  },
  {
   "cell_type": "markdown",
   "metadata": {},
   "source": [
    "## safety_security"
   ]
  },
  {
   "cell_type": "markdown",
   "metadata": {},
   "source": [
    "## description"
   ]
  },
  {
   "cell_type": "markdown",
   "metadata": {},
   "source": [
    "## emission_label"
   ]
  },
  {
   "cell_type": "code",
   "execution_count": 315,
   "metadata": {},
   "outputs": [
    {
     "ename": "TypeError",
     "evalue": "unhashable type: 'list'",
     "output_type": "error",
     "traceback": [
      "\u001b[1;31m---------------------------------------------------------------------------\u001b[0m",
      "\u001b[1;31mTypeError\u001b[0m                                 Traceback (most recent call last)",
      "\u001b[1;32mpandas\\_libs\\hashtable_class_helper.pxi\u001b[0m in \u001b[0;36mpandas._libs.hashtable.PyObjectHashTable.map_locations\u001b[1;34m()\u001b[0m\n",
      "\u001b[1;31mTypeError\u001b[0m: unhashable type: 'list'"
     ]
    },
    {
     "name": "stderr",
     "output_type": "stream",
     "text": [
      "Exception ignored in: 'pandas._libs.index.IndexEngine._call_map_locations'\n",
      "Traceback (most recent call last):\n",
      "  File \"pandas\\_libs\\hashtable_class_helper.pxi\", line 4588, in pandas._libs.hashtable.PyObjectHashTable.map_locations\n",
      "TypeError: unhashable type: 'list'\n"
     ]
    },
    {
     "data": {
      "text/plain": [
       "NaN                     11934\n",
       "[\\n4 (Green)\\n]          3553\n",
       "[\\n1 (No sticker)\\n]      381\n",
       "[[], [], []]               40\n",
       "[\\n5 (Blue)\\n]              8\n",
       "[\\n3 (Yellow)\\n]            2\n",
       "[\\n2 (Red)\\n]               1\n",
       "Name: emission_label, dtype: int64"
      ]
     },
     "execution_count": 315,
     "metadata": {},
     "output_type": "execute_result"
    }
   ],
   "source": [
    "df[\"emission_label\"].value_counts(dropna=False)"
   ]
  },
  {
   "cell_type": "code",
   "execution_count": 316,
   "metadata": {},
   "outputs": [
    {
     "data": {
      "text/plain": [
       "NaN               11974\n",
       "4 (Green)          3553\n",
       "1 (No sticker)      381\n",
       "5 (Blue)              8\n",
       "3 (Yellow)            2\n",
       "2 (Red)               1\n",
       "Name: emission_label, dtype: int64"
      ]
     },
     "execution_count": 316,
     "metadata": {},
     "output_type": "execute_result"
    }
   ],
   "source": [
    "df['emission_label'].str[0].str.strip('\\n').value_counts(dropna=False) "
   ]
  },
  {
   "cell_type": "code",
   "execution_count": 317,
   "metadata": {},
   "outputs": [],
   "source": [
    "df.drop(\"emission_label\", axis=1, inplace=True) # çok nan değer içerdiğinden drop ediyoruz"
   ]
  },
  {
   "cell_type": "markdown",
   "metadata": {},
   "source": [
    "## gears"
   ]
  },
  {
   "cell_type": "code",
   "execution_count": 318,
   "metadata": {},
   "outputs": [
    {
     "ename": "TypeError",
     "evalue": "unhashable type: 'list'",
     "output_type": "error",
     "traceback": [
      "\u001b[1;31m---------------------------------------------------------------------------\u001b[0m",
      "\u001b[1;31mTypeError\u001b[0m                                 Traceback (most recent call last)",
      "\u001b[1;32mpandas\\_libs\\hashtable_class_helper.pxi\u001b[0m in \u001b[0;36mpandas._libs.hashtable.PyObjectHashTable.map_locations\u001b[1;34m()\u001b[0m\n",
      "\u001b[1;31mTypeError\u001b[0m: unhashable type: 'list'"
     ]
    },
    {
     "name": "stderr",
     "output_type": "stream",
     "text": [
      "Exception ignored in: 'pandas._libs.index.IndexEngine._call_map_locations'\n",
      "Traceback (most recent call last):\n",
      "  File \"pandas\\_libs\\hashtable_class_helper.pxi\", line 4588, in pandas._libs.hashtable.PyObjectHashTable.map_locations\n",
      "TypeError: unhashable type: 'list'\n"
     ]
    },
    {
     "data": {
      "text/plain": [
       "[\\n6\\n]     5822\n",
       "NaN         4712\n",
       "[\\n5\\n]     3239\n",
       "[\\n7\\n]     1908\n",
       "[\\n8\\n]      224\n",
       "[\\n9\\n]        6\n",
       "[\\n4\\n]        2\n",
       "[\\n3\\n]        2\n",
       "[\\n1\\n]        2\n",
       "[\\n50\\n]       1\n",
       "[\\n2\\n]        1\n",
       "Name: gears, dtype: int64"
      ]
     },
     "execution_count": 318,
     "metadata": {},
     "output_type": "execute_result"
    }
   ],
   "source": [
    "df[\"gears\"].value_counts(dropna=False)"
   ]
  },
  {
   "cell_type": "code",
   "execution_count": 319,
   "metadata": {},
   "outputs": [],
   "source": [
    "df[\"gears\"] = df.gears.str[0].str.strip('\\n')"
   ]
  },
  {
   "cell_type": "code",
   "execution_count": 320,
   "metadata": {},
   "outputs": [
    {
     "data": {
      "text/plain": [
       "6      5822\n",
       "NaN    4712\n",
       "5      3239\n",
       "7      1908\n",
       "8       224\n",
       "9         6\n",
       "3         2\n",
       "4         2\n",
       "1         2\n",
       "50        1\n",
       "2         1\n",
       "Name: gears, dtype: int64"
      ]
     },
     "execution_count": 320,
     "metadata": {},
     "output_type": "execute_result"
    }
   ],
   "source": [
    "df[\"gears\"].value_counts(dropna=False) # 50'YE  5 YAZ , NANLARA OTOMATİK OLARAK DEĞERLENDİR 0 OLARAK KODLA . ONUN ÜZERİNDEN ANALİZİ YAP."
   ]
  },
  {
   "cell_type": "code",
   "execution_count": 321,
   "metadata": {},
   "outputs": [
    {
     "data": {
      "text/html": [
       "<div>\n",
       "<style scoped>\n",
       "    .dataframe tbody tr th:only-of-type {\n",
       "        vertical-align: middle;\n",
       "    }\n",
       "\n",
       "    .dataframe tbody tr th {\n",
       "        vertical-align: top;\n",
       "    }\n",
       "\n",
       "    .dataframe thead th {\n",
       "        text-align: right;\n",
       "    }\n",
       "</style>\n",
       "<table border=\"1\" class=\"dataframe\">\n",
       "  <thead>\n",
       "    <tr style=\"text-align: right;\">\n",
       "      <th></th>\n",
       "      <th>make_model</th>\n",
       "      <th>price</th>\n",
       "      <th>vat</th>\n",
       "      <th>km</th>\n",
       "      <th>registration</th>\n",
       "      <th>prev_owner</th>\n",
       "      <th>hp</th>\n",
       "      <th>type</th>\n",
       "      <th>previous_owners</th>\n",
       "      <th>make</th>\n",
       "      <th>...</th>\n",
       "      <th>last_timing_belt_service_date</th>\n",
       "      <th>available_from</th>\n",
       "      <th>dm_first_reg</th>\n",
       "      <th>dm_km</th>\n",
       "      <th>dm_registration</th>\n",
       "      <th>dm_body_color</th>\n",
       "      <th>dm_paint_type</th>\n",
       "      <th>dm_upholstery</th>\n",
       "      <th>weight_kg</th>\n",
       "      <th>consumption_comb</th>\n",
       "    </tr>\n",
       "  </thead>\n",
       "  <tbody>\n",
       "    <tr>\n",
       "      <th>14495</th>\n",
       "      <td>Renault Clio</td>\n",
       "      <td>10798</td>\n",
       "      <td>VAT deductible</td>\n",
       "      <td>10 km</td>\n",
       "      <td>01/2019</td>\n",
       "      <td>1 previous owner</td>\n",
       "      <td>56</td>\n",
       "      <td>[, Pre-registered, , Super 95]</td>\n",
       "      <td>\\n1\\n</td>\n",
       "      <td>\\nRenault\\n</td>\n",
       "      <td>...</td>\n",
       "      <td>NaN</td>\n",
       "      <td>NaN</td>\n",
       "      <td>2019.0</td>\n",
       "      <td>10.0</td>\n",
       "      <td>2019.0</td>\n",
       "      <td>Black</td>\n",
       "      <td>Metallic</td>\n",
       "      <td>Cloth</td>\n",
       "      <td>1165.0</td>\n",
       "      <td>5.2</td>\n",
       "    </tr>\n",
       "  </tbody>\n",
       "</table>\n",
       "<p>1 rows × 48 columns</p>\n",
       "</div>"
      ],
      "text/plain": [
       "         make_model  price             vat     km registration  \\\n",
       "14495  Renault Clio  10798  VAT deductible  10 km      01/2019   \n",
       "\n",
       "             prev_owner  hp                            type previous_owners  \\\n",
       "14495  1 previous owner  56  [, Pre-registered, , Super 95]           \\n1\\n   \n",
       "\n",
       "              make  ... last_timing_belt_service_date available_from  \\\n",
       "14495  \\nRenault\\n  ...                           NaN            NaN   \n",
       "\n",
       "      dm_first_reg dm_km dm_registration dm_body_color dm_paint_type  \\\n",
       "14495       2019.0  10.0          2019.0         Black      Metallic   \n",
       "\n",
       "      dm_upholstery weight_kg consumption_comb  \n",
       "14495         Cloth    1165.0              5.2  \n",
       "\n",
       "[1 rows x 48 columns]"
      ]
     },
     "execution_count": 321,
     "metadata": {},
     "output_type": "execute_result"
    }
   ],
   "source": [
    "df[df[\"gears\"] == \"50\"]"
   ]
  },
  {
   "cell_type": "code",
   "execution_count": 322,
   "metadata": {},
   "outputs": [
    {
     "name": "stderr",
     "output_type": "stream",
     "text": [
      "C:\\Users\\W-10\\anaconda3\\lib\\site-packages\\pandas\\core\\indexing.py:1637: SettingWithCopyWarning: \n",
      "A value is trying to be set on a copy of a slice from a DataFrame\n",
      "\n",
      "See the caveats in the documentation: https://pandas.pydata.org/pandas-docs/stable/user_guide/indexing.html#returning-a-view-versus-a-copy\n",
      "  self._setitem_single_block(indexer, value, name)\n"
     ]
    }
   ],
   "source": [
    "df.gears.iloc[14495] = \"5\""
   ]
  },
  {
   "cell_type": "code",
   "execution_count": 323,
   "metadata": {},
   "outputs": [
    {
     "data": {
      "text/plain": [
       "6      5822\n",
       "NaN    4712\n",
       "5      3240\n",
       "7      1908\n",
       "8       224\n",
       "9         6\n",
       "3         2\n",
       "4         2\n",
       "1         2\n",
       "2         1\n",
       "Name: gears, dtype: int64"
      ]
     },
     "execution_count": 323,
     "metadata": {},
     "output_type": "execute_result"
    }
   ],
   "source": [
    "df.gears.value_counts(dropna = False)"
   ]
  },
  {
   "cell_type": "code",
   "execution_count": null,
   "metadata": {},
   "outputs": [],
   "source": [
    "## country version "
   ]
  },
  {
   "cell_type": "code",
   "execution_count": 327,
   "metadata": {},
   "outputs": [
    {
     "ename": "TypeError",
     "evalue": "unhashable type: 'list'",
     "output_type": "error",
     "traceback": [
      "\u001b[1;31m---------------------------------------------------------------------------\u001b[0m",
      "\u001b[1;31mTypeError\u001b[0m                                 Traceback (most recent call last)",
      "\u001b[1;32mpandas\\_libs\\hashtable_class_helper.pxi\u001b[0m in \u001b[0;36mpandas._libs.hashtable.PyObjectHashTable.map_locations\u001b[1;34m()\u001b[0m\n",
      "\u001b[1;31mTypeError\u001b[0m: unhashable type: 'list'"
     ]
    },
    {
     "name": "stderr",
     "output_type": "stream",
     "text": [
      "Exception ignored in: 'pandas._libs.index.IndexEngine._call_map_locations'\n",
      "Traceback (most recent call last):\n",
      "  File \"pandas\\_libs\\hashtable_class_helper.pxi\", line 4588, in pandas._libs.hashtable.PyObjectHashTable.map_locations\n",
      "TypeError: unhashable type: 'list'\n"
     ]
    },
    {
     "data": {
      "text/plain": [
       "NaN                     8333\n",
       "[\\nGermany\\n]           4502\n",
       "[\\nItaly\\n]             1038\n",
       "[\\nEuropean Union\\n]     507\n",
       "[\\nNetherlands\\n]        464\n",
       "[\\nSpain\\n]              325\n",
       "[\\nBelgium\\n]            314\n",
       "[\\nAustria\\n]            208\n",
       "[\\nCzech Republic\\n]      52\n",
       "[\\nPoland\\n]              49\n",
       "[\\nFrance\\n]              38\n",
       "[\\nDenmark\\n]             33\n",
       "[\\nHungary\\n]             28\n",
       "[\\nJapan\\n]                8\n",
       "[\\nSlovakia\\n]             4\n",
       "[\\nCroatia\\n]              4\n",
       "[\\nSweden\\n]               3\n",
       "[\\nBulgaria\\n]             2\n",
       "[\\nRomania\\n]              2\n",
       "[\\nEgypt\\n]                1\n",
       "[\\nSerbia\\n]               1\n",
       "[\\nLuxembourg\\n]           1\n",
       "[\\nSwitzerland\\n]          1\n",
       "[\\nSlovenia\\n]             1\n",
       "Name: country version, dtype: int64"
      ]
     },
     "execution_count": 327,
     "metadata": {},
     "output_type": "execute_result"
    }
   ],
   "source": [
    "df[\"country version\"].value_counts(dropna=False)"
   ]
  },
  {
   "cell_type": "code",
   "execution_count": 325,
   "metadata": {},
   "outputs": [
    {
     "data": {
      "text/plain": [
       "NaN               8333\n",
       "Germany           4502\n",
       "Italy             1038\n",
       "European Union     507\n",
       "Netherlands        464\n",
       "Spain              325\n",
       "Belgium            314\n",
       "Austria            208\n",
       "Czech Republic      52\n",
       "Poland              49\n",
       "France              38\n",
       "Denmark             33\n",
       "Hungary             28\n",
       "Japan                8\n",
       "Slovakia             4\n",
       "Croatia              4\n",
       "Sweden               3\n",
       "Bulgaria             2\n",
       "Romania              2\n",
       "Switzerland          1\n",
       "Slovenia             1\n",
       "Serbia               1\n",
       "Luxembourg           1\n",
       "Egypt                1\n",
       "Name: country version, dtype: int64"
      ]
     },
     "execution_count": 325,
     "metadata": {},
     "output_type": "execute_result"
    }
   ],
   "source": [
    "df['country version'].str[0].str.strip('\\n').value_counts(dropna=False) "
   ]
  },
  {
   "cell_type": "code",
   "execution_count": 328,
   "metadata": {},
   "outputs": [],
   "source": [
    "#df.drop(\"country version\", axis=1, inplace=True)"
   ]
  },
  {
   "cell_type": "markdown",
   "metadata": {},
   "source": [
    "## electricity_consumption "
   ]
  },
  {
   "cell_type": "markdown",
   "metadata": {},
   "source": [
    "## last_service_date"
   ]
  },
  {
   "cell_type": "markdown",
   "metadata": {},
   "source": [
    "## other_fuel_type"
   ]
  },
  {
   "cell_type": "markdown",
   "metadata": {},
   "source": [
    "## availability"
   ]
  },
  {
   "cell_type": "markdown",
   "metadata": {},
   "source": [
    "## last_timing_belt_service_date"
   ]
  },
  {
   "cell_type": "markdown",
   "metadata": {},
   "source": [
    "## available_from "
   ]
  },
  {
   "cell_type": "code",
   "execution_count": null,
   "metadata": {},
   "outputs": [],
   "source": []
  },
  {
   "cell_type": "code",
   "execution_count": null,
   "metadata": {},
   "outputs": [],
   "source": []
  },
  {
   "cell_type": "code",
   "execution_count": null,
   "metadata": {},
   "outputs": [],
   "source": []
  },
  {
   "cell_type": "code",
   "execution_count": null,
   "metadata": {},
   "outputs": [],
   "source": []
  },
  {
   "cell_type": "code",
   "execution_count": null,
   "metadata": {},
   "outputs": [],
   "source": []
  },
  {
   "cell_type": "code",
   "execution_count": null,
   "metadata": {},
   "outputs": [],
   "source": []
  },
  {
   "cell_type": "code",
   "execution_count": null,
   "metadata": {},
   "outputs": [],
   "source": []
  },
  {
   "cell_type": "code",
   "execution_count": null,
   "metadata": {},
   "outputs": [],
   "source": []
  },
  {
   "cell_type": "code",
   "execution_count": null,
   "metadata": {},
   "outputs": [],
   "source": []
  },
  {
   "cell_type": "markdown",
   "metadata": {},
   "source": [
    "## Import Libraries and Data"
   ]
  },
  {
   "cell_type": "code",
   "execution_count": null,
   "metadata": {},
   "outputs": [],
   "source": [
    "df_dummied.to_csv(\"final_scout_dummy.csv\", index=False)"
   ]
  },
  {
   "cell_type": "code",
   "execution_count": null,
   "metadata": {},
   "outputs": [],
   "source": [
    "df.to_csv(\"final_scout_not_dummy.csv\", index=False)"
   ]
  }
 ],
 "metadata": {
  "kernelspec": {
   "display_name": "Python 3",
   "language": "python",
   "name": "python3"
  },
  "language_info": {
   "codemirror_mode": {
    "name": "ipython",
    "version": 3
   },
   "file_extension": ".py",
   "mimetype": "text/x-python",
   "name": "python",
   "nbconvert_exporter": "python",
   "pygments_lexer": "ipython3",
   "version": "3.8.8"
  }
 },
 "nbformat": 4,
 "nbformat_minor": 4
}
