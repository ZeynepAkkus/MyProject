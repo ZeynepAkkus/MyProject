{
 "cells": [
  {
   "cell_type": "code",
   "execution_count": 1,
   "id": "453bfa7c",
   "metadata": {},
   "outputs": [],
   "source": [
    "import numpy as np\n",
    "from scipy import stats\n",
    "import matplotlib.pyplot as plt"
   ]
  },
  {
   "cell_type": "markdown",
   "id": "ab75ae64",
   "metadata": {},
   "source": [
    "A salesperson has found that the probability of a sale on a single contact is approximately .3. If the salesperson contacts 10 prospects, what is the approximate probability of making at least one sale? (Wackerly, Ex.3.135)\n",
    "\n",
    "Bir satış elemanı, tek bir temasta satış olasılığının yaklaşık olarak .3 olduğunu bulmuştur. Satış elemanı 10 potansiyel müşteriyle iletişime geçerse, en az bir satış yapma olasılığı yaklaşık nedir?"
   ]
  },
  {
   "cell_type": "code",
   "execution_count": 3,
   "id": "3af8ee70",
   "metadata": {},
   "outputs": [],
   "source": [
    "#tek temasta satış olasılığı \n",
    "p=0.3\n",
    "#Örnek boyutu \n",
    "n=10\n",
    "#satış yapma ihtimali \n",
    "x=0"
   ]
  },
  {
   "cell_type": "code",
   "execution_count": 4,
   "id": "ae785db1",
   "metadata": {},
   "outputs": [
    {
     "data": {
      "text/plain": [
       "0.028247524900000005"
      ]
     },
     "execution_count": 4,
     "metadata": {},
     "output_type": "execute_result"
    }
   ],
   "source": [
    "stats.binom.pmf(x,n,p) # 0 satış yapma ihtimali"
   ]
  },
  {
   "cell_type": "code",
   "execution_count": 6,
   "id": "4eb3c99d",
   "metadata": {},
   "outputs": [
    {
     "data": {
      "text/plain": [
       "0.9717524751"
      ]
     },
     "execution_count": 6,
     "metadata": {},
     "output_type": "execute_result"
    }
   ],
   "source": [
    "1-(stats.binom.pmf(x,n,p)) # 1 den hiç satış yapmama ihtimalini çıkararak en az 1 tane de olsa satış yapmak ihtimalini buluruz"
   ]
  },
  {
   "cell_type": "markdown",
   "id": "494a9a19",
   "metadata": {},
   "source": [
    "Ten coins are tossed simultaneously. Find the probability of getting\n",
    "(i) at least seven heads\n",
    "(ii) exactly seven heads\n",
    "(iii)at most seven heads\n"
   ]
  },
  {
   "cell_type": "code",
   "execution_count": 7,
   "id": "3dadeef6",
   "metadata": {},
   "outputs": [
    {
     "data": {
      "text/plain": [
       "0.171875"
      ]
     },
     "execution_count": 7,
     "metadata": {},
     "output_type": "execute_result"
    }
   ],
   "source": [
    "#(i) at least seven heads\n",
    "n=10\n",
    "p=0.5\n",
    "x=6\n",
    "1-stats.binom.cdf(x,n,p)"
   ]
  },
  {
   "cell_type": "code",
   "execution_count": 10,
   "id": "8d601f83",
   "metadata": {},
   "outputs": [
    {
     "data": {
      "text/plain": [
       "0.11718750000000014"
      ]
     },
     "execution_count": 10,
     "metadata": {},
     "output_type": "execute_result"
    }
   ],
   "source": [
    "#(ii) exactly seven heads\n",
    "n=10\n",
    "p=0.5\n",
    "x=7\n",
    "stats.binom.pmf(x,n,p)"
   ]
  },
  {
   "cell_type": "code",
   "execution_count": 11,
   "id": "470c2677",
   "metadata": {},
   "outputs": [
    {
     "data": {
      "text/plain": [
       "0.9453125"
      ]
     },
     "execution_count": 11,
     "metadata": {},
     "output_type": "execute_result"
    }
   ],
   "source": [
    "#(iii)at most seven heads\n",
    "n=10\n",
    "p=0.5\n",
    "x=7\n",
    "stats.binom.cdf(x,n,p)"
   ]
  },
  {
   "cell_type": "markdown",
   "id": "e1c1531c",
   "metadata": {},
   "source": [
    "The cycle time for trucks hauling concrete to a highway construction site is uniformly distributed over the interval 50 to 70 minutes. What is the probability that the cycle time exceeds 65 minutes  if it is known that the cycle time exceeds 55 minutes? (Wackerly, Ex.4.51)\n",
    "Bir otoyol inşaat sahasına beton taşıyan kamyonların çevrim süresi, 50 ila 70 dakika arasında eşit olarak dağıtılır. Döngü süresinin 55 dakikayı aştığı biliniyorsa, döngü süresinin 65 dakikayı aşma olasılığı nedir?"
   ]
  },
  {
   "cell_type": "code",
   "execution_count": null,
   "id": "03fae812",
   "metadata": {},
   "outputs": [],
   "source": []
  },
  {
   "cell_type": "markdown",
   "id": "7ed4808a",
   "metadata": {},
   "source": [
    "The width of bolts of fabric is normally distributed with mean 950 mm (millimeters) and standard deviation 10 mm.\n",
    "What is the probability that a randomly chosen bolt has a width of between 947 and 958mm?\n",
    "What is the appropriate value for C such that a randomly chosen bolt has a width less than C with probability .8531? (Wackerly, Ex.4.73)\n",
    "Kumaş cıvatalarının genişliği normal olarak ortalama 950 mm (milimetre) ve standart sapma 10 mm ile dağıtılır.\n",
    "Rastgele seçilen bir cıvatanın genişliğinin 947 ile 958 mm arasında olma olasılığı nedir?\n",
    "Rastgele seçilen bir cıvatanın genişliği C'den küçük olacak ve .8531 olasılıkla C için uygun değer nedir? (Wackerly, Ör.4.73)"
   ]
  },
  {
   "cell_type": "code",
   "execution_count": 14,
   "id": "5b7580e2",
   "metadata": {},
   "outputs": [
    {
     "data": {
      "text/plain": [
       "0.406056023605556"
      ]
     },
     "execution_count": 14,
     "metadata": {},
     "output_type": "execute_result"
    }
   ],
   "source": [
    "#Rastgele seçilen bir cıvatanın genişliğinin 947 ile 958 mm arasında olma olasılığı nedir?\n",
    "mu=950\n",
    "sigma=10\n",
    "x1=947\n",
    "x2=958\n",
    "\n",
    "stats.norm.cdf(x2,mu,sigma)-stats.norm.cdf(x1,mu,sigma)"
   ]
  },
  {
   "cell_type": "code",
   "execution_count": 16,
   "id": "6be4db28",
   "metadata": {},
   "outputs": [
    {
     "data": {
      "text/plain": [
       "960.4982190962642"
      ]
     },
     "execution_count": 16,
     "metadata": {},
     "output_type": "execute_result"
    }
   ],
   "source": [
    "#Rastgele seçilen bir cıvatanın genişliği C'den küçük olacak ve .8531 olasılıkla C için uygun değer nedir?\n",
    "mu=950\n",
    "sigma=10\n",
    "x=.8531\n",
    "stats.norm.ppf(x,mu,sigma)"
   ]
  },
  {
   "cell_type": "markdown",
   "id": "f66f41f0",
   "metadata": {},
   "source": [
    "Suppose scores on exams in statistics are normally distributed with an unknown population mean and a population standard deviation of 3 points. A random sample of 36 scores is taken and gives a sample mean (sample mean score) of 68. Find a confidence interval estimate for the population mean exam score (the mean score on all exams). Find a 90% confidence interval for the true (population) mean of statistics exam scores.\n",
    "\n",
    "İstatistiklerdeki sınav puanlarının normal olarak bilinmeyen bir popülasyon ortalaması ve 3 puanlık bir popülasyon standart sapması ile dağıtıldığını varsayalım. 36 puanlık rastgele bir örnek alınır ve 68'lik bir örnek ortalama (örnek ortalama puanı) verir. Nüfus ortalama sınav puanı (tüm sınavlardaki ortalama puan) için bir güven aralığı tahmini bulun. İstatistik sınavı puanlarının gerçek (nüfus) ortalaması için %90'lık bir güven aralığı bulun.\n"
   ]
  },
  {
   "cell_type": "code",
   "execution_count": 20,
   "id": "38d8209a",
   "metadata": {},
   "outputs": [],
   "source": [
    "sigma=3\n",
    "n=36\n",
    "xbar=68\n",
    "ci=.90\n"
   ]
  },
  {
   "cell_type": "code",
   "execution_count": 21,
   "id": "ae1a0499",
   "metadata": {},
   "outputs": [
    {
     "data": {
      "text/plain": [
       "0.5"
      ]
     },
     "execution_count": 21,
     "metadata": {},
     "output_type": "execute_result"
    }
   ],
   "source": [
    "sem = sigma/np.sqrt(n)\n",
    "sem"
   ]
  },
  {
   "cell_type": "code",
   "execution_count": 22,
   "id": "ab27196e",
   "metadata": {},
   "outputs": [
    {
     "data": {
      "text/plain": [
       "(67.17757318652427, 68.82242681347573)"
      ]
     },
     "execution_count": 22,
     "metadata": {},
     "output_type": "execute_result"
    }
   ],
   "source": [
    "stats.norm.interval(.90,loc=xbar,scale=sem)"
   ]
  },
  {
   "cell_type": "markdown",
   "id": "705206fd",
   "metadata": {},
   "source": [
    "What is the normal body temperature for healthy humans? A random sample of 130 healthy human body temperatures provided by Allen Shoemaker yielded 98.25 degrees and standard deviation 0.73 degrees.\n"
   ]
  },
  {
   "cell_type": "code",
   "execution_count": 24,
   "id": "9624b65b",
   "metadata": {},
   "outputs": [
    {
     "data": {
      "text/plain": [
       "0.06402523540941313"
      ]
     },
     "execution_count": 24,
     "metadata": {},
     "output_type": "execute_result"
    }
   ],
   "source": [
    "#Give a 99% confidence interval for the average body temperature of healthy people.\n",
    "\n",
    "n=130\n",
    "xbar=98.25\n",
    "s=0.73\n",
    "ci=0.99\n",
    "sem=s/np.sqrt(n)\n",
    "sem"
   ]
  },
  {
   "cell_type": "code",
   "execution_count": 25,
   "id": "94a8be80",
   "metadata": {},
   "outputs": [
    {
     "data": {
      "text/plain": [
       "(98.08508192246582, 98.41491807753418)"
      ]
     },
     "execution_count": 25,
     "metadata": {},
     "output_type": "execute_result"
    }
   ],
   "source": [
    "stats.norm.interval(ci,xbar,sem)"
   ]
  },
  {
   "cell_type": "markdown",
   "id": "88fac436",
   "metadata": {},
   "source": [
    "Does the confidence interval obtained in part (a) contain the value 98.6 degrees, the accepted average temperature cited by physicians and others? What conclusions can you draw? (Wackerly, Ex.8.60)\n",
    "(a) bölümünde elde edilen güven aralığı 98.6 derece değerini, doktorlar ve diğerleri tarafından belirtilen kabul edilen ortalama sıcaklığı içeriyor mu? Hangi sonuçlara varabilirsiniz?"
   ]
  },
  {
   "cell_type": "markdown",
   "id": "6be902c7",
   "metadata": {},
   "source": [
    " No, 99% confident interval doesnt contain 98.6 degrees.We might think there is a problem with the sample "
   ]
  }
 ],
 "metadata": {
  "kernelspec": {
   "display_name": "Python 3",
   "language": "python",
   "name": "python3"
  },
  "language_info": {
   "codemirror_mode": {
    "name": "ipython",
    "version": 3
   },
   "file_extension": ".py",
   "mimetype": "text/x-python",
   "name": "python",
   "nbconvert_exporter": "python",
   "pygments_lexer": "ipython3",
   "version": "3.8.8"
  }
 },
 "nbformat": 4,
 "nbformat_minor": 5
}
